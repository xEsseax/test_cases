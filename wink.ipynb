{
  "nbformat": 4,
  "nbformat_minor": 0,
  "metadata": {
    "colab": {
      "provenance": [],
      "toc_visible": true,
      "authorship_tag": "ABX9TyO/GvDJORiEqBSC1Gm+hRis",
      "include_colab_link": true
    },
    "kernelspec": {
      "name": "python3",
      "display_name": "Python 3"
    },
    "language_info": {
      "name": "python"
    }
  },
  "cells": [
    {
      "cell_type": "markdown",
      "metadata": {
        "id": "view-in-github",
        "colab_type": "text"
      },
      "source": [
        "<a href=\"https://colab.research.google.com/github/xEsseax/test_cases/blob/main/wink.ipynb\" target=\"_parent\"><img src=\"https://colab.research.google.com/assets/colab-badge.svg\" alt=\"Open In Colab\"/></a>"
      ]
    },
    {
      "cell_type": "markdown",
      "source": [
        "! ДОПИСАТЬ ВВЕДЕНИЕ"
      ],
      "metadata": {
        "id": "TPApu2sXjTuh"
      }
    },
    {
      "cell_type": "markdown",
      "source": [
        "# Введение"
      ],
      "metadata": {
        "id": "aXctky30dSzp"
      }
    },
    {
      "cell_type": "markdown",
      "source": [
        "Анализ выполнен в рамках тестового задания в команду Wink.\n",
        "\n",
        "В нашем распоряжении данные продаж некой производственной фармацевтической компании, а также данные о количестве диагностированных пациентов. Данные неидеальны.\n",
        "\n",
        "Задача: обработать данные и выбрать наиболее важные выводы для демонстрации бизнесу. Ограничений по метрикам по условиям ТЗ нет.\n",
        "\n",
        "Предварительный план:\n",
        "1. Чтение и предварительный обзор данных. Изучение датасета на предмет наличия пропусков\n",
        "2."
      ],
      "metadata": {
        "id": "PlGCNZPPdZuv"
      }
    },
    {
      "cell_type": "markdown",
      "source": [
        "# Технический раздел"
      ],
      "metadata": {
        "id": "cBC-EFlIdKjA"
      }
    },
    {
      "cell_type": "code",
      "execution_count": 76,
      "metadata": {
        "id": "4tS9cyC3dDEu"
      },
      "outputs": [],
      "source": [
        "import pandas as pd\n",
        "import matplotlib.pyplot as plt\n",
        "import seaborn as sns\n",
        "from datetime import datetime"
      ]
    },
    {
      "cell_type": "code",
      "source": [
        "!pip install --upgrade matplotlib -q"
      ],
      "metadata": {
        "colab": {
          "base_uri": "https://localhost:8080/"
        },
        "id": "89mtZs7DZv7C",
        "outputId": "400ded79-eecd-43dc-d9c8-4564147c50aa"
      },
      "execution_count": 2,
      "outputs": [
        {
          "output_type": "stream",
          "name": "stdout",
          "text": [
            "\u001b[2K     \u001b[90m━━━━━━━━━━━━━━━━━━━━━━━━━━━━━━━━━━━━━━━━\u001b[0m \u001b[32m11.6/11.6 MB\u001b[0m \u001b[31m74.3 MB/s\u001b[0m eta \u001b[36m0:00:00\u001b[0m\n",
            "\u001b[?25h"
          ]
        }
      ]
    },
    {
      "cell_type": "code",
      "source": [
        "# функция для отрисовки распределения значений в одном столбце\n",
        "def column_draw(data, column):\n",
        "  data[column].hist()\n",
        "  plt.title(data[column].name)\n",
        "  plt.xlabel('meaning')\n",
        "  plt.ylabel('quantity')\n",
        "  plt.show()"
      ],
      "metadata": {
        "id": "_cr9D3_Muhkk"
      },
      "execution_count": 3,
      "outputs": []
    },
    {
      "cell_type": "code",
      "source": [
        "# функция для вывода описательной информации столбца\n",
        "def column_describe(data, column):\n",
        "  print(f'Количество уникальных значений = {len(data[column].unique())}')\n",
        "  print()\n",
        "  print('Количество значений в стоблце:')\n",
        "  print(data[column].value_counts())"
      ],
      "metadata": {
        "id": "xsWdG5ao6CGO"
      },
      "execution_count": 4,
      "outputs": []
    },
    {
      "cell_type": "code",
      "source": [
        "#функция для преобразования дат в datetime с учётом наличия различий в формате записи\n",
        "def date_transformer(row):\n",
        "  try:\n",
        "    return pd.to_datetime(row['Date'], format='%Y-%m-%d %H:%M:%S')\n",
        "  except:\n",
        "    return pd.to_datetime(row['Date'], format='%d/%m/%Y %H:%M:%S')\n"
      ],
      "metadata": {
        "id": "9Q3v5KI9mgnj"
      },
      "execution_count": 5,
      "outputs": []
    },
    {
      "cell_type": "markdown",
      "source": [
        "# Чтение и предварительный обзор данных"
      ],
      "metadata": {
        "id": "cq_ctSbWjbGO"
      }
    },
    {
      "cell_type": "markdown",
      "source": [
        "# Данные по продажам"
      ],
      "metadata": {
        "id": "UE7dh0WO9_tE"
      }
    },
    {
      "cell_type": "code",
      "source": [
        "sales = pd.read_excel('Russia Data Analyst Data Set_original (1).xlsx', sheet_name='Sales')"
      ],
      "metadata": {
        "id": "2kxTQwUydRSL"
      },
      "execution_count": 6,
      "outputs": []
    },
    {
      "cell_type": "code",
      "source": [
        "# предварительный обзор структуры датасета\n",
        "sales.head()"
      ],
      "metadata": {
        "colab": {
          "base_uri": "https://localhost:8080/",
          "height": 206
        },
        "id": "Pv-4izO4jub6",
        "outputId": "4c4ed0e8-fab6-4f9d-ec11-3dddb9894e8b"
      },
      "execution_count": 7,
      "outputs": [
        {
          "output_type": "execute_result",
          "data": {
            "text/plain": [
              "  Product Family Product Customer Business Unit Currency                 Date  \\\n",
              "0           FAM1    Prd1    Cust1           NaN    M.CHF  2019-05-02 00:00:00   \n",
              "1           FAM1    Prd1    Cust1           NaN    M.CHF  28/02/2019 00:00:00   \n",
              "2           FAM1    Prd1    Cust1           NaN    M.CHF  29/03/2019 00:00:00   \n",
              "3           FAM1    Prd1    Cust1           NaN    M.CHF  31/03/2019 00:00:00   \n",
              "4           FAM1    Prd1    Cust1           NaN    M.CHF  15/04/2019 00:00:00   \n",
              "\n",
              "    Sales  \n",
              "0  473885  \n",
              "1  -23694  \n",
              "2   23694  \n",
              "3  -23694  \n",
              "4  -23694  "
            ],
            "text/html": [
              "\n",
              "  <div id=\"df-3b25523f-218f-435c-83b7-4467f07a9560\" class=\"colab-df-container\">\n",
              "    <div>\n",
              "<style scoped>\n",
              "    .dataframe tbody tr th:only-of-type {\n",
              "        vertical-align: middle;\n",
              "    }\n",
              "\n",
              "    .dataframe tbody tr th {\n",
              "        vertical-align: top;\n",
              "    }\n",
              "\n",
              "    .dataframe thead th {\n",
              "        text-align: right;\n",
              "    }\n",
              "</style>\n",
              "<table border=\"1\" class=\"dataframe\">\n",
              "  <thead>\n",
              "    <tr style=\"text-align: right;\">\n",
              "      <th></th>\n",
              "      <th>Product Family</th>\n",
              "      <th>Product</th>\n",
              "      <th>Customer</th>\n",
              "      <th>Business Unit</th>\n",
              "      <th>Currency</th>\n",
              "      <th>Date</th>\n",
              "      <th>Sales</th>\n",
              "    </tr>\n",
              "  </thead>\n",
              "  <tbody>\n",
              "    <tr>\n",
              "      <th>0</th>\n",
              "      <td>FAM1</td>\n",
              "      <td>Prd1</td>\n",
              "      <td>Cust1</td>\n",
              "      <td>NaN</td>\n",
              "      <td>M.CHF</td>\n",
              "      <td>2019-05-02 00:00:00</td>\n",
              "      <td>473885</td>\n",
              "    </tr>\n",
              "    <tr>\n",
              "      <th>1</th>\n",
              "      <td>FAM1</td>\n",
              "      <td>Prd1</td>\n",
              "      <td>Cust1</td>\n",
              "      <td>NaN</td>\n",
              "      <td>M.CHF</td>\n",
              "      <td>28/02/2019 00:00:00</td>\n",
              "      <td>-23694</td>\n",
              "    </tr>\n",
              "    <tr>\n",
              "      <th>2</th>\n",
              "      <td>FAM1</td>\n",
              "      <td>Prd1</td>\n",
              "      <td>Cust1</td>\n",
              "      <td>NaN</td>\n",
              "      <td>M.CHF</td>\n",
              "      <td>29/03/2019 00:00:00</td>\n",
              "      <td>23694</td>\n",
              "    </tr>\n",
              "    <tr>\n",
              "      <th>3</th>\n",
              "      <td>FAM1</td>\n",
              "      <td>Prd1</td>\n",
              "      <td>Cust1</td>\n",
              "      <td>NaN</td>\n",
              "      <td>M.CHF</td>\n",
              "      <td>31/03/2019 00:00:00</td>\n",
              "      <td>-23694</td>\n",
              "    </tr>\n",
              "    <tr>\n",
              "      <th>4</th>\n",
              "      <td>FAM1</td>\n",
              "      <td>Prd1</td>\n",
              "      <td>Cust1</td>\n",
              "      <td>NaN</td>\n",
              "      <td>M.CHF</td>\n",
              "      <td>15/04/2019 00:00:00</td>\n",
              "      <td>-23694</td>\n",
              "    </tr>\n",
              "  </tbody>\n",
              "</table>\n",
              "</div>\n",
              "    <div class=\"colab-df-buttons\">\n",
              "\n",
              "  <div class=\"colab-df-container\">\n",
              "    <button class=\"colab-df-convert\" onclick=\"convertToInteractive('df-3b25523f-218f-435c-83b7-4467f07a9560')\"\n",
              "            title=\"Convert this dataframe to an interactive table.\"\n",
              "            style=\"display:none;\">\n",
              "\n",
              "  <svg xmlns=\"http://www.w3.org/2000/svg\" height=\"24px\" viewBox=\"0 -960 960 960\">\n",
              "    <path d=\"M120-120v-720h720v720H120Zm60-500h600v-160H180v160Zm220 220h160v-160H400v160Zm0 220h160v-160H400v160ZM180-400h160v-160H180v160Zm440 0h160v-160H620v160ZM180-180h160v-160H180v160Zm440 0h160v-160H620v160Z\"/>\n",
              "  </svg>\n",
              "    </button>\n",
              "\n",
              "  <style>\n",
              "    .colab-df-container {\n",
              "      display:flex;\n",
              "      gap: 12px;\n",
              "    }\n",
              "\n",
              "    .colab-df-convert {\n",
              "      background-color: #E8F0FE;\n",
              "      border: none;\n",
              "      border-radius: 50%;\n",
              "      cursor: pointer;\n",
              "      display: none;\n",
              "      fill: #1967D2;\n",
              "      height: 32px;\n",
              "      padding: 0 0 0 0;\n",
              "      width: 32px;\n",
              "    }\n",
              "\n",
              "    .colab-df-convert:hover {\n",
              "      background-color: #E2EBFA;\n",
              "      box-shadow: 0px 1px 2px rgba(60, 64, 67, 0.3), 0px 1px 3px 1px rgba(60, 64, 67, 0.15);\n",
              "      fill: #174EA6;\n",
              "    }\n",
              "\n",
              "    .colab-df-buttons div {\n",
              "      margin-bottom: 4px;\n",
              "    }\n",
              "\n",
              "    [theme=dark] .colab-df-convert {\n",
              "      background-color: #3B4455;\n",
              "      fill: #D2E3FC;\n",
              "    }\n",
              "\n",
              "    [theme=dark] .colab-df-convert:hover {\n",
              "      background-color: #434B5C;\n",
              "      box-shadow: 0px 1px 3px 1px rgba(0, 0, 0, 0.15);\n",
              "      filter: drop-shadow(0px 1px 2px rgba(0, 0, 0, 0.3));\n",
              "      fill: #FFFFFF;\n",
              "    }\n",
              "  </style>\n",
              "\n",
              "    <script>\n",
              "      const buttonEl =\n",
              "        document.querySelector('#df-3b25523f-218f-435c-83b7-4467f07a9560 button.colab-df-convert');\n",
              "      buttonEl.style.display =\n",
              "        google.colab.kernel.accessAllowed ? 'block' : 'none';\n",
              "\n",
              "      async function convertToInteractive(key) {\n",
              "        const element = document.querySelector('#df-3b25523f-218f-435c-83b7-4467f07a9560');\n",
              "        const dataTable =\n",
              "          await google.colab.kernel.invokeFunction('convertToInteractive',\n",
              "                                                    [key], {});\n",
              "        if (!dataTable) return;\n",
              "\n",
              "        const docLinkHtml = 'Like what you see? Visit the ' +\n",
              "          '<a target=\"_blank\" href=https://colab.research.google.com/notebooks/data_table.ipynb>data table notebook</a>'\n",
              "          + ' to learn more about interactive tables.';\n",
              "        element.innerHTML = '';\n",
              "        dataTable['output_type'] = 'display_data';\n",
              "        await google.colab.output.renderOutput(dataTable, element);\n",
              "        const docLink = document.createElement('div');\n",
              "        docLink.innerHTML = docLinkHtml;\n",
              "        element.appendChild(docLink);\n",
              "      }\n",
              "    </script>\n",
              "  </div>\n",
              "\n",
              "\n",
              "<div id=\"df-1ea289dc-1b95-4f02-a0f6-4d194eb31db8\">\n",
              "  <button class=\"colab-df-quickchart\" onclick=\"quickchart('df-1ea289dc-1b95-4f02-a0f6-4d194eb31db8')\"\n",
              "            title=\"Suggest charts.\"\n",
              "            style=\"display:none;\">\n",
              "\n",
              "<svg xmlns=\"http://www.w3.org/2000/svg\" height=\"24px\"viewBox=\"0 0 24 24\"\n",
              "     width=\"24px\">\n",
              "    <g>\n",
              "        <path d=\"M19 3H5c-1.1 0-2 .9-2 2v14c0 1.1.9 2 2 2h14c1.1 0 2-.9 2-2V5c0-1.1-.9-2-2-2zM9 17H7v-7h2v7zm4 0h-2V7h2v10zm4 0h-2v-4h2v4z\"/>\n",
              "    </g>\n",
              "</svg>\n",
              "  </button>\n",
              "\n",
              "<style>\n",
              "  .colab-df-quickchart {\n",
              "      --bg-color: #E8F0FE;\n",
              "      --fill-color: #1967D2;\n",
              "      --hover-bg-color: #E2EBFA;\n",
              "      --hover-fill-color: #174EA6;\n",
              "      --disabled-fill-color: #AAA;\n",
              "      --disabled-bg-color: #DDD;\n",
              "  }\n",
              "\n",
              "  [theme=dark] .colab-df-quickchart {\n",
              "      --bg-color: #3B4455;\n",
              "      --fill-color: #D2E3FC;\n",
              "      --hover-bg-color: #434B5C;\n",
              "      --hover-fill-color: #FFFFFF;\n",
              "      --disabled-bg-color: #3B4455;\n",
              "      --disabled-fill-color: #666;\n",
              "  }\n",
              "\n",
              "  .colab-df-quickchart {\n",
              "    background-color: var(--bg-color);\n",
              "    border: none;\n",
              "    border-radius: 50%;\n",
              "    cursor: pointer;\n",
              "    display: none;\n",
              "    fill: var(--fill-color);\n",
              "    height: 32px;\n",
              "    padding: 0;\n",
              "    width: 32px;\n",
              "  }\n",
              "\n",
              "  .colab-df-quickchart:hover {\n",
              "    background-color: var(--hover-bg-color);\n",
              "    box-shadow: 0 1px 2px rgba(60, 64, 67, 0.3), 0 1px 3px 1px rgba(60, 64, 67, 0.15);\n",
              "    fill: var(--button-hover-fill-color);\n",
              "  }\n",
              "\n",
              "  .colab-df-quickchart-complete:disabled,\n",
              "  .colab-df-quickchart-complete:disabled:hover {\n",
              "    background-color: var(--disabled-bg-color);\n",
              "    fill: var(--disabled-fill-color);\n",
              "    box-shadow: none;\n",
              "  }\n",
              "\n",
              "  .colab-df-spinner {\n",
              "    border: 2px solid var(--fill-color);\n",
              "    border-color: transparent;\n",
              "    border-bottom-color: var(--fill-color);\n",
              "    animation:\n",
              "      spin 1s steps(1) infinite;\n",
              "  }\n",
              "\n",
              "  @keyframes spin {\n",
              "    0% {\n",
              "      border-color: transparent;\n",
              "      border-bottom-color: var(--fill-color);\n",
              "      border-left-color: var(--fill-color);\n",
              "    }\n",
              "    20% {\n",
              "      border-color: transparent;\n",
              "      border-left-color: var(--fill-color);\n",
              "      border-top-color: var(--fill-color);\n",
              "    }\n",
              "    30% {\n",
              "      border-color: transparent;\n",
              "      border-left-color: var(--fill-color);\n",
              "      border-top-color: var(--fill-color);\n",
              "      border-right-color: var(--fill-color);\n",
              "    }\n",
              "    40% {\n",
              "      border-color: transparent;\n",
              "      border-right-color: var(--fill-color);\n",
              "      border-top-color: var(--fill-color);\n",
              "    }\n",
              "    60% {\n",
              "      border-color: transparent;\n",
              "      border-right-color: var(--fill-color);\n",
              "    }\n",
              "    80% {\n",
              "      border-color: transparent;\n",
              "      border-right-color: var(--fill-color);\n",
              "      border-bottom-color: var(--fill-color);\n",
              "    }\n",
              "    90% {\n",
              "      border-color: transparent;\n",
              "      border-bottom-color: var(--fill-color);\n",
              "    }\n",
              "  }\n",
              "</style>\n",
              "\n",
              "  <script>\n",
              "    async function quickchart(key) {\n",
              "      const quickchartButtonEl =\n",
              "        document.querySelector('#' + key + ' button');\n",
              "      quickchartButtonEl.disabled = true;  // To prevent multiple clicks.\n",
              "      quickchartButtonEl.classList.add('colab-df-spinner');\n",
              "      try {\n",
              "        const charts = await google.colab.kernel.invokeFunction(\n",
              "            'suggestCharts', [key], {});\n",
              "      } catch (error) {\n",
              "        console.error('Error during call to suggestCharts:', error);\n",
              "      }\n",
              "      quickchartButtonEl.classList.remove('colab-df-spinner');\n",
              "      quickchartButtonEl.classList.add('colab-df-quickchart-complete');\n",
              "    }\n",
              "    (() => {\n",
              "      let quickchartButtonEl =\n",
              "        document.querySelector('#df-1ea289dc-1b95-4f02-a0f6-4d194eb31db8 button');\n",
              "      quickchartButtonEl.style.display =\n",
              "        google.colab.kernel.accessAllowed ? 'block' : 'none';\n",
              "    })();\n",
              "  </script>\n",
              "</div>\n",
              "    </div>\n",
              "  </div>\n"
            ]
          },
          "metadata": {},
          "execution_count": 7
        }
      ]
    },
    {
      "cell_type": "code",
      "source": [
        "# количество и тип данных\n",
        "sales.info()"
      ],
      "metadata": {
        "colab": {
          "base_uri": "https://localhost:8080/"
        },
        "id": "SVwR8Mv_juVd",
        "outputId": "dac0c3e2-2261-40bd-b6a8-9285705c2109"
      },
      "execution_count": 8,
      "outputs": [
        {
          "output_type": "stream",
          "name": "stdout",
          "text": [
            "<class 'pandas.core.frame.DataFrame'>\n",
            "RangeIndex: 5576 entries, 0 to 5575\n",
            "Data columns (total 7 columns):\n",
            " #   Column          Non-Null Count  Dtype \n",
            "---  ------          --------------  ----- \n",
            " 0   Product Family  5576 non-null   object\n",
            " 1   Product         5576 non-null   object\n",
            " 2   Customer        5576 non-null   object\n",
            " 3   Business Unit   3072 non-null   object\n",
            " 4   Currency        5576 non-null   object\n",
            " 5   Date            5576 non-null   object\n",
            " 6   Sales           5576 non-null   int64 \n",
            "dtypes: int64(1), object(6)\n",
            "memory usage: 305.1+ KB\n"
          ]
        }
      ]
    },
    {
      "cell_type": "markdown",
      "source": [
        "Итого, у нас пять с половиной тысяч строк, 7 столбцов, 1 - с числовым типом данных, остальные - строковые. В столбце Business Unit почти 40 процентов явных пропусков.\n",
        "\n",
        "Дальше посмотрим отдельно на каждый столбец"
      ],
      "metadata": {
        "id": "UOH_HDn0oZOs"
      }
    },
    {
      "cell_type": "markdown",
      "source": [
        "## Product Family"
      ],
      "metadata": {
        "id": "t3vsNy1Kr0sd"
      }
    },
    {
      "cell_type": "code",
      "source": [
        "plt.figure(figsize=(12, 4), layout=\"constrained\")\n",
        "column_draw(sales, 'Product Family')"
      ],
      "metadata": {
        "colab": {
          "base_uri": "https://localhost:8080/",
          "height": 425
        },
        "id": "E8hl3u2vuWAY",
        "outputId": "74d92059-4c43-46d1-868e-04c448d7d137"
      },
      "execution_count": 9,
      "outputs": [
        {
          "output_type": "display_data",
          "data": {
            "text/plain": [
              "<Figure size 1200x400 with 1 Axes>"
            ],
            "image/png": "[encoded data removed]"
          },
          "metadata": {}
        }
      ]
    },
    {
      "cell_type": "markdown",
      "source": [
        "Попусков нет, признак категориальный. У нас 24 категории продуктов. Из гистограммы видно, что самые популярные в данных группы - 11 и 12 (суммарно чуть больше 40 процентов всех данных), наименее популярные - 4, 5, 20 и 21."
      ],
      "metadata": {
        "id": "pzilgvPvyGnX"
      }
    },
    {
      "cell_type": "markdown",
      "source": [
        "# Product"
      ],
      "metadata": {
        "id": "c3rNSJn704aP"
      }
    },
    {
      "cell_type": "markdown",
      "source": [
        "Предполагается, что это вид продукта, категориальный признак. Гистограмму строить не будем - скорее всего здесь много вариантов значений. Проверяем:"
      ],
      "metadata": {
        "id": "Zw_EF_L7087h"
      }
    },
    {
      "cell_type": "code",
      "source": [
        "column_describe(sales, 'Product')"
      ],
      "metadata": {
        "colab": {
          "base_uri": "https://localhost:8080/"
        },
        "id": "3yndQJvS6WT0",
        "outputId": "a705a29f-7691-4e7b-d5a2-f973a12c1538"
      },
      "execution_count": 10,
      "outputs": [
        {
          "output_type": "stream",
          "name": "stdout",
          "text": [
            "Количество уникальных значений = 56\n",
            "\n",
            "Количество значений в стоблце:\n",
            "Prd17    382\n",
            "Prd32    298\n",
            "Prd33    292\n",
            "Prd27    264\n",
            "Prd45    248\n",
            "Prd30    236\n",
            "Prd53    230\n",
            "Prd44    218\n",
            "Prd4     192\n",
            "Prd46    184\n",
            "Prd31    184\n",
            "Prd37    182\n",
            "Prd42    180\n",
            "Prd43    174\n",
            "Prd48    170\n",
            "Prd47    166\n",
            "Prd9     166\n",
            "Prd19    102\n",
            "Prd28     80\n",
            "Prd11     80\n",
            "Prd22     78\n",
            "Prd10     78\n",
            "Prd24     76\n",
            "Prd26     76\n",
            "Prd14     76\n",
            "Prd8      74\n",
            "Prd36     74\n",
            "Prd38     72\n",
            "Prd20     66\n",
            "Prd34     64\n",
            "Prd35     62\n",
            "Prd16     60\n",
            "Prd1      58\n",
            "Prd2      58\n",
            "Prd13     56\n",
            "Prd40     54\n",
            "Prd15     52\n",
            "Prd54     52\n",
            "Prd55     50\n",
            "Prd21     48\n",
            "Prd18     46\n",
            "Prd12     44\n",
            "Prd39     36\n",
            "Prd56     32\n",
            "Prd41     24\n",
            "Prd25     18\n",
            "Prd7      18\n",
            "Prd5      10\n",
            "Prd3       8\n",
            "Prd52      6\n",
            "Prd23      4\n",
            "Prd49      4\n",
            "Prd50      4\n",
            "Prd51      4\n",
            "Prd29      4\n",
            "Prd6       2\n",
            "Name: Product, dtype: int64\n"
          ]
        }
      ]
    },
    {
      "cell_type": "markdown",
      "source": [
        "Итого, у нас 56 разных продуктов, явных пропусков нет, неявных - тоже. Есть как продукты, которые значительно представлены в выборке (более ста строк), так и те, которые представлены в единичных объёмах. Вопрос о репрезентативности статистики по таким продуктам будем рассматривать в соответствующем разделе, здесь же ограничимся пока кратким обзором."
      ],
      "metadata": {
        "id": "4wO42J1R4lf-"
      }
    },
    {
      "cell_type": "markdown",
      "source": [
        "## Customer"
      ],
      "metadata": {
        "id": "oLtt_GmU5KVJ"
      }
    },
    {
      "cell_type": "markdown",
      "source": [
        "Категориальный признак с идентификатором покупателя. Предполагаем здесь большое количество разных значений, обзорную гистограмму тоже не будем строить."
      ],
      "metadata": {
        "id": "MZFufqG35NWR"
      }
    },
    {
      "cell_type": "code",
      "source": [
        "column_describe(sales, 'Customer')"
      ],
      "metadata": {
        "colab": {
          "base_uri": "https://localhost:8080/"
        },
        "id": "222tQNQR6rlj",
        "outputId": "27e2f450-3eed-408c-a987-d956410f0aab"
      },
      "execution_count": 11,
      "outputs": [
        {
          "output_type": "stream",
          "name": "stdout",
          "text": [
            "Количество уникальных значений = 37\n",
            "\n",
            "Количество значений в стоблце:\n",
            "Cust12    1016\n",
            "Cust29     672\n",
            "Cust27     546\n",
            "Cust3      496\n",
            "Cust30     486\n",
            "Cust23     322\n",
            "Cust5      286\n",
            "Cust7      214\n",
            "Cust17     192\n",
            "Cust9      172\n",
            "Cust6      154\n",
            "Cust1      144\n",
            "Cust28     122\n",
            "Cust24      98\n",
            "Cust10      96\n",
            "Cust4       90\n",
            "Cust11      64\n",
            "Cust25      62\n",
            "Cust26      60\n",
            "Cust2       48\n",
            "Cust34      40\n",
            "Cust35      36\n",
            "Cust31      34\n",
            "Cust37      32\n",
            "Cust22      16\n",
            "Cust15      16\n",
            "Cust21      14\n",
            "Cust19      12\n",
            "Cust8       10\n",
            "Cust20       6\n",
            "Cust18       4\n",
            "Cust16       4\n",
            "Cust13       4\n",
            "Cust14       2\n",
            "Cust32       2\n",
            "Cust33       2\n",
            "Cust36       2\n",
            "Name: Customer, dtype: int64\n"
          ]
        }
      ]
    },
    {
      "cell_type": "markdown",
      "source": [
        "Итого, у нас 37 уникальных покупателей, среди них есть как очень крупный (более тысячи покупок, возможно поставщик), так и постоянные клиенты (несколько сотен покупок), а также покупатели с разовыми покупками. Вероятно, при проведении исследовательского анализа можно будет разбить покупателей по группам, ориентируясь на количество покупок."
      ],
      "metadata": {
        "id": "1y6pIoqcAolb"
      }
    },
    {
      "cell_type": "markdown",
      "source": [
        "## Business Unit"
      ],
      "metadata": {
        "id": "ohpCqTF4BT2Z"
      }
    },
    {
      "cell_type": "markdown",
      "source": [
        "Бизнес-единица - вероятно, дочерние компании. Предполагаем, что это качественный признак. Посмотрим на вариативность значений в этом столбце:"
      ],
      "metadata": {
        "id": "qvoExMPpBYio"
      }
    },
    {
      "cell_type": "code",
      "source": [
        "column_draw(sales, 'Business Unit')"
      ],
      "metadata": {
        "colab": {
          "base_uri": "https://localhost:8080/",
          "height": 472
        },
        "id": "oVQSkqnTOiNA",
        "outputId": "2ac013e2-bb7c-4e7a-b04f-2d77a3a744db"
      },
      "execution_count": 12,
      "outputs": [
        {
          "output_type": "display_data",
          "data": {
            "text/plain": [
              "<Figure size 640x480 with 1 Axes>"
            ],
            "image/png": "[encoded data removed]"
          },
          "metadata": {}
        }
      ]
    },
    {
      "cell_type": "markdown",
      "source": [
        "Около половины датасета - Speciality Business, порядка 13 процентов - Онкология. Столбцец содержит пропуски. Предполагаем, что пропуск в данном случае соответствует ситуации, когда продажи были совершены напрямую компанией. Для удобства дальнейшей работы с данными заполняем пропуски заглушкой - пусть таким ситуациям соответствует значение \"Head\""
      ],
      "metadata": {
        "id": "xscFcU8dPhhy"
      }
    },
    {
      "cell_type": "code",
      "source": [
        "sales['Business Unit'] = sales['Business Unit'].fillna('Head')"
      ],
      "metadata": {
        "id": "F1k4eiOwSSgJ"
      },
      "execution_count": 13,
      "outputs": []
    },
    {
      "cell_type": "markdown",
      "source": [
        "Итого знаем, что чуть больше половины всех продах имеющейся выборки совершены напрямую компанией."
      ],
      "metadata": {
        "id": "0fuhwMzX5HEy"
      }
    },
    {
      "cell_type": "markdown",
      "source": [
        "# Currency"
      ],
      "metadata": {
        "id": "IcojW1BQXTVN"
      }
    },
    {
      "cell_type": "markdown",
      "source": [
        "Предположительно валюта, в которой был произведён расчёт. Посмотрим на значения:"
      ],
      "metadata": {
        "id": "JqcVyAS1XaO2"
      }
    },
    {
      "cell_type": "code",
      "source": [
        "column_draw(sales, 'Currency')"
      ],
      "metadata": {
        "colab": {
          "base_uri": "https://localhost:8080/",
          "height": 472
        },
        "id": "98uz8sCvXsNV",
        "outputId": "9bc861ca-eccb-4d44-b017-b7d14d5b7c7c"
      },
      "execution_count": 14,
      "outputs": [
        {
          "output_type": "display_data",
          "data": {
            "text/plain": [
              "<Figure size 640x480 with 1 Axes>"
            ],
            "image/png": "[encoded data removed]"
          },
          "metadata": {}
        }
      ]
    },
    {
      "cell_type": "markdown",
      "source": [
        "Итого, у нас две валюты - российские рубли и швейцарские франки. Необходимо будет это учесть при сравнительном анализе, вычислении метрик и тд."
      ],
      "metadata": {
        "id": "KFEnH5eJX1nQ"
      }
    },
    {
      "cell_type": "markdown",
      "source": [
        "# Date"
      ],
      "metadata": {
        "id": "_Fq55wGEbFww"
      }
    },
    {
      "cell_type": "markdown",
      "source": [
        "Следующий столбец хранит информацию о дате совершения сделки. Посмотрим на диапазон, покрывающийся имеющейся выборкой. Для удобства дальнейшей работы сначала преобразуем данные в более корректный формат. Посмотрим снова визуально на даты:"
      ],
      "metadata": {
        "id": "IEjvE2jsbHdw"
      }
    },
    {
      "cell_type": "code",
      "source": [
        "sales.head()"
      ],
      "metadata": {
        "colab": {
          "base_uri": "https://localhost:8080/",
          "height": 206
        },
        "id": "1oV-PWpkc5Jj",
        "outputId": "d38a3f07-4fe5-4f8e-ad5c-8c71db3ee6d1"
      },
      "execution_count": 15,
      "outputs": [
        {
          "output_type": "execute_result",
          "data": {
            "text/plain": [
              "  Product Family Product Customer Business Unit Currency                 Date  \\\n",
              "0           FAM1    Prd1    Cust1          Head    M.CHF  2019-05-02 00:00:00   \n",
              "1           FAM1    Prd1    Cust1          Head    M.CHF  28/02/2019 00:00:00   \n",
              "2           FAM1    Prd1    Cust1          Head    M.CHF  29/03/2019 00:00:00   \n",
              "3           FAM1    Prd1    Cust1          Head    M.CHF  31/03/2019 00:00:00   \n",
              "4           FAM1    Prd1    Cust1          Head    M.CHF  15/04/2019 00:00:00   \n",
              "\n",
              "    Sales  \n",
              "0  473885  \n",
              "1  -23694  \n",
              "2   23694  \n",
              "3  -23694  \n",
              "4  -23694  "
            ],
            "text/html": [
              "\n",
              "  <div id=\"df-0f742692-961e-489b-9cec-b59da286e06c\" class=\"colab-df-container\">\n",
              "    <div>\n",
              "<style scoped>\n",
              "    .dataframe tbody tr th:only-of-type {\n",
              "        vertical-align: middle;\n",
              "    }\n",
              "\n",
              "    .dataframe tbody tr th {\n",
              "        vertical-align: top;\n",
              "    }\n",
              "\n",
              "    .dataframe thead th {\n",
              "        text-align: right;\n",
              "    }\n",
              "</style>\n",
              "<table border=\"1\" class=\"dataframe\">\n",
              "  <thead>\n",
              "    <tr style=\"text-align: right;\">\n",
              "      <th></th>\n",
              "      <th>Product Family</th>\n",
              "      <th>Product</th>\n",
              "      <th>Customer</th>\n",
              "      <th>Business Unit</th>\n",
              "      <th>Currency</th>\n",
              "      <th>Date</th>\n",
              "      <th>Sales</th>\n",
              "    </tr>\n",
              "  </thead>\n",
              "  <tbody>\n",
              "    <tr>\n",
              "      <th>0</th>\n",
              "      <td>FAM1</td>\n",
              "      <td>Prd1</td>\n",
              "      <td>Cust1</td>\n",
              "      <td>Head</td>\n",
              "      <td>M.CHF</td>\n",
              "      <td>2019-05-02 00:00:00</td>\n",
              "      <td>473885</td>\n",
              "    </tr>\n",
              "    <tr>\n",
              "      <th>1</th>\n",
              "      <td>FAM1</td>\n",
              "      <td>Prd1</td>\n",
              "      <td>Cust1</td>\n",
              "      <td>Head</td>\n",
              "      <td>M.CHF</td>\n",
              "      <td>28/02/2019 00:00:00</td>\n",
              "      <td>-23694</td>\n",
              "    </tr>\n",
              "    <tr>\n",
              "      <th>2</th>\n",
              "      <td>FAM1</td>\n",
              "      <td>Prd1</td>\n",
              "      <td>Cust1</td>\n",
              "      <td>Head</td>\n",
              "      <td>M.CHF</td>\n",
              "      <td>29/03/2019 00:00:00</td>\n",
              "      <td>23694</td>\n",
              "    </tr>\n",
              "    <tr>\n",
              "      <th>3</th>\n",
              "      <td>FAM1</td>\n",
              "      <td>Prd1</td>\n",
              "      <td>Cust1</td>\n",
              "      <td>Head</td>\n",
              "      <td>M.CHF</td>\n",
              "      <td>31/03/2019 00:00:00</td>\n",
              "      <td>-23694</td>\n",
              "    </tr>\n",
              "    <tr>\n",
              "      <th>4</th>\n",
              "      <td>FAM1</td>\n",
              "      <td>Prd1</td>\n",
              "      <td>Cust1</td>\n",
              "      <td>Head</td>\n",
              "      <td>M.CHF</td>\n",
              "      <td>15/04/2019 00:00:00</td>\n",
              "      <td>-23694</td>\n",
              "    </tr>\n",
              "  </tbody>\n",
              "</table>\n",
              "</div>\n",
              "    <div class=\"colab-df-buttons\">\n",
              "\n",
              "  <div class=\"colab-df-container\">\n",
              "    <button class=\"colab-df-convert\" onclick=\"convertToInteractive('df-0f742692-961e-489b-9cec-b59da286e06c')\"\n",
              "            title=\"Convert this dataframe to an interactive table.\"\n",
              "            style=\"display:none;\">\n",
              "\n",
              "  <svg xmlns=\"http://www.w3.org/2000/svg\" height=\"24px\" viewBox=\"0 -960 960 960\">\n",
              "    <path d=\"M120-120v-720h720v720H120Zm60-500h600v-160H180v160Zm220 220h160v-160H400v160Zm0 220h160v-160H400v160ZM180-400h160v-160H180v160Zm440 0h160v-160H620v160ZM180-180h160v-160H180v160Zm440 0h160v-160H620v160Z\"/>\n",
              "  </svg>\n",
              "    </button>\n",
              "\n",
              "  <style>\n",
              "    .colab-df-container {\n",
              "      display:flex;\n",
              "      gap: 12px;\n",
              "    }\n",
              "\n",
              "    .colab-df-convert {\n",
              "      background-color: #E8F0FE;\n",
              "      border: none;\n",
              "      border-radius: 50%;\n",
              "      cursor: pointer;\n",
              "      display: none;\n",
              "      fill: #1967D2;\n",
              "      height: 32px;\n",
              "      padding: 0 0 0 0;\n",
              "      width: 32px;\n",
              "    }\n",
              "\n",
              "    .colab-df-convert:hover {\n",
              "      background-color: #E2EBFA;\n",
              "      box-shadow: 0px 1px 2px rgba(60, 64, 67, 0.3), 0px 1px 3px 1px rgba(60, 64, 67, 0.15);\n",
              "      fill: #174EA6;\n",
              "    }\n",
              "\n",
              "    .colab-df-buttons div {\n",
              "      margin-bottom: 4px;\n",
              "    }\n",
              "\n",
              "    [theme=dark] .colab-df-convert {\n",
              "      background-color: #3B4455;\n",
              "      fill: #D2E3FC;\n",
              "    }\n",
              "\n",
              "    [theme=dark] .colab-df-convert:hover {\n",
              "      background-color: #434B5C;\n",
              "      box-shadow: 0px 1px 3px 1px rgba(0, 0, 0, 0.15);\n",
              "      filter: drop-shadow(0px 1px 2px rgba(0, 0, 0, 0.3));\n",
              "      fill: #FFFFFF;\n",
              "    }\n",
              "  </style>\n",
              "\n",
              "    <script>\n",
              "      const buttonEl =\n",
              "        document.querySelector('#df-0f742692-961e-489b-9cec-b59da286e06c button.colab-df-convert');\n",
              "      buttonEl.style.display =\n",
              "        google.colab.kernel.accessAllowed ? 'block' : 'none';\n",
              "\n",
              "      async function convertToInteractive(key) {\n",
              "        const element = document.querySelector('#df-0f742692-961e-489b-9cec-b59da286e06c');\n",
              "        const dataTable =\n",
              "          await google.colab.kernel.invokeFunction('convertToInteractive',\n",
              "                                                    [key], {});\n",
              "        if (!dataTable) return;\n",
              "\n",
              "        const docLinkHtml = 'Like what you see? Visit the ' +\n",
              "          '<a target=\"_blank\" href=https://colab.research.google.com/notebooks/data_table.ipynb>data table notebook</a>'\n",
              "          + ' to learn more about interactive tables.';\n",
              "        element.innerHTML = '';\n",
              "        dataTable['output_type'] = 'display_data';\n",
              "        await google.colab.output.renderOutput(dataTable, element);\n",
              "        const docLink = document.createElement('div');\n",
              "        docLink.innerHTML = docLinkHtml;\n",
              "        element.appendChild(docLink);\n",
              "      }\n",
              "    </script>\n",
              "  </div>\n",
              "\n",
              "\n",
              "<div id=\"df-b30744cd-24ef-4bb6-af9b-f6f7af1d16ae\">\n",
              "  <button class=\"colab-df-quickchart\" onclick=\"quickchart('df-b30744cd-24ef-4bb6-af9b-f6f7af1d16ae')\"\n",
              "            title=\"Suggest charts.\"\n",
              "            style=\"display:none;\">\n",
              "\n",
              "<svg xmlns=\"http://www.w3.org/2000/svg\" height=\"24px\"viewBox=\"0 0 24 24\"\n",
              "     width=\"24px\">\n",
              "    <g>\n",
              "        <path d=\"M19 3H5c-1.1 0-2 .9-2 2v14c0 1.1.9 2 2 2h14c1.1 0 2-.9 2-2V5c0-1.1-.9-2-2-2zM9 17H7v-7h2v7zm4 0h-2V7h2v10zm4 0h-2v-4h2v4z\"/>\n",
              "    </g>\n",
              "</svg>\n",
              "  </button>\n",
              "\n",
              "<style>\n",
              "  .colab-df-quickchart {\n",
              "      --bg-color: #E8F0FE;\n",
              "      --fill-color: #1967D2;\n",
              "      --hover-bg-color: #E2EBFA;\n",
              "      --hover-fill-color: #174EA6;\n",
              "      --disabled-fill-color: #AAA;\n",
              "      --disabled-bg-color: #DDD;\n",
              "  }\n",
              "\n",
              "  [theme=dark] .colab-df-quickchart {\n",
              "      --bg-color: #3B4455;\n",
              "      --fill-color: #D2E3FC;\n",
              "      --hover-bg-color: #434B5C;\n",
              "      --hover-fill-color: #FFFFFF;\n",
              "      --disabled-bg-color: #3B4455;\n",
              "      --disabled-fill-color: #666;\n",
              "  }\n",
              "\n",
              "  .colab-df-quickchart {\n",
              "    background-color: var(--bg-color);\n",
              "    border: none;\n",
              "    border-radius: 50%;\n",
              "    cursor: pointer;\n",
              "    display: none;\n",
              "    fill: var(--fill-color);\n",
              "    height: 32px;\n",
              "    padding: 0;\n",
              "    width: 32px;\n",
              "  }\n",
              "\n",
              "  .colab-df-quickchart:hover {\n",
              "    background-color: var(--hover-bg-color);\n",
              "    box-shadow: 0 1px 2px rgba(60, 64, 67, 0.3), 0 1px 3px 1px rgba(60, 64, 67, 0.15);\n",
              "    fill: var(--button-hover-fill-color);\n",
              "  }\n",
              "\n",
              "  .colab-df-quickchart-complete:disabled,\n",
              "  .colab-df-quickchart-complete:disabled:hover {\n",
              "    background-color: var(--disabled-bg-color);\n",
              "    fill: var(--disabled-fill-color);\n",
              "    box-shadow: none;\n",
              "  }\n",
              "\n",
              "  .colab-df-spinner {\n",
              "    border: 2px solid var(--fill-color);\n",
              "    border-color: transparent;\n",
              "    border-bottom-color: var(--fill-color);\n",
              "    animation:\n",
              "      spin 1s steps(1) infinite;\n",
              "  }\n",
              "\n",
              "  @keyframes spin {\n",
              "    0% {\n",
              "      border-color: transparent;\n",
              "      border-bottom-color: var(--fill-color);\n",
              "      border-left-color: var(--fill-color);\n",
              "    }\n",
              "    20% {\n",
              "      border-color: transparent;\n",
              "      border-left-color: var(--fill-color);\n",
              "      border-top-color: var(--fill-color);\n",
              "    }\n",
              "    30% {\n",
              "      border-color: transparent;\n",
              "      border-left-color: var(--fill-color);\n",
              "      border-top-color: var(--fill-color);\n",
              "      border-right-color: var(--fill-color);\n",
              "    }\n",
              "    40% {\n",
              "      border-color: transparent;\n",
              "      border-right-color: var(--fill-color);\n",
              "      border-top-color: var(--fill-color);\n",
              "    }\n",
              "    60% {\n",
              "      border-color: transparent;\n",
              "      border-right-color: var(--fill-color);\n",
              "    }\n",
              "    80% {\n",
              "      border-color: transparent;\n",
              "      border-right-color: var(--fill-color);\n",
              "      border-bottom-color: var(--fill-color);\n",
              "    }\n",
              "    90% {\n",
              "      border-color: transparent;\n",
              "      border-bottom-color: var(--fill-color);\n",
              "    }\n",
              "  }\n",
              "</style>\n",
              "\n",
              "  <script>\n",
              "    async function quickchart(key) {\n",
              "      const quickchartButtonEl =\n",
              "        document.querySelector('#' + key + ' button');\n",
              "      quickchartButtonEl.disabled = true;  // To prevent multiple clicks.\n",
              "      quickchartButtonEl.classList.add('colab-df-spinner');\n",
              "      try {\n",
              "        const charts = await google.colab.kernel.invokeFunction(\n",
              "            'suggestCharts', [key], {});\n",
              "      } catch (error) {\n",
              "        console.error('Error during call to suggestCharts:', error);\n",
              "      }\n",
              "      quickchartButtonEl.classList.remove('colab-df-spinner');\n",
              "      quickchartButtonEl.classList.add('colab-df-quickchart-complete');\n",
              "    }\n",
              "    (() => {\n",
              "      let quickchartButtonEl =\n",
              "        document.querySelector('#df-b30744cd-24ef-4bb6-af9b-f6f7af1d16ae button');\n",
              "      quickchartButtonEl.style.display =\n",
              "        google.colab.kernel.accessAllowed ? 'block' : 'none';\n",
              "    })();\n",
              "  </script>\n",
              "</div>\n",
              "    </div>\n",
              "  </div>\n"
            ]
          },
          "metadata": {},
          "execution_count": 15
        }
      ]
    },
    {
      "cell_type": "markdown",
      "source": [
        "Даже по выведенным первым строчкам виден нюанс записи даты: могут использоваться разные разделители и формат записи."
      ],
      "metadata": {
        "id": "wFWJbkMBfgRT"
      }
    },
    {
      "cell_type": "code",
      "source": [
        "def date_transformer(row):\n",
        "  try:\n",
        "    return pd.to_datetime(row['Date'], format='%Y-%m-%d %H:%M:%S')\n",
        "  except:\n",
        "    return pd.to_datetime(row['Date'], format='%d/%m/%Y %H:%M:%S')\n"
      ],
      "metadata": {
        "id": "dwkr7kFpjvDG"
      },
      "execution_count": 16,
      "outputs": []
    },
    {
      "cell_type": "code",
      "source": [
        "sales['Date'] = sales.apply(date_transformer, axis=1)"
      ],
      "metadata": {
        "id": "tBJ88FgOldVw"
      },
      "execution_count": 17,
      "outputs": []
    },
    {
      "cell_type": "code",
      "source": [
        "#проверяем корректность преобразования\n",
        "sales['Date'].info()"
      ],
      "metadata": {
        "colab": {
          "base_uri": "https://localhost:8080/"
        },
        "id": "UqGoXLSbl3XS",
        "outputId": "83270a9a-bdb2-40c5-809e-81b251f4f326"
      },
      "execution_count": 18,
      "outputs": [
        {
          "output_type": "stream",
          "name": "stdout",
          "text": [
            "<class 'pandas.core.series.Series'>\n",
            "RangeIndex: 5576 entries, 0 to 5575\n",
            "Series name: Date\n",
            "Non-Null Count  Dtype         \n",
            "--------------  -----         \n",
            "5576 non-null   datetime64[ns]\n",
            "dtypes: datetime64[ns](1)\n",
            "memory usage: 43.7 KB\n"
          ]
        }
      ]
    },
    {
      "cell_type": "markdown",
      "source": [
        "Теперь можно исследовать имеющийся временной диапазон."
      ],
      "metadata": {
        "id": "gYQWrDJEcq8w"
      }
    },
    {
      "cell_type": "code",
      "source": [
        "sales['Date'].describe(datetime_is_numeric=True)"
      ],
      "metadata": {
        "colab": {
          "base_uri": "https://localhost:8080/"
        },
        "id": "Lxp-tIGnnTtD",
        "outputId": "96342a5d-1ba2-46ef-cf9d-8852f7da3d67"
      },
      "execution_count": 19,
      "outputs": [
        {
          "output_type": "execute_result",
          "data": {
            "text/plain": [
              "count                             5576\n",
              "mean     2019-10-04 04:56:28.235294208\n",
              "min                2019-01-03 00:00:00\n",
              "25%                2019-05-13 00:00:00\n",
              "50%                2019-09-18 00:00:00\n",
              "75%                2020-01-30 00:00:00\n",
              "max                2020-12-05 00:00:00\n",
              "Name: Date, dtype: object"
            ]
          },
          "metadata": {},
          "execution_count": 19
        }
      ]
    },
    {
      "cell_type": "markdown",
      "source": [
        "Данные покрывают диапазон с 3 января 2019 года по 5 декабря 2020 года - то есть практически два года. Посмотрим на распределение:"
      ],
      "metadata": {
        "id": "I3Lj5c7xnqf-"
      }
    },
    {
      "cell_type": "code",
      "source": [
        "sales['Date'].dt.round('1D').hist()"
      ],
      "metadata": {
        "colab": {
          "base_uri": "https://localhost:8080/",
          "height": 453
        },
        "id": "Rtwv-prroPDc",
        "outputId": "27a73b65-5738-4ea7-adab-f248a62f8530"
      },
      "execution_count": 20,
      "outputs": [
        {
          "output_type": "execute_result",
          "data": {
            "text/plain": [
              "<Axes: >"
            ]
          },
          "metadata": {},
          "execution_count": 20
        },
        {
          "output_type": "display_data",
          "data": {
            "text/plain": [
              "<Figure size 640x480 with 1 Axes>"
            ],
            "image/png": "[encoded data removed]"
          },
          "metadata": {}
        }
      ]
    },
    {
      "cell_type": "markdown",
      "source": [
        "Видны два явных пика - в середине и в конце 2019-го года. После 2020 виден явный спад по количеству сделок, представленных в данных. Если мы отталиваемся от репрезентативности выборки - можно предположить, что с 2020-го года стратегия продаж компании претерпела существенные изменения. Возможно, стала больше ориентироваться на крупные партии и оптовые поставки и/или перешла на экспорт и сделки за швейцарские франки :)\n",
        "\n",
        "Выясним более детально в разделе, посвящённом исследовательскому анализу."
      ],
      "metadata": {
        "id": "drauF4-ppMet"
      }
    },
    {
      "cell_type": "markdown",
      "source": [
        "# Sales"
      ],
      "metadata": {
        "id": "RuafJ5IYrNe8"
      }
    },
    {
      "cell_type": "markdown",
      "source": [
        "Предполагаем, что это столбец, содержащий сумму сделки. Количественный признак. Посмотрим сначала на распределение значений \"как есть\":"
      ],
      "metadata": {
        "id": "4oXP9IzwrUQp"
      }
    },
    {
      "cell_type": "code",
      "source": [
        "sales['Sales'].describe()"
      ],
      "metadata": {
        "colab": {
          "base_uri": "https://localhost:8080/"
        },
        "id": "4l5C1Mlprg57",
        "outputId": "596e50f2-9933-478b-ceda-ce04ff8ae24d"
      },
      "execution_count": 21,
      "outputs": [
        {
          "output_type": "execute_result",
          "data": {
            "text/plain": [
              "count    5.576000e+03\n",
              "mean     2.101602e+06\n",
              "std      3.334958e+07\n",
              "min     -4.270657e+08\n",
              "25%      1.927750e+03\n",
              "50%      2.671700e+04\n",
              "75%      3.149420e+05\n",
              "max      1.423552e+09\n",
              "Name: Sales, dtype: float64"
            ]
          },
          "metadata": {},
          "execution_count": 21
        }
      ]
    },
    {
      "cell_type": "markdown",
      "source": [
        "Обнаружена неочевидная проблема - данные о продажах не только положительные, но и отрицательные. Возможно, это могут быть суммы покупки и продажи (и наша фармацевтическая компания - ретейлер).\n",
        "\n",
        "Посмотрим для примера историю по какому-нибудь одному продукту и покупателю и отсортируем по дате записи:"
      ],
      "metadata": {
        "id": "e8UnFaMf5Gp7"
      }
    },
    {
      "cell_type": "code",
      "source": [
        "sales[(sales['Product']=='Prd1') & (sales['Customer']=='Cust1')].sort_values(by='Date')"
      ],
      "metadata": {
        "colab": {
          "base_uri": "https://localhost:8080/",
          "height": 1000
        },
        "id": "vTSsOnBCxM_J",
        "outputId": "573ae341-4116-4679-bca0-f2c9e0401d79"
      },
      "execution_count": 22,
      "outputs": [
        {
          "output_type": "execute_result",
          "data": {
            "text/plain": [
              "   Product Family Product Customer Business Unit Currency       Date  \\\n",
              "1            FAM1    Prd1    Cust1          Head    M.CHF 2019-02-28   \n",
              "30           FAM1    Prd1    Cust1          Head    M.RUB 2019-02-28   \n",
              "2            FAM1    Prd1    Cust1          Head    M.CHF 2019-03-29   \n",
              "31           FAM1    Prd1    Cust1          Head    M.RUB 2019-03-29   \n",
              "3            FAM1    Prd1    Cust1          Head    M.CHF 2019-03-31   \n",
              "32           FAM1    Prd1    Cust1          Head    M.RUB 2019-03-31   \n",
              "4            FAM1    Prd1    Cust1          Head    M.CHF 2019-04-15   \n",
              "33           FAM1    Prd1    Cust1          Head    M.RUB 2019-04-15   \n",
              "5            FAM1    Prd1    Cust1          Head    M.CHF 2019-04-30   \n",
              "34           FAM1    Prd1    Cust1          Head    M.RUB 2019-04-30   \n",
              "0            FAM1    Prd1    Cust1          Head    M.CHF 2019-05-02   \n",
              "29           FAM1    Prd1    Cust1          Head    M.RUB 2019-05-02   \n",
              "6            FAM1    Prd1    Cust1          Head    M.CHF 2019-05-29   \n",
              "35           FAM1    Prd1    Cust1          Head    M.RUB 2019-05-29   \n",
              "7            FAM1    Prd1    Cust1          Head    M.CHF 2019-05-31   \n",
              "36           FAM1    Prd1    Cust1          Head    M.RUB 2019-05-31   \n",
              "38           FAM1    Prd1    Cust1          Head    M.RUB 2019-06-18   \n",
              "9            FAM1    Prd1    Cust1          Head    M.CHF 2019-06-18   \n",
              "10           FAM1    Prd1    Cust1          Head    M.CHF 2019-06-25   \n",
              "39           FAM1    Prd1    Cust1          Head    M.RUB 2019-06-25   \n",
              "40           FAM1    Prd1    Cust1          Head    M.RUB 2019-06-30   \n",
              "11           FAM1    Prd1    Cust1          Head    M.CHF 2019-06-30   \n",
              "12           FAM1    Prd1    Cust1          Head    M.CHF 2019-08-21   \n",
              "41           FAM1    Prd1    Cust1          Head    M.RUB 2019-08-21   \n",
              "42           FAM1    Prd1    Cust1          Head    M.RUB 2019-08-27   \n",
              "13           FAM1    Prd1    Cust1          Head    M.CHF 2019-08-27   \n",
              "43           FAM1    Prd1    Cust1          Head    M.RUB 2019-10-16   \n",
              "14           FAM1    Prd1    Cust1          Head    M.CHF 2019-10-16   \n",
              "15           FAM1    Prd1    Cust1          Head    M.CHF 2019-10-28   \n",
              "44           FAM1    Prd1    Cust1          Head    M.RUB 2019-10-28   \n",
              "45           FAM1    Prd1    Cust1          Head    M.RUB 2019-10-31   \n",
              "16           FAM1    Prd1    Cust1          Head    M.CHF 2019-10-31   \n",
              "37           FAM1    Prd1    Cust1          Head    M.RUB 2019-11-06   \n",
              "8            FAM1    Prd1    Cust1          Head    M.CHF 2019-11-06   \n",
              "17           FAM1    Prd1    Cust1          Head    M.CHF 2019-11-30   \n",
              "46           FAM1    Prd1    Cust1          Head    M.RUB 2019-11-30   \n",
              "47           FAM1    Prd1    Cust1          Head    M.RUB 2019-12-31   \n",
              "18           FAM1    Prd1    Cust1          Head    M.CHF 2019-12-31   \n",
              "48           FAM1    Prd1    Cust1          Head    M.RUB 2020-01-31   \n",
              "19           FAM1    Prd1    Cust1          Head    M.CHF 2020-01-31   \n",
              "49           FAM1    Prd1    Cust1          Head    M.RUB 2020-02-28   \n",
              "20           FAM1    Prd1    Cust1          Head    M.CHF 2020-02-28   \n",
              "51           FAM1    Prd1    Cust1          Head    M.RUB 2020-03-31   \n",
              "22           FAM1    Prd1    Cust1          Head    M.CHF 2020-03-31   \n",
              "52           FAM1    Prd1    Cust1          Head    M.RUB 2020-04-28   \n",
              "23           FAM1    Prd1    Cust1          Head    M.CHF 2020-04-28   \n",
              "53           FAM1    Prd1    Cust1          Head    M.RUB 2020-04-30   \n",
              "24           FAM1    Prd1    Cust1          Head    M.CHF 2020-04-30   \n",
              "25           FAM1    Prd1    Cust1          Head    M.CHF 2020-05-20   \n",
              "54           FAM1    Prd1    Cust1          Head    M.RUB 2020-05-20   \n",
              "55           FAM1    Prd1    Cust1          Head    M.RUB 2020-05-29   \n",
              "26           FAM1    Prd1    Cust1          Head    M.CHF 2020-05-29   \n",
              "27           FAM1    Prd1    Cust1          Head    M.CHF 2020-06-30   \n",
              "56           FAM1    Prd1    Cust1          Head    M.RUB 2020-06-30   \n",
              "28           FAM1    Prd1    Cust1          Head    M.CHF 2020-07-31   \n",
              "57           FAM1    Prd1    Cust1          Head    M.RUB 2020-07-31   \n",
              "21           FAM1    Prd1    Cust1          Head    M.CHF 2020-12-03   \n",
              "50           FAM1    Prd1    Cust1          Head    M.RUB 2020-12-03   \n",
              "\n",
              "        Sales  \n",
              "1      -23694  \n",
              "30   -1403616  \n",
              "2       23694  \n",
              "31    1403616  \n",
              "3      -23694  \n",
              "32   -1403616  \n",
              "4      -23694  \n",
              "33   -1403616  \n",
              "5       23694  \n",
              "34    1403616  \n",
              "0      473885  \n",
              "29   28072314  \n",
              "6      422175  \n",
              "35   25009064  \n",
              "7       38821  \n",
              "36    2299684  \n",
              "38    3736986  \n",
              "9       63084  \n",
              "10     -24263  \n",
              "39   -1437302  \n",
              "40    1437302  \n",
              "11      24263  \n",
              "12     485258  \n",
              "41   28746050  \n",
              "42   -1437303  \n",
              "13     -24263  \n",
              "43  106674794  \n",
              "14    1800764  \n",
              "15          0  \n",
              "44          0  \n",
              "45  -17126470  \n",
              "16    -289110  \n",
              "37   -3736986  \n",
              "8      -63084  \n",
              "17          0  \n",
              "46          0  \n",
              "47   -8686135  \n",
              "18    -146630  \n",
              "48          0  \n",
              "19          0  \n",
              "49          0  \n",
              "20          0  \n",
              "51   -6286766  \n",
              "22     -97984  \n",
              "52   39067759  \n",
              "23     608901  \n",
              "53   -6286766  \n",
              "24     -97984  \n",
              "25          0  \n",
              "54          0  \n",
              "55  261965323  \n",
              "26    4082933  \n",
              "27          0  \n",
              "56          0  \n",
              "28          0  \n",
              "57          0  \n",
              "21     699887  \n",
              "50   44905470  "
            ],
            "text/html": [
              "\n",
              "  <div id=\"df-98421d1a-26a3-4709-bf16-f8832f22442b\" class=\"colab-df-container\">\n",
              "    <div>\n",
              "<style scoped>\n",
              "    .dataframe tbody tr th:only-of-type {\n",
              "        vertical-align: middle;\n",
              "    }\n",
              "\n",
              "    .dataframe tbody tr th {\n",
              "        vertical-align: top;\n",
              "    }\n",
              "\n",
              "    .dataframe thead th {\n",
              "        text-align: right;\n",
              "    }\n",
              "</style>\n",
              "<table border=\"1\" class=\"dataframe\">\n",
              "  <thead>\n",
              "    <tr style=\"text-align: right;\">\n",
              "      <th></th>\n",
              "      <th>Product Family</th>\n",
              "      <th>Product</th>\n",
              "      <th>Customer</th>\n",
              "      <th>Business Unit</th>\n",
              "      <th>Currency</th>\n",
              "      <th>Date</th>\n",
              "      <th>Sales</th>\n",
              "    </tr>\n",
              "  </thead>\n",
              "  <tbody>\n",
              "    <tr>\n",
              "      <th>1</th>\n",
              "      <td>FAM1</td>\n",
              "      <td>Prd1</td>\n",
              "      <td>Cust1</td>\n",
              "      <td>Head</td>\n",
              "      <td>M.CHF</td>\n",
              "      <td>2019-02-28</td>\n",
              "      <td>-23694</td>\n",
              "    </tr>\n",
              "    <tr>\n",
              "      <th>30</th>\n",
              "      <td>FAM1</td>\n",
              "      <td>Prd1</td>\n",
              "      <td>Cust1</td>\n",
              "      <td>Head</td>\n",
              "      <td>M.RUB</td>\n",
              "      <td>2019-02-28</td>\n",
              "      <td>-1403616</td>\n",
              "    </tr>\n",
              "    <tr>\n",
              "      <th>2</th>\n",
              "      <td>FAM1</td>\n",
              "      <td>Prd1</td>\n",
              "      <td>Cust1</td>\n",
              "      <td>Head</td>\n",
              "      <td>M.CHF</td>\n",
              "      <td>2019-03-29</td>\n",
              "      <td>23694</td>\n",
              "    </tr>\n",
              "    <tr>\n",
              "      <th>31</th>\n",
              "      <td>FAM1</td>\n",
              "      <td>Prd1</td>\n",
              "      <td>Cust1</td>\n",
              "      <td>Head</td>\n",
              "      <td>M.RUB</td>\n",
              "      <td>2019-03-29</td>\n",
              "      <td>1403616</td>\n",
              "    </tr>\n",
              "    <tr>\n",
              "      <th>3</th>\n",
              "      <td>FAM1</td>\n",
              "      <td>Prd1</td>\n",
              "      <td>Cust1</td>\n",
              "      <td>Head</td>\n",
              "      <td>M.CHF</td>\n",
              "      <td>2019-03-31</td>\n",
              "      <td>-23694</td>\n",
              "    </tr>\n",
              "    <tr>\n",
              "      <th>32</th>\n",
              "      <td>FAM1</td>\n",
              "      <td>Prd1</td>\n",
              "      <td>Cust1</td>\n",
              "      <td>Head</td>\n",
              "      <td>M.RUB</td>\n",
              "      <td>2019-03-31</td>\n",
              "      <td>-1403616</td>\n",
              "    </tr>\n",
              "    <tr>\n",
              "      <th>4</th>\n",
              "      <td>FAM1</td>\n",
              "      <td>Prd1</td>\n",
              "      <td>Cust1</td>\n",
              "      <td>Head</td>\n",
              "      <td>M.CHF</td>\n",
              "      <td>2019-04-15</td>\n",
              "      <td>-23694</td>\n",
              "    </tr>\n",
              "    <tr>\n",
              "      <th>33</th>\n",
              "      <td>FAM1</td>\n",
              "      <td>Prd1</td>\n",
              "      <td>Cust1</td>\n",
              "      <td>Head</td>\n",
              "      <td>M.RUB</td>\n",
              "      <td>2019-04-15</td>\n",
              "      <td>-1403616</td>\n",
              "    </tr>\n",
              "    <tr>\n",
              "      <th>5</th>\n",
              "      <td>FAM1</td>\n",
              "      <td>Prd1</td>\n",
              "      <td>Cust1</td>\n",
              "      <td>Head</td>\n",
              "      <td>M.CHF</td>\n",
              "      <td>2019-04-30</td>\n",
              "      <td>23694</td>\n",
              "    </tr>\n",
              "    <tr>\n",
              "      <th>34</th>\n",
              "      <td>FAM1</td>\n",
              "      <td>Prd1</td>\n",
              "      <td>Cust1</td>\n",
              "      <td>Head</td>\n",
              "      <td>M.RUB</td>\n",
              "      <td>2019-04-30</td>\n",
              "      <td>1403616</td>\n",
              "    </tr>\n",
              "    <tr>\n",
              "      <th>0</th>\n",
              "      <td>FAM1</td>\n",
              "      <td>Prd1</td>\n",
              "      <td>Cust1</td>\n",
              "      <td>Head</td>\n",
              "      <td>M.CHF</td>\n",
              "      <td>2019-05-02</td>\n",
              "      <td>473885</td>\n",
              "    </tr>\n",
              "    <tr>\n",
              "      <th>29</th>\n",
              "      <td>FAM1</td>\n",
              "      <td>Prd1</td>\n",
              "      <td>Cust1</td>\n",
              "      <td>Head</td>\n",
              "      <td>M.RUB</td>\n",
              "      <td>2019-05-02</td>\n",
              "      <td>28072314</td>\n",
              "    </tr>\n",
              "    <tr>\n",
              "      <th>6</th>\n",
              "      <td>FAM1</td>\n",
              "      <td>Prd1</td>\n",
              "      <td>Cust1</td>\n",
              "      <td>Head</td>\n",
              "      <td>M.CHF</td>\n",
              "      <td>2019-05-29</td>\n",
              "      <td>422175</td>\n",
              "    </tr>\n",
              "    <tr>\n",
              "      <th>35</th>\n",
              "      <td>FAM1</td>\n",
              "      <td>Prd1</td>\n",
              "      <td>Cust1</td>\n",
              "      <td>Head</td>\n",
              "      <td>M.RUB</td>\n",
              "      <td>2019-05-29</td>\n",
              "      <td>25009064</td>\n",
              "    </tr>\n",
              "    <tr>\n",
              "      <th>7</th>\n",
              "      <td>FAM1</td>\n",
              "      <td>Prd1</td>\n",
              "      <td>Cust1</td>\n",
              "      <td>Head</td>\n",
              "      <td>M.CHF</td>\n",
              "      <td>2019-05-31</td>\n",
              "      <td>38821</td>\n",
              "    </tr>\n",
              "    <tr>\n",
              "      <th>36</th>\n",
              "      <td>FAM1</td>\n",
              "      <td>Prd1</td>\n",
              "      <td>Cust1</td>\n",
              "      <td>Head</td>\n",
              "      <td>M.RUB</td>\n",
              "      <td>2019-05-31</td>\n",
              "      <td>2299684</td>\n",
              "    </tr>\n",
              "    <tr>\n",
              "      <th>38</th>\n",
              "      <td>FAM1</td>\n",
              "      <td>Prd1</td>\n",
              "      <td>Cust1</td>\n",
              "      <td>Head</td>\n",
              "      <td>M.RUB</td>\n",
              "      <td>2019-06-18</td>\n",
              "      <td>3736986</td>\n",
              "    </tr>\n",
              "    <tr>\n",
              "      <th>9</th>\n",
              "      <td>FAM1</td>\n",
              "      <td>Prd1</td>\n",
              "      <td>Cust1</td>\n",
              "      <td>Head</td>\n",
              "      <td>M.CHF</td>\n",
              "      <td>2019-06-18</td>\n",
              "      <td>63084</td>\n",
              "    </tr>\n",
              "    <tr>\n",
              "      <th>10</th>\n",
              "      <td>FAM1</td>\n",
              "      <td>Prd1</td>\n",
              "      <td>Cust1</td>\n",
              "      <td>Head</td>\n",
              "      <td>M.CHF</td>\n",
              "      <td>2019-06-25</td>\n",
              "      <td>-24263</td>\n",
              "    </tr>\n",
              "    <tr>\n",
              "      <th>39</th>\n",
              "      <td>FAM1</td>\n",
              "      <td>Prd1</td>\n",
              "      <td>Cust1</td>\n",
              "      <td>Head</td>\n",
              "      <td>M.RUB</td>\n",
              "      <td>2019-06-25</td>\n",
              "      <td>-1437302</td>\n",
              "    </tr>\n",
              "    <tr>\n",
              "      <th>40</th>\n",
              "      <td>FAM1</td>\n",
              "      <td>Prd1</td>\n",
              "      <td>Cust1</td>\n",
              "      <td>Head</td>\n",
              "      <td>M.RUB</td>\n",
              "      <td>2019-06-30</td>\n",
              "      <td>1437302</td>\n",
              "    </tr>\n",
              "    <tr>\n",
              "      <th>11</th>\n",
              "      <td>FAM1</td>\n",
              "      <td>Prd1</td>\n",
              "      <td>Cust1</td>\n",
              "      <td>Head</td>\n",
              "      <td>M.CHF</td>\n",
              "      <td>2019-06-30</td>\n",
              "      <td>24263</td>\n",
              "    </tr>\n",
              "    <tr>\n",
              "      <th>12</th>\n",
              "      <td>FAM1</td>\n",
              "      <td>Prd1</td>\n",
              "      <td>Cust1</td>\n",
              "      <td>Head</td>\n",
              "      <td>M.CHF</td>\n",
              "      <td>2019-08-21</td>\n",
              "      <td>485258</td>\n",
              "    </tr>\n",
              "    <tr>\n",
              "      <th>41</th>\n",
              "      <td>FAM1</td>\n",
              "      <td>Prd1</td>\n",
              "      <td>Cust1</td>\n",
              "      <td>Head</td>\n",
              "      <td>M.RUB</td>\n",
              "      <td>2019-08-21</td>\n",
              "      <td>28746050</td>\n",
              "    </tr>\n",
              "    <tr>\n",
              "      <th>42</th>\n",
              "      <td>FAM1</td>\n",
              "      <td>Prd1</td>\n",
              "      <td>Cust1</td>\n",
              "      <td>Head</td>\n",
              "      <td>M.RUB</td>\n",
              "      <td>2019-08-27</td>\n",
              "      <td>-1437303</td>\n",
              "    </tr>\n",
              "    <tr>\n",
              "      <th>13</th>\n",
              "      <td>FAM1</td>\n",
              "      <td>Prd1</td>\n",
              "      <td>Cust1</td>\n",
              "      <td>Head</td>\n",
              "      <td>M.CHF</td>\n",
              "      <td>2019-08-27</td>\n",
              "      <td>-24263</td>\n",
              "    </tr>\n",
              "    <tr>\n",
              "      <th>43</th>\n",
              "      <td>FAM1</td>\n",
              "      <td>Prd1</td>\n",
              "      <td>Cust1</td>\n",
              "      <td>Head</td>\n",
              "      <td>M.RUB</td>\n",
              "      <td>2019-10-16</td>\n",
              "      <td>106674794</td>\n",
              "    </tr>\n",
              "    <tr>\n",
              "      <th>14</th>\n",
              "      <td>FAM1</td>\n",
              "      <td>Prd1</td>\n",
              "      <td>Cust1</td>\n",
              "      <td>Head</td>\n",
              "      <td>M.CHF</td>\n",
              "      <td>2019-10-16</td>\n",
              "      <td>1800764</td>\n",
              "    </tr>\n",
              "    <tr>\n",
              "      <th>15</th>\n",
              "      <td>FAM1</td>\n",
              "      <td>Prd1</td>\n",
              "      <td>Cust1</td>\n",
              "      <td>Head</td>\n",
              "      <td>M.CHF</td>\n",
              "      <td>2019-10-28</td>\n",
              "      <td>0</td>\n",
              "    </tr>\n",
              "    <tr>\n",
              "      <th>44</th>\n",
              "      <td>FAM1</td>\n",
              "      <td>Prd1</td>\n",
              "      <td>Cust1</td>\n",
              "      <td>Head</td>\n",
              "      <td>M.RUB</td>\n",
              "      <td>2019-10-28</td>\n",
              "      <td>0</td>\n",
              "    </tr>\n",
              "    <tr>\n",
              "      <th>45</th>\n",
              "      <td>FAM1</td>\n",
              "      <td>Prd1</td>\n",
              "      <td>Cust1</td>\n",
              "      <td>Head</td>\n",
              "      <td>M.RUB</td>\n",
              "      <td>2019-10-31</td>\n",
              "      <td>-17126470</td>\n",
              "    </tr>\n",
              "    <tr>\n",
              "      <th>16</th>\n",
              "      <td>FAM1</td>\n",
              "      <td>Prd1</td>\n",
              "      <td>Cust1</td>\n",
              "      <td>Head</td>\n",
              "      <td>M.CHF</td>\n",
              "      <td>2019-10-31</td>\n",
              "      <td>-289110</td>\n",
              "    </tr>\n",
              "    <tr>\n",
              "      <th>37</th>\n",
              "      <td>FAM1</td>\n",
              "      <td>Prd1</td>\n",
              "      <td>Cust1</td>\n",
              "      <td>Head</td>\n",
              "      <td>M.RUB</td>\n",
              "      <td>2019-11-06</td>\n",
              "      <td>-3736986</td>\n",
              "    </tr>\n",
              "    <tr>\n",
              "      <th>8</th>\n",
              "      <td>FAM1</td>\n",
              "      <td>Prd1</td>\n",
              "      <td>Cust1</td>\n",
              "      <td>Head</td>\n",
              "      <td>M.CHF</td>\n",
              "      <td>2019-11-06</td>\n",
              "      <td>-63084</td>\n",
              "    </tr>\n",
              "    <tr>\n",
              "      <th>17</th>\n",
              "      <td>FAM1</td>\n",
              "      <td>Prd1</td>\n",
              "      <td>Cust1</td>\n",
              "      <td>Head</td>\n",
              "      <td>M.CHF</td>\n",
              "      <td>2019-11-30</td>\n",
              "      <td>0</td>\n",
              "    </tr>\n",
              "    <tr>\n",
              "      <th>46</th>\n",
              "      <td>FAM1</td>\n",
              "      <td>Prd1</td>\n",
              "      <td>Cust1</td>\n",
              "      <td>Head</td>\n",
              "      <td>M.RUB</td>\n",
              "      <td>2019-11-30</td>\n",
              "      <td>0</td>\n",
              "    </tr>\n",
              "    <tr>\n",
              "      <th>47</th>\n",
              "      <td>FAM1</td>\n",
              "      <td>Prd1</td>\n",
              "      <td>Cust1</td>\n",
              "      <td>Head</td>\n",
              "      <td>M.RUB</td>\n",
              "      <td>2019-12-31</td>\n",
              "      <td>-8686135</td>\n",
              "    </tr>\n",
              "    <tr>\n",
              "      <th>18</th>\n",
              "      <td>FAM1</td>\n",
              "      <td>Prd1</td>\n",
              "      <td>Cust1</td>\n",
              "      <td>Head</td>\n",
              "      <td>M.CHF</td>\n",
              "      <td>2019-12-31</td>\n",
              "      <td>-146630</td>\n",
              "    </tr>\n",
              "    <tr>\n",
              "      <th>48</th>\n",
              "      <td>FAM1</td>\n",
              "      <td>Prd1</td>\n",
              "      <td>Cust1</td>\n",
              "      <td>Head</td>\n",
              "      <td>M.RUB</td>\n",
              "      <td>2020-01-31</td>\n",
              "      <td>0</td>\n",
              "    </tr>\n",
              "    <tr>\n",
              "      <th>19</th>\n",
              "      <td>FAM1</td>\n",
              "      <td>Prd1</td>\n",
              "      <td>Cust1</td>\n",
              "      <td>Head</td>\n",
              "      <td>M.CHF</td>\n",
              "      <td>2020-01-31</td>\n",
              "      <td>0</td>\n",
              "    </tr>\n",
              "    <tr>\n",
              "      <th>49</th>\n",
              "      <td>FAM1</td>\n",
              "      <td>Prd1</td>\n",
              "      <td>Cust1</td>\n",
              "      <td>Head</td>\n",
              "      <td>M.RUB</td>\n",
              "      <td>2020-02-28</td>\n",
              "      <td>0</td>\n",
              "    </tr>\n",
              "    <tr>\n",
              "      <th>20</th>\n",
              "      <td>FAM1</td>\n",
              "      <td>Prd1</td>\n",
              "      <td>Cust1</td>\n",
              "      <td>Head</td>\n",
              "      <td>M.CHF</td>\n",
              "      <td>2020-02-28</td>\n",
              "      <td>0</td>\n",
              "    </tr>\n",
              "    <tr>\n",
              "      <th>51</th>\n",
              "      <td>FAM1</td>\n",
              "      <td>Prd1</td>\n",
              "      <td>Cust1</td>\n",
              "      <td>Head</td>\n",
              "      <td>M.RUB</td>\n",
              "      <td>2020-03-31</td>\n",
              "      <td>-6286766</td>\n",
              "    </tr>\n",
              "    <tr>\n",
              "      <th>22</th>\n",
              "      <td>FAM1</td>\n",
              "      <td>Prd1</td>\n",
              "      <td>Cust1</td>\n",
              "      <td>Head</td>\n",
              "      <td>M.CHF</td>\n",
              "      <td>2020-03-31</td>\n",
              "      <td>-97984</td>\n",
              "    </tr>\n",
              "    <tr>\n",
              "      <th>52</th>\n",
              "      <td>FAM1</td>\n",
              "      <td>Prd1</td>\n",
              "      <td>Cust1</td>\n",
              "      <td>Head</td>\n",
              "      <td>M.RUB</td>\n",
              "      <td>2020-04-28</td>\n",
              "      <td>39067759</td>\n",
              "    </tr>\n",
              "    <tr>\n",
              "      <th>23</th>\n",
              "      <td>FAM1</td>\n",
              "      <td>Prd1</td>\n",
              "      <td>Cust1</td>\n",
              "      <td>Head</td>\n",
              "      <td>M.CHF</td>\n",
              "      <td>2020-04-28</td>\n",
              "      <td>608901</td>\n",
              "    </tr>\n",
              "    <tr>\n",
              "      <th>53</th>\n",
              "      <td>FAM1</td>\n",
              "      <td>Prd1</td>\n",
              "      <td>Cust1</td>\n",
              "      <td>Head</td>\n",
              "      <td>M.RUB</td>\n",
              "      <td>2020-04-30</td>\n",
              "      <td>-6286766</td>\n",
              "    </tr>\n",
              "    <tr>\n",
              "      <th>24</th>\n",
              "      <td>FAM1</td>\n",
              "      <td>Prd1</td>\n",
              "      <td>Cust1</td>\n",
              "      <td>Head</td>\n",
              "      <td>M.CHF</td>\n",
              "      <td>2020-04-30</td>\n",
              "      <td>-97984</td>\n",
              "    </tr>\n",
              "    <tr>\n",
              "      <th>25</th>\n",
              "      <td>FAM1</td>\n",
              "      <td>Prd1</td>\n",
              "      <td>Cust1</td>\n",
              "      <td>Head</td>\n",
              "      <td>M.CHF</td>\n",
              "      <td>2020-05-20</td>\n",
              "      <td>0</td>\n",
              "    </tr>\n",
              "    <tr>\n",
              "      <th>54</th>\n",
              "      <td>FAM1</td>\n",
              "      <td>Prd1</td>\n",
              "      <td>Cust1</td>\n",
              "      <td>Head</td>\n",
              "      <td>M.RUB</td>\n",
              "      <td>2020-05-20</td>\n",
              "      <td>0</td>\n",
              "    </tr>\n",
              "    <tr>\n",
              "      <th>55</th>\n",
              "      <td>FAM1</td>\n",
              "      <td>Prd1</td>\n",
              "      <td>Cust1</td>\n",
              "      <td>Head</td>\n",
              "      <td>M.RUB</td>\n",
              "      <td>2020-05-29</td>\n",
              "      <td>261965323</td>\n",
              "    </tr>\n",
              "    <tr>\n",
              "      <th>26</th>\n",
              "      <td>FAM1</td>\n",
              "      <td>Prd1</td>\n",
              "      <td>Cust1</td>\n",
              "      <td>Head</td>\n",
              "      <td>M.CHF</td>\n",
              "      <td>2020-05-29</td>\n",
              "      <td>4082933</td>\n",
              "    </tr>\n",
              "    <tr>\n",
              "      <th>27</th>\n",
              "      <td>FAM1</td>\n",
              "      <td>Prd1</td>\n",
              "      <td>Cust1</td>\n",
              "      <td>Head</td>\n",
              "      <td>M.CHF</td>\n",
              "      <td>2020-06-30</td>\n",
              "      <td>0</td>\n",
              "    </tr>\n",
              "    <tr>\n",
              "      <th>56</th>\n",
              "      <td>FAM1</td>\n",
              "      <td>Prd1</td>\n",
              "      <td>Cust1</td>\n",
              "      <td>Head</td>\n",
              "      <td>M.RUB</td>\n",
              "      <td>2020-06-30</td>\n",
              "      <td>0</td>\n",
              "    </tr>\n",
              "    <tr>\n",
              "      <th>28</th>\n",
              "      <td>FAM1</td>\n",
              "      <td>Prd1</td>\n",
              "      <td>Cust1</td>\n",
              "      <td>Head</td>\n",
              "      <td>M.CHF</td>\n",
              "      <td>2020-07-31</td>\n",
              "      <td>0</td>\n",
              "    </tr>\n",
              "    <tr>\n",
              "      <th>57</th>\n",
              "      <td>FAM1</td>\n",
              "      <td>Prd1</td>\n",
              "      <td>Cust1</td>\n",
              "      <td>Head</td>\n",
              "      <td>M.RUB</td>\n",
              "      <td>2020-07-31</td>\n",
              "      <td>0</td>\n",
              "    </tr>\n",
              "    <tr>\n",
              "      <th>21</th>\n",
              "      <td>FAM1</td>\n",
              "      <td>Prd1</td>\n",
              "      <td>Cust1</td>\n",
              "      <td>Head</td>\n",
              "      <td>M.CHF</td>\n",
              "      <td>2020-12-03</td>\n",
              "      <td>699887</td>\n",
              "    </tr>\n",
              "    <tr>\n",
              "      <th>50</th>\n",
              "      <td>FAM1</td>\n",
              "      <td>Prd1</td>\n",
              "      <td>Cust1</td>\n",
              "      <td>Head</td>\n",
              "      <td>M.RUB</td>\n",
              "      <td>2020-12-03</td>\n",
              "      <td>44905470</td>\n",
              "    </tr>\n",
              "  </tbody>\n",
              "</table>\n",
              "</div>\n",
              "    <div class=\"colab-df-buttons\">\n",
              "\n",
              "  <div class=\"colab-df-container\">\n",
              "    <button class=\"colab-df-convert\" onclick=\"convertToInteractive('df-98421d1a-26a3-4709-bf16-f8832f22442b')\"\n",
              "            title=\"Convert this dataframe to an interactive table.\"\n",
              "            style=\"display:none;\">\n",
              "\n",
              "  <svg xmlns=\"http://www.w3.org/2000/svg\" height=\"24px\" viewBox=\"0 -960 960 960\">\n",
              "    <path d=\"M120-120v-720h720v720H120Zm60-500h600v-160H180v160Zm220 220h160v-160H400v160Zm0 220h160v-160H400v160ZM180-400h160v-160H180v160Zm440 0h160v-160H620v160ZM180-180h160v-160H180v160Zm440 0h160v-160H620v160Z\"/>\n",
              "  </svg>\n",
              "    </button>\n",
              "\n",
              "  <style>\n",
              "    .colab-df-container {\n",
              "      display:flex;\n",
              "      gap: 12px;\n",
              "    }\n",
              "\n",
              "    .colab-df-convert {\n",
              "      background-color: #E8F0FE;\n",
              "      border: none;\n",
              "      border-radius: 50%;\n",
              "      cursor: pointer;\n",
              "      display: none;\n",
              "      fill: #1967D2;\n",
              "      height: 32px;\n",
              "      padding: 0 0 0 0;\n",
              "      width: 32px;\n",
              "    }\n",
              "\n",
              "    .colab-df-convert:hover {\n",
              "      background-color: #E2EBFA;\n",
              "      box-shadow: 0px 1px 2px rgba(60, 64, 67, 0.3), 0px 1px 3px 1px rgba(60, 64, 67, 0.15);\n",
              "      fill: #174EA6;\n",
              "    }\n",
              "\n",
              "    .colab-df-buttons div {\n",
              "      margin-bottom: 4px;\n",
              "    }\n",
              "\n",
              "    [theme=dark] .colab-df-convert {\n",
              "      background-color: #3B4455;\n",
              "      fill: #D2E3FC;\n",
              "    }\n",
              "\n",
              "    [theme=dark] .colab-df-convert:hover {\n",
              "      background-color: #434B5C;\n",
              "      box-shadow: 0px 1px 3px 1px rgba(0, 0, 0, 0.15);\n",
              "      filter: drop-shadow(0px 1px 2px rgba(0, 0, 0, 0.3));\n",
              "      fill: #FFFFFF;\n",
              "    }\n",
              "  </style>\n",
              "\n",
              "    <script>\n",
              "      const buttonEl =\n",
              "        document.querySelector('#df-98421d1a-26a3-4709-bf16-f8832f22442b button.colab-df-convert');\n",
              "      buttonEl.style.display =\n",
              "        google.colab.kernel.accessAllowed ? 'block' : 'none';\n",
              "\n",
              "      async function convertToInteractive(key) {\n",
              "        const element = document.querySelector('#df-98421d1a-26a3-4709-bf16-f8832f22442b');\n",
              "        const dataTable =\n",
              "          await google.colab.kernel.invokeFunction('convertToInteractive',\n",
              "                                                    [key], {});\n",
              "        if (!dataTable) return;\n",
              "\n",
              "        const docLinkHtml = 'Like what you see? Visit the ' +\n",
              "          '<a target=\"_blank\" href=https://colab.research.google.com/notebooks/data_table.ipynb>data table notebook</a>'\n",
              "          + ' to learn more about interactive tables.';\n",
              "        element.innerHTML = '';\n",
              "        dataTable['output_type'] = 'display_data';\n",
              "        await google.colab.output.renderOutput(dataTable, element);\n",
              "        const docLink = document.createElement('div');\n",
              "        docLink.innerHTML = docLinkHtml;\n",
              "        element.appendChild(docLink);\n",
              "      }\n",
              "    </script>\n",
              "  </div>\n",
              "\n",
              "\n",
              "<div id=\"df-c68e1546-cd7c-4487-825c-83822c8a4d6a\">\n",
              "  <button class=\"colab-df-quickchart\" onclick=\"quickchart('df-c68e1546-cd7c-4487-825c-83822c8a4d6a')\"\n",
              "            title=\"Suggest charts.\"\n",
              "            style=\"display:none;\">\n",
              "\n",
              "<svg xmlns=\"http://www.w3.org/2000/svg\" height=\"24px\"viewBox=\"0 0 24 24\"\n",
              "     width=\"24px\">\n",
              "    <g>\n",
              "        <path d=\"M19 3H5c-1.1 0-2 .9-2 2v14c0 1.1.9 2 2 2h14c1.1 0 2-.9 2-2V5c0-1.1-.9-2-2-2zM9 17H7v-7h2v7zm4 0h-2V7h2v10zm4 0h-2v-4h2v4z\"/>\n",
              "    </g>\n",
              "</svg>\n",
              "  </button>\n",
              "\n",
              "<style>\n",
              "  .colab-df-quickchart {\n",
              "      --bg-color: #E8F0FE;\n",
              "      --fill-color: #1967D2;\n",
              "      --hover-bg-color: #E2EBFA;\n",
              "      --hover-fill-color: #174EA6;\n",
              "      --disabled-fill-color: #AAA;\n",
              "      --disabled-bg-color: #DDD;\n",
              "  }\n",
              "\n",
              "  [theme=dark] .colab-df-quickchart {\n",
              "      --bg-color: #3B4455;\n",
              "      --fill-color: #D2E3FC;\n",
              "      --hover-bg-color: #434B5C;\n",
              "      --hover-fill-color: #FFFFFF;\n",
              "      --disabled-bg-color: #3B4455;\n",
              "      --disabled-fill-color: #666;\n",
              "  }\n",
              "\n",
              "  .colab-df-quickchart {\n",
              "    background-color: var(--bg-color);\n",
              "    border: none;\n",
              "    border-radius: 50%;\n",
              "    cursor: pointer;\n",
              "    display: none;\n",
              "    fill: var(--fill-color);\n",
              "    height: 32px;\n",
              "    padding: 0;\n",
              "    width: 32px;\n",
              "  }\n",
              "\n",
              "  .colab-df-quickchart:hover {\n",
              "    background-color: var(--hover-bg-color);\n",
              "    box-shadow: 0 1px 2px rgba(60, 64, 67, 0.3), 0 1px 3px 1px rgba(60, 64, 67, 0.15);\n",
              "    fill: var(--button-hover-fill-color);\n",
              "  }\n",
              "\n",
              "  .colab-df-quickchart-complete:disabled,\n",
              "  .colab-df-quickchart-complete:disabled:hover {\n",
              "    background-color: var(--disabled-bg-color);\n",
              "    fill: var(--disabled-fill-color);\n",
              "    box-shadow: none;\n",
              "  }\n",
              "\n",
              "  .colab-df-spinner {\n",
              "    border: 2px solid var(--fill-color);\n",
              "    border-color: transparent;\n",
              "    border-bottom-color: var(--fill-color);\n",
              "    animation:\n",
              "      spin 1s steps(1) infinite;\n",
              "  }\n",
              "\n",
              "  @keyframes spin {\n",
              "    0% {\n",
              "      border-color: transparent;\n",
              "      border-bottom-color: var(--fill-color);\n",
              "      border-left-color: var(--fill-color);\n",
              "    }\n",
              "    20% {\n",
              "      border-color: transparent;\n",
              "      border-left-color: var(--fill-color);\n",
              "      border-top-color: var(--fill-color);\n",
              "    }\n",
              "    30% {\n",
              "      border-color: transparent;\n",
              "      border-left-color: var(--fill-color);\n",
              "      border-top-color: var(--fill-color);\n",
              "      border-right-color: var(--fill-color);\n",
              "    }\n",
              "    40% {\n",
              "      border-color: transparent;\n",
              "      border-right-color: var(--fill-color);\n",
              "      border-top-color: var(--fill-color);\n",
              "    }\n",
              "    60% {\n",
              "      border-color: transparent;\n",
              "      border-right-color: var(--fill-color);\n",
              "    }\n",
              "    80% {\n",
              "      border-color: transparent;\n",
              "      border-right-color: var(--fill-color);\n",
              "      border-bottom-color: var(--fill-color);\n",
              "    }\n",
              "    90% {\n",
              "      border-color: transparent;\n",
              "      border-bottom-color: var(--fill-color);\n",
              "    }\n",
              "  }\n",
              "</style>\n",
              "\n",
              "  <script>\n",
              "    async function quickchart(key) {\n",
              "      const quickchartButtonEl =\n",
              "        document.querySelector('#' + key + ' button');\n",
              "      quickchartButtonEl.disabled = true;  // To prevent multiple clicks.\n",
              "      quickchartButtonEl.classList.add('colab-df-spinner');\n",
              "      try {\n",
              "        const charts = await google.colab.kernel.invokeFunction(\n",
              "            'suggestCharts', [key], {});\n",
              "      } catch (error) {\n",
              "        console.error('Error during call to suggestCharts:', error);\n",
              "      }\n",
              "      quickchartButtonEl.classList.remove('colab-df-spinner');\n",
              "      quickchartButtonEl.classList.add('colab-df-quickchart-complete');\n",
              "    }\n",
              "    (() => {\n",
              "      let quickchartButtonEl =\n",
              "        document.querySelector('#df-c68e1546-cd7c-4487-825c-83822c8a4d6a button');\n",
              "      quickchartButtonEl.style.display =\n",
              "        google.colab.kernel.accessAllowed ? 'block' : 'none';\n",
              "    })();\n",
              "  </script>\n",
              "</div>\n",
              "    </div>\n",
              "  </div>\n"
            ]
          },
          "metadata": {},
          "execution_count": 22
        }
      ]
    },
    {
      "cell_type": "markdown",
      "source": [
        "Явно заметна следующая структура:\n",
        "\n",
        "1. В каждую дату сделки записаны две транзакции - в рублях и в швейцарских франках. При делении одной суммы на другую получается значение, примерно соответсвующее курсу франка. Как следствие - можно предположить, что это одна и та же сделка, занесённая в базу дважды в разных валютах - в рублях и во франках. Вероятно, это связано с тем, что сделка совершена российской компанией на международном рынке за франки по текущему курсу.\n",
        "\n",
        "2. Хорошо заметно, что большиснтво транзакций делится на пары - отрицательное и положительное значение с одинаковой абсолютной величиной.\n",
        "\n",
        "3. Исходя из этого можно сделать вывод, что отрицательная сделка соответствует факту выставления счёта клиенту, а положительная - оплата счёта клиентом (поступление денег на рассчётный счёт компании).\n",
        "\n",
        "4. Бывают исключения и артефакты - нулевые сделки (возможно, поставки рекламных или тестовых образцов, или же аннулированные счета), а также ситуации, когда отрицательная и положительная суммы не совпадают по модулю - возможно, это соответствует случаям, когда покупатель гасит задолженность в несколько платежей или работает с компанией на условиях рассрочки.\n",
        "\n",
        "Таким образом, для выявления закономерностей и дальнейшего анализа можем учитывать сделки с положительной суммой, совершённые в рублях."
      ],
      "metadata": {
        "id": "RD76YGGU2FSD"
      }
    },
    {
      "cell_type": "code",
      "source": [
        "#сохраняем в датасет для удобства\n",
        "sales_rub = sales[(sales['Currency']=='M.RUB') & (sales['Sales']>0)]\n",
        "sales_chf = sales[(sales['Currency']=='M.CHF') & (sales['Sales']>0)]"
      ],
      "metadata": {
        "id": "aWlmk6Lo85Ey"
      },
      "execution_count": 23,
      "outputs": []
    },
    {
      "cell_type": "markdown",
      "source": [
        "Промежуточный вывод: изучены данные по продажам фармацевтической компании. Все имеющиеся признаки кроме суммы продаж - категориальные. Заполнены явные пропуски в столбце с бизнес-единицей, данные в столбце с временем приведены к datetime формату с учётом обнаруженных различий в формате записи. Обнаружено, что каждая сделка дублируется в двух валютах - рублях и швейцарских франках. В данных также присутствуют транзакции с отрицательной суммой, предположительно соответствующие факту выставления счёта клиенту. Таким образом, для анализа дохода компании достаточно исследовать положительные транзакции в одной валюте. Предварительно выбраны рубли."
      ],
      "metadata": {
        "id": "R-tgOV1q-N1k"
      }
    },
    {
      "cell_type": "markdown",
      "source": [
        "# Диагностированные пациенты"
      ],
      "metadata": {
        "id": "IhrXAJLY_rn9"
      }
    },
    {
      "cell_type": "markdown",
      "source": [
        "Следующий этап обзора данных - повторить шаги для имеющегося датасета по диагностированным пациентам. Начнём аналогично - с чтения и предварительного обзора."
      ],
      "metadata": {
        "id": "xgPxOECx_zpi"
      }
    },
    {
      "cell_type": "code",
      "source": [
        "patient = pd.read_excel('Russia Data Analyst Data Set_original (1).xlsx', sheet_name='Patient Flow')"
      ],
      "metadata": {
        "id": "D_xf516eADvj"
      },
      "execution_count": 24,
      "outputs": []
    },
    {
      "cell_type": "code",
      "source": [
        "patient.info()"
      ],
      "metadata": {
        "colab": {
          "base_uri": "https://localhost:8080/"
        },
        "id": "BPO3THeuGH0A",
        "outputId": "79ebab35-2eb5-4916-d2be-bfc2e46acfaa"
      },
      "execution_count": 25,
      "outputs": [
        {
          "output_type": "stream",
          "name": "stdout",
          "text": [
            "<class 'pandas.core.frame.DataFrame'>\n",
            "RangeIndex: 3132 entries, 0 to 3131\n",
            "Data columns (total 6 columns):\n",
            " #   Column              Non-Null Count  Dtype         \n",
            "---  ------              --------------  -----         \n",
            " 0   Product Family      3132 non-null   object        \n",
            " 1   Product             3132 non-null   object        \n",
            " 2   Region EN           3132 non-null   object        \n",
            " 3   Territory EN        3132 non-null   object        \n",
            " 4   Date                3132 non-null   datetime64[ns]\n",
            " 5   Diagnosed Patients  3132 non-null   int64         \n",
            "dtypes: datetime64[ns](1), int64(1), object(4)\n",
            "memory usage: 146.9+ KB\n"
          ]
        }
      ]
    },
    {
      "cell_type": "markdown",
      "source": [
        "В нашем распоряжении три тысячи строк, типы данных везде совпадают с ожидаемыми. Явных пропусков нет. Дальше изучим каждый столбец чуть более детально. там, где можно - попробуем провести параллели с уже имеющимися выводами предварительного обзора данных продаж."
      ],
      "metadata": {
        "id": "tuEpL58AGMwX"
      }
    },
    {
      "cell_type": "markdown",
      "source": [
        "## Product Family"
      ],
      "metadata": {
        "id": "EfqtGI2wG3bK"
      }
    },
    {
      "cell_type": "markdown",
      "source": [
        "Группа продукта."
      ],
      "metadata": {
        "id": "FRVaFGEXG6Nr"
      }
    },
    {
      "cell_type": "code",
      "source": [
        "column_draw(patient, 'Product Family')"
      ],
      "metadata": {
        "colab": {
          "base_uri": "https://localhost:8080/",
          "height": 472
        },
        "id": "mzHYRPxoHIk3",
        "outputId": "fdb3ec1e-139c-4c2d-9c54-9a70c8ae9a1c"
      },
      "execution_count": 26,
      "outputs": [
        {
          "output_type": "display_data",
          "data": {
            "text/plain": [
              "<Figure size 640x480 with 1 Axes>"
            ],
            "image/png": "[encoded data removed]"
          },
          "metadata": {}
        }
      ]
    },
    {
      "cell_type": "markdown",
      "source": [
        "Из 24 групп, о существовании которых мы знаем (возможно их больше, но данные о них не вошли в имеющуюся выборку по продажам), исследовались всего шесть. Больше всего записей по группе 8 (половина данных), меньше всего - по группе 10. Однако, всегда есть вероятность, что в рамках этой группы было проведено одно большое исследование с сотнями пациентов, попавшее в одну запись :) Изучим этот вопрос дополнительно."
      ],
      "metadata": {
        "id": "uLHSnuf0Hoih"
      }
    },
    {
      "cell_type": "markdown",
      "source": [
        "## Product"
      ],
      "metadata": {
        "id": "9h2DRusTII16"
      }
    },
    {
      "cell_type": "markdown",
      "source": [
        "Аналогично посмотрим на исследованные продукты:"
      ],
      "metadata": {
        "id": "VTKBYL8DIK-L"
      }
    },
    {
      "cell_type": "code",
      "source": [
        "column_describe(patient, 'Product')"
      ],
      "metadata": {
        "colab": {
          "base_uri": "https://localhost:8080/"
        },
        "id": "do4x-18UIO0D",
        "outputId": "d23fe4f6-d181-4edc-8b66-b7f596788fd7"
      },
      "execution_count": 27,
      "outputs": [
        {
          "output_type": "stream",
          "name": "stdout",
          "text": [
            "Количество уникальных значений = 11\n",
            "\n",
            "Количество значений в стоблце:\n",
            "Prd21    1643\n",
            "Prd63     669\n",
            "Prd2      305\n",
            "Prd6      270\n",
            "Prd20     102\n",
            "Prd62      97\n",
            "Prd59      22\n",
            "Prd57       8\n",
            "Prd60       8\n",
            "Prd58       5\n",
            "Prd61       3\n",
            "Name: Product, dtype: int64\n"
          ]
        }
      ]
    },
    {
      "cell_type": "markdown",
      "source": [
        "Изучены 11 продуктов, среди них есть исследования, которые можно назвать массовыми (сотни записей), так и единичные испытания - явно заметен скачок с 20 пациентов до значений порядка сотни."
      ],
      "metadata": {
        "id": "wlH0mu6NIZsq"
      }
    },
    {
      "cell_type": "markdown",
      "source": [
        "## Region"
      ],
      "metadata": {
        "id": "gRsADIWfIuR7"
      }
    },
    {
      "cell_type": "markdown",
      "source": [
        "Вероятно, регион проживания пациента. Что ж, посмотрим на географию проведённых исследований:"
      ],
      "metadata": {
        "id": "biMKyBXcIy93"
      }
    },
    {
      "cell_type": "code",
      "source": [
        "column_describe(patient, 'Region EN')"
      ],
      "metadata": {
        "colab": {
          "base_uri": "https://localhost:8080/"
        },
        "id": "LiOd3hX-JRkb",
        "outputId": "88f9d160-c028-468d-b2ab-58e9c44b2363"
      },
      "execution_count": 28,
      "outputs": [
        {
          "output_type": "stream",
          "name": "stdout",
          "text": [
            "Количество уникальных значений = 8\n",
            "\n",
            "Количество значений в стоблце:\n",
            "Southern                530\n",
            "Volga                   512\n",
            "Moscow                  486\n",
            "North-West              384\n",
            "Central                 330\n",
            "E.Siberia & Far East    323\n",
            "Ural & W.Siberia        314\n",
            "Moscow Region           253\n",
            "Name: Region EN, dtype: int64\n"
          ]
        }
      ]
    },
    {
      "cell_type": "markdown",
      "source": [
        "Видим восемь регионов, соответствующих списку регионов по данным Росстат - значит, предполагается, что были проведены довольно масштабные исследования с учётом жителей всех регионов России. Дополним картину дополнительным изучением следующего столбца:"
      ],
      "metadata": {
        "id": "SFDsOo4hKN8J"
      }
    },
    {
      "cell_type": "markdown",
      "source": [
        "## Territory"
      ],
      "metadata": {
        "id": "aPngMdqlK6KP"
      }
    },
    {
      "cell_type": "markdown",
      "source": [
        "Территория проживания? Посмотрим на значения:"
      ],
      "metadata": {
        "id": "Lq7KfHwrK8cZ"
      }
    },
    {
      "cell_type": "code",
      "source": [
        "column_describe(patient, 'Territory EN')"
      ],
      "metadata": {
        "colab": {
          "base_uri": "https://localhost:8080/"
        },
        "id": "gjKWL999K_qQ",
        "outputId": "70a0319e-255a-4623-d256-280e412d2897"
      },
      "execution_count": 29,
      "outputs": [
        {
          "output_type": "stream",
          "name": "stdout",
          "text": [
            "Количество уникальных значений = 82\n",
            "\n",
            "Количество значений в стоблце:\n",
            "Moscow                      486\n",
            "Moscow Region               253\n",
            "Saint Petersburg            174\n",
            "Krasnodar Oblast            142\n",
            "Rostov Oblast               121\n",
            "                           ... \n",
            "Kamchatka Oblast              5\n",
            "Nenets Autonomous Okrug       3\n",
            "Tyva Republic                 3\n",
            "Magadan Oblast                1\n",
            "Jewish Autonomous Oblast      1\n",
            "Name: Territory EN, Length: 82, dtype: int64\n"
          ]
        }
      ]
    },
    {
      "cell_type": "markdown",
      "source": [
        "Почти полный список всех областей РФ :) Обращаем внимание, что большая часть - Москва и область, Питер и крупные южные населённые пункты, что логично. Вероятнее всего, информация была нужна на этапе формирования выборки пациентов и контроля её репрезентативности и вряд ли будет для нас полезна."
      ],
      "metadata": {
        "id": "nZpfYLTELKSB"
      }
    },
    {
      "cell_type": "markdown",
      "source": [
        "## Date"
      ],
      "metadata": {
        "id": "5BJRWseNIws7"
      }
    },
    {
      "cell_type": "markdown",
      "source": [
        "Предварительная гипотеза такова, что срок проведения исследований по каждому продукту - самая ценная информация в этом датасете, так как можно оценить влияние проведения испытаний на изменение продаж препарата. Однако, в рамках предварительного обзора посмотрим только на временной период, покрываемый имеющимися данными:"
      ],
      "metadata": {
        "id": "1FjTPuljNpkv"
      }
    },
    {
      "cell_type": "code",
      "source": [
        "patient['Date'].describe(datetime_is_numeric=True)"
      ],
      "metadata": {
        "colab": {
          "base_uri": "https://localhost:8080/"
        },
        "id": "WKWXFRASOJKh",
        "outputId": "cc449c35-86be-47f6-ef3a-fe27308909ab"
      },
      "execution_count": 30,
      "outputs": [
        {
          "output_type": "execute_result",
          "data": {
            "text/plain": [
              "count                             3132\n",
              "mean     2019-10-29 09:26:26.206896384\n",
              "min                2019-01-01 00:00:00\n",
              "25%                2019-06-02 00:00:00\n",
              "50%                2019-11-03 00:00:00\n",
              "75%                2020-04-01 00:00:00\n",
              "max                2020-08-01 00:00:00\n",
              "Name: Date, dtype: object"
            ]
          },
          "metadata": {},
          "execution_count": 30
        }
      ]
    },
    {
      "cell_type": "markdown",
      "source": [
        "Временной диапазон - с 1 января 2019 года по 1 августа 2020-го. Данные по продажам - с начала 19-ого года по конец 20-ого, то есть по крайней мере по некоторым продуктам скорее всего будет возможность оценить влияние испытаний препарата на его продажи."
      ],
      "metadata": {
        "id": "8EuZisKgL6pJ"
      }
    },
    {
      "cell_type": "markdown",
      "source": [
        "## Diagnosed Patients"
      ],
      "metadata": {
        "id": "-fOZqvctL6Nj"
      }
    },
    {
      "cell_type": "markdown",
      "source": [
        "Количество продиагностированных пациентов. Посмотрим на распределение:"
      ],
      "metadata": {
        "id": "Gr0mqA-oL_F-"
      }
    },
    {
      "cell_type": "code",
      "source": [
        "column_draw(patient, 'Diagnosed Patients')"
      ],
      "metadata": {
        "colab": {
          "base_uri": "https://localhost:8080/",
          "height": 472
        },
        "id": "xAvkTgfkMMPZ",
        "outputId": "bd9794c5-67a5-4e9a-b5d9-39e6166fdd70"
      },
      "execution_count": 31,
      "outputs": [
        {
          "output_type": "display_data",
          "data": {
            "text/plain": [
              "<Figure size 640x480 with 1 Axes>"
            ],
            "image/png": "[encoded data removed]"
          },
          "metadata": {}
        }
      ]
    },
    {
      "cell_type": "markdown",
      "source": [
        "По распределению хорошо видно, что подавляющее большинство записей - это исследования 1-2 пациентов. Штучное количество записей- от 6 до 14 пациентов."
      ],
      "metadata": {
        "id": "SZqYWi53M6pm"
      }
    },
    {
      "cell_type": "markdown",
      "source": [
        "Промежуточный вывод:\n",
        "\n",
        "Изучены данные по диагностированию пациентов. Датасет состоит из трёх тысяч строк и шести столбцов, явных и неявных пропусков не обнаружено, явных аномалий в данных не найдено. Исследования проводились по шести продуктовым группам, что составляет четверть общего количества групп по имеющимся у нас данным. Изучены 11 продуктов. Преимущественно одна запись соответствует 1-2 пациентам. География обследованных пациентов - вся Россия, что позволяет сделать гипотезу о корректности составленной выборки при проведении испытаний. Дополнительно стоит отметить, что временной период покрывает интервал с начала 2019-го года по август 2020-го, что предварительно позволит оценить влияние исследований на изменение продаж соответствующего продукта или, вероятно, продуктовой группы."
      ],
      "metadata": {
        "id": "jCUYccTQIHB8"
      }
    },
    {
      "cell_type": "markdown",
      "source": [
        "# Исследовательский анализ данных"
      ],
      "metadata": {
        "id": "zKtGGSplQ_jl"
      }
    },
    {
      "cell_type": "markdown",
      "source": [
        "Данный раздел посвящён более глубокому анализу и поиску закономерностей и взаимосвязей."
      ],
      "metadata": {
        "id": "X5gmQPQWRDJL"
      }
    },
    {
      "cell_type": "markdown",
      "source": [
        "## Время исследования для каждой группы продуктов и конкретного продукта"
      ],
      "metadata": {
        "id": "U2jFT9eTSQRj"
      }
    },
    {
      "cell_type": "markdown",
      "source": [
        "Для анализа влияния исследования на изменение продаж сначала проанализируем длительность и время исследований по каждому продукту и группе продуктов.\n",
        "\n",
        "Сначала по группам продуктов:"
      ],
      "metadata": {
        "id": "cZFJKPuwSmcK"
      }
    },
    {
      "cell_type": "code",
      "source": [
        "plt.figure(figsize=(10, 5), layout=\"constrained\")\n",
        "for fam in patient['Product Family'].unique():\n",
        "  plt.hist(patient[patient['Product Family']==fam]['Date'], label = str(fam), alpha=.3)\n",
        "plt.xlabel(\"date\")\n",
        "plt.ylabel('quantity')\n",
        "plt.legend()\n",
        "plt.title(\"Patient Flow\")\n",
        "plt.show()\n"
      ],
      "metadata": {
        "colab": {
          "base_uri": "https://localhost:8080/",
          "height": 528
        },
        "id": "-dGwTbd5TERW",
        "outputId": "7feeb39f-2a0d-47a4-e027-45194a9acf18"
      },
      "execution_count": 32,
      "outputs": [
        {
          "output_type": "display_data",
          "data": {
            "text/plain": [
              "<Figure size 1000x500 with 1 Axes>"
            ],
            "image/png": "[encoded data removed]"
          },
          "metadata": {}
        }
      ]
    },
    {
      "cell_type": "markdown",
      "source": [
        "Видно, что освещаемый данными период затрагивает все группы продуктов, то есть исследования велись параллельно. Есть вероятность, что в июле 2020-го исследования не остановились, просто дальнейшие данные нам не предоставлены."
      ],
      "metadata": {
        "id": "DNMUJOwVVdfO"
      }
    },
    {
      "cell_type": "markdown",
      "source": [
        "Теперь посмотрим данные по каждому продукту внутри групп:"
      ],
      "metadata": {
        "id": "sZHhUgzdWG1q"
      }
    },
    {
      "cell_type": "code",
      "source": [
        "plt.figure(figsize=(18, 10), layout=\"constrained\")\n",
        "fam_array = patient['Product Family'].unique()\n",
        "\n",
        "for i in range(len(patient['Product Family'].unique())):\n",
        "  plt.subplot(2, 3, i+1)\n",
        "  for prod in patient[patient['Product Family']==fam_array[i]]['Product'].unique():\n",
        "    plt.hist(patient[(patient['Product Family']==fam_array[i]) & (patient['Product']==prod)]['Date'], label = str(prod), alpha=.3)\n",
        "  plt.xlabel(\"date\")\n",
        "  plt.ylabel('quantity')\n",
        "  plt.legend()\n",
        "  plt.title(str(fam_array[i]))\n",
        "plt.show()\n"
      ],
      "metadata": {
        "colab": {
          "base_uri": "https://localhost:8080/",
          "height": 688
        },
        "id": "3mybjPkuWMbt",
        "outputId": "3a8739fb-baf1-44b1-b2e7-f0e708ff6be5"
      },
      "execution_count": 33,
      "outputs": [
        {
          "output_type": "display_data",
          "data": {
            "text/plain": [
              "<Figure size 1800x1000 with 6 Axes>"
            ],
            "image/png": "[encoded data removed]"
          },
          "metadata": {}
        }
      ]
    },
    {
      "cell_type": "markdown",
      "source": [
        "А вот здесь уже можно заметить некоторые закономерности:\n",
        "\n",
        "1. Видно, что некоторые продукты повторяются в рамках исследования разных групп - например, продукт 20 встречается и в 1, и в 10 группе. Разная цель исследований? Есть вероятность, что уникальный идентификатор продукта - пара из группы и индивидуального кода, но это было бы не очень удобно с точки зрения хранения и выгрузки информации, так что отбросим эту мысль и будем считать это одним продуктом, исследование которого проводилось в двух различных плоскостях.\n",
        "\n",
        "2. В группах 25 и 26 видны три явных пика, примерно совпадающих по датам - возможно, это схожие или сильно связанные группы.\n",
        "\n",
        "3. Исследование группы 8 практически равномерно, с неявно выраженными пиками в тех же временных интервалах\n",
        "\n",
        "4. Существенных статистически значимых выводов по исследованию группы 10 сделать нельзя - данные по ней единичные\n",
        "\n",
        "5. Существенно отличается характер исследований для группы 27 - тут и совсем виной вид распределения с явно выраженным пиком (обрезанный Гаусс), и большое количество исследуемых препаратов (7 против 1-2 в остальных группах). Возможно, была применена качественно иная методология. Видно, что основной процесс начался в 2020-ом году, хотя единичные всплески приходятся на конец 2019-ого. Возможно, это тестирование новых разработок.\n",
        "\n",
        "\n",
        "Гипотеза: пики в группах 25, 26 и 8 связаны с исследованиями в крупных населённых пунктах. Проверим:"
      ],
      "metadata": {
        "id": "3i89TTPOZ_H7"
      }
    },
    {
      "cell_type": "code",
      "source": [
        "plt.figure(figsize=(10, 5), layout=\"constrained\")\n",
        "for reg in patient['Territory EN'].value_counts()[:5].index:\n",
        "  plt.hist(patient[patient['Territory EN']==reg]['Date'], label = str(reg), alpha=.4)\n",
        "plt.xlabel(\"date\")\n",
        "plt.ylabel('quantity')\n",
        "plt.legend()\n",
        "plt.title(\"Top-5 biggest regions\")\n",
        "plt.show()\n"
      ],
      "metadata": {
        "colab": {
          "base_uri": "https://localhost:8080/",
          "height": 528
        },
        "id": "gibPFJxAdAxi",
        "outputId": "0d753e13-de09-4e5d-c0a7-e12ebbb210e9"
      },
      "execution_count": 34,
      "outputs": [
        {
          "output_type": "display_data",
          "data": {
            "text/plain": [
              "<Figure size 1000x500 with 1 Axes>"
            ],
            "image/png": "[encoded data removed]"
          },
          "metadata": {}
        }
      ]
    },
    {
      "cell_type": "markdown",
      "source": [
        "Гипотеза подтвердилась. Явно видно, что пик в марте 2019-го года - это большое количество исследованных москвичей, пик ноября 2019ого и начала 2020-го - это Московская область и Питер, а май 2020го - это снова Москва и область с лёгким налётом Краснодарского края."
      ],
      "metadata": {
        "id": "rL9aj4lid-ua"
      }
    },
    {
      "cell_type": "markdown",
      "source": [
        "В качестве завершающего штриха посмотрим на количество продуктов в каждой группе по имеющимся данным продаж:"
      ],
      "metadata": {
        "id": "JummzlIpfU-q"
      }
    },
    {
      "cell_type": "code",
      "source": [
        "sales.pivot_table(index=['Product Family'], values='Product', aggfunc='nunique').sort_index()"
      ],
      "metadata": {
        "colab": {
          "base_uri": "https://localhost:8080/",
          "height": 833
        },
        "id": "qG7iJ2Vzf9Vy",
        "outputId": "62c6715d-363d-4df3-efb5-75299f24223e"
      },
      "execution_count": 35,
      "outputs": [
        {
          "output_type": "execute_result",
          "data": {
            "text/plain": [
              "                Product\n",
              "Product Family         \n",
              "FAM1                  6\n",
              "FAM10                 4\n",
              "FAM11                 4\n",
              "FAM12                 3\n",
              "FAM13                 3\n",
              "FAM14                 1\n",
              "FAM15                 1\n",
              "FAM16                 2\n",
              "FAM17                 1\n",
              "FAM18                 2\n",
              "FAM19                 1\n",
              "FAM2                  3\n",
              "FAM20                 1\n",
              "FAM21                 4\n",
              "FAM22                 1\n",
              "FAM23                 2\n",
              "FAM24                 1\n",
              "FAM3                  3\n",
              "FAM4                  2\n",
              "FAM5                  2\n",
              "FAM6                  1\n",
              "FAM7                  3\n",
              "FAM8                  4\n",
              "FAM9                  1"
            ],
            "text/html": [
              "\n",
              "  <div id=\"df-6a0ba4e7-5df9-4a39-964d-13ff900c14a2\" class=\"colab-df-container\">\n",
              "    <div>\n",
              "<style scoped>\n",
              "    .dataframe tbody tr th:only-of-type {\n",
              "        vertical-align: middle;\n",
              "    }\n",
              "\n",
              "    .dataframe tbody tr th {\n",
              "        vertical-align: top;\n",
              "    }\n",
              "\n",
              "    .dataframe thead th {\n",
              "        text-align: right;\n",
              "    }\n",
              "</style>\n",
              "<table border=\"1\" class=\"dataframe\">\n",
              "  <thead>\n",
              "    <tr style=\"text-align: right;\">\n",
              "      <th></th>\n",
              "      <th>Product</th>\n",
              "    </tr>\n",
              "    <tr>\n",
              "      <th>Product Family</th>\n",
              "      <th></th>\n",
              "    </tr>\n",
              "  </thead>\n",
              "  <tbody>\n",
              "    <tr>\n",
              "      <th>FAM1</th>\n",
              "      <td>6</td>\n",
              "    </tr>\n",
              "    <tr>\n",
              "      <th>FAM10</th>\n",
              "      <td>4</td>\n",
              "    </tr>\n",
              "    <tr>\n",
              "      <th>FAM11</th>\n",
              "      <td>4</td>\n",
              "    </tr>\n",
              "    <tr>\n",
              "      <th>FAM12</th>\n",
              "      <td>3</td>\n",
              "    </tr>\n",
              "    <tr>\n",
              "      <th>FAM13</th>\n",
              "      <td>3</td>\n",
              "    </tr>\n",
              "    <tr>\n",
              "      <th>FAM14</th>\n",
              "      <td>1</td>\n",
              "    </tr>\n",
              "    <tr>\n",
              "      <th>FAM15</th>\n",
              "      <td>1</td>\n",
              "    </tr>\n",
              "    <tr>\n",
              "      <th>FAM16</th>\n",
              "      <td>2</td>\n",
              "    </tr>\n",
              "    <tr>\n",
              "      <th>FAM17</th>\n",
              "      <td>1</td>\n",
              "    </tr>\n",
              "    <tr>\n",
              "      <th>FAM18</th>\n",
              "      <td>2</td>\n",
              "    </tr>\n",
              "    <tr>\n",
              "      <th>FAM19</th>\n",
              "      <td>1</td>\n",
              "    </tr>\n",
              "    <tr>\n",
              "      <th>FAM2</th>\n",
              "      <td>3</td>\n",
              "    </tr>\n",
              "    <tr>\n",
              "      <th>FAM20</th>\n",
              "      <td>1</td>\n",
              "    </tr>\n",
              "    <tr>\n",
              "      <th>FAM21</th>\n",
              "      <td>4</td>\n",
              "    </tr>\n",
              "    <tr>\n",
              "      <th>FAM22</th>\n",
              "      <td>1</td>\n",
              "    </tr>\n",
              "    <tr>\n",
              "      <th>FAM23</th>\n",
              "      <td>2</td>\n",
              "    </tr>\n",
              "    <tr>\n",
              "      <th>FAM24</th>\n",
              "      <td>1</td>\n",
              "    </tr>\n",
              "    <tr>\n",
              "      <th>FAM3</th>\n",
              "      <td>3</td>\n",
              "    </tr>\n",
              "    <tr>\n",
              "      <th>FAM4</th>\n",
              "      <td>2</td>\n",
              "    </tr>\n",
              "    <tr>\n",
              "      <th>FAM5</th>\n",
              "      <td>2</td>\n",
              "    </tr>\n",
              "    <tr>\n",
              "      <th>FAM6</th>\n",
              "      <td>1</td>\n",
              "    </tr>\n",
              "    <tr>\n",
              "      <th>FAM7</th>\n",
              "      <td>3</td>\n",
              "    </tr>\n",
              "    <tr>\n",
              "      <th>FAM8</th>\n",
              "      <td>4</td>\n",
              "    </tr>\n",
              "    <tr>\n",
              "      <th>FAM9</th>\n",
              "      <td>1</td>\n",
              "    </tr>\n",
              "  </tbody>\n",
              "</table>\n",
              "</div>\n",
              "    <div class=\"colab-df-buttons\">\n",
              "\n",
              "  <div class=\"colab-df-container\">\n",
              "    <button class=\"colab-df-convert\" onclick=\"convertToInteractive('df-6a0ba4e7-5df9-4a39-964d-13ff900c14a2')\"\n",
              "            title=\"Convert this dataframe to an interactive table.\"\n",
              "            style=\"display:none;\">\n",
              "\n",
              "  <svg xmlns=\"http://www.w3.org/2000/svg\" height=\"24px\" viewBox=\"0 -960 960 960\">\n",
              "    <path d=\"M120-120v-720h720v720H120Zm60-500h600v-160H180v160Zm220 220h160v-160H400v160Zm0 220h160v-160H400v160ZM180-400h160v-160H180v160Zm440 0h160v-160H620v160ZM180-180h160v-160H180v160Zm440 0h160v-160H620v160Z\"/>\n",
              "  </svg>\n",
              "    </button>\n",
              "\n",
              "  <style>\n",
              "    .colab-df-container {\n",
              "      display:flex;\n",
              "      gap: 12px;\n",
              "    }\n",
              "\n",
              "    .colab-df-convert {\n",
              "      background-color: #E8F0FE;\n",
              "      border: none;\n",
              "      border-radius: 50%;\n",
              "      cursor: pointer;\n",
              "      display: none;\n",
              "      fill: #1967D2;\n",
              "      height: 32px;\n",
              "      padding: 0 0 0 0;\n",
              "      width: 32px;\n",
              "    }\n",
              "\n",
              "    .colab-df-convert:hover {\n",
              "      background-color: #E2EBFA;\n",
              "      box-shadow: 0px 1px 2px rgba(60, 64, 67, 0.3), 0px 1px 3px 1px rgba(60, 64, 67, 0.15);\n",
              "      fill: #174EA6;\n",
              "    }\n",
              "\n",
              "    .colab-df-buttons div {\n",
              "      margin-bottom: 4px;\n",
              "    }\n",
              "\n",
              "    [theme=dark] .colab-df-convert {\n",
              "      background-color: #3B4455;\n",
              "      fill: #D2E3FC;\n",
              "    }\n",
              "\n",
              "    [theme=dark] .colab-df-convert:hover {\n",
              "      background-color: #434B5C;\n",
              "      box-shadow: 0px 1px 3px 1px rgba(0, 0, 0, 0.15);\n",
              "      filter: drop-shadow(0px 1px 2px rgba(0, 0, 0, 0.3));\n",
              "      fill: #FFFFFF;\n",
              "    }\n",
              "  </style>\n",
              "\n",
              "    <script>\n",
              "      const buttonEl =\n",
              "        document.querySelector('#df-6a0ba4e7-5df9-4a39-964d-13ff900c14a2 button.colab-df-convert');\n",
              "      buttonEl.style.display =\n",
              "        google.colab.kernel.accessAllowed ? 'block' : 'none';\n",
              "\n",
              "      async function convertToInteractive(key) {\n",
              "        const element = document.querySelector('#df-6a0ba4e7-5df9-4a39-964d-13ff900c14a2');\n",
              "        const dataTable =\n",
              "          await google.colab.kernel.invokeFunction('convertToInteractive',\n",
              "                                                    [key], {});\n",
              "        if (!dataTable) return;\n",
              "\n",
              "        const docLinkHtml = 'Like what you see? Visit the ' +\n",
              "          '<a target=\"_blank\" href=https://colab.research.google.com/notebooks/data_table.ipynb>data table notebook</a>'\n",
              "          + ' to learn more about interactive tables.';\n",
              "        element.innerHTML = '';\n",
              "        dataTable['output_type'] = 'display_data';\n",
              "        await google.colab.output.renderOutput(dataTable, element);\n",
              "        const docLink = document.createElement('div');\n",
              "        docLink.innerHTML = docLinkHtml;\n",
              "        element.appendChild(docLink);\n",
              "      }\n",
              "    </script>\n",
              "  </div>\n",
              "\n",
              "\n",
              "<div id=\"df-7d361659-1481-44e5-addd-8d0d7775eee0\">\n",
              "  <button class=\"colab-df-quickchart\" onclick=\"quickchart('df-7d361659-1481-44e5-addd-8d0d7775eee0')\"\n",
              "            title=\"Suggest charts.\"\n",
              "            style=\"display:none;\">\n",
              "\n",
              "<svg xmlns=\"http://www.w3.org/2000/svg\" height=\"24px\"viewBox=\"0 0 24 24\"\n",
              "     width=\"24px\">\n",
              "    <g>\n",
              "        <path d=\"M19 3H5c-1.1 0-2 .9-2 2v14c0 1.1.9 2 2 2h14c1.1 0 2-.9 2-2V5c0-1.1-.9-2-2-2zM9 17H7v-7h2v7zm4 0h-2V7h2v10zm4 0h-2v-4h2v4z\"/>\n",
              "    </g>\n",
              "</svg>\n",
              "  </button>\n",
              "\n",
              "<style>\n",
              "  .colab-df-quickchart {\n",
              "      --bg-color: #E8F0FE;\n",
              "      --fill-color: #1967D2;\n",
              "      --hover-bg-color: #E2EBFA;\n",
              "      --hover-fill-color: #174EA6;\n",
              "      --disabled-fill-color: #AAA;\n",
              "      --disabled-bg-color: #DDD;\n",
              "  }\n",
              "\n",
              "  [theme=dark] .colab-df-quickchart {\n",
              "      --bg-color: #3B4455;\n",
              "      --fill-color: #D2E3FC;\n",
              "      --hover-bg-color: #434B5C;\n",
              "      --hover-fill-color: #FFFFFF;\n",
              "      --disabled-bg-color: #3B4455;\n",
              "      --disabled-fill-color: #666;\n",
              "  }\n",
              "\n",
              "  .colab-df-quickchart {\n",
              "    background-color: var(--bg-color);\n",
              "    border: none;\n",
              "    border-radius: 50%;\n",
              "    cursor: pointer;\n",
              "    display: none;\n",
              "    fill: var(--fill-color);\n",
              "    height: 32px;\n",
              "    padding: 0;\n",
              "    width: 32px;\n",
              "  }\n",
              "\n",
              "  .colab-df-quickchart:hover {\n",
              "    background-color: var(--hover-bg-color);\n",
              "    box-shadow: 0 1px 2px rgba(60, 64, 67, 0.3), 0 1px 3px 1px rgba(60, 64, 67, 0.15);\n",
              "    fill: var(--button-hover-fill-color);\n",
              "  }\n",
              "\n",
              "  .colab-df-quickchart-complete:disabled,\n",
              "  .colab-df-quickchart-complete:disabled:hover {\n",
              "    background-color: var(--disabled-bg-color);\n",
              "    fill: var(--disabled-fill-color);\n",
              "    box-shadow: none;\n",
              "  }\n",
              "\n",
              "  .colab-df-spinner {\n",
              "    border: 2px solid var(--fill-color);\n",
              "    border-color: transparent;\n",
              "    border-bottom-color: var(--fill-color);\n",
              "    animation:\n",
              "      spin 1s steps(1) infinite;\n",
              "  }\n",
              "\n",
              "  @keyframes spin {\n",
              "    0% {\n",
              "      border-color: transparent;\n",
              "      border-bottom-color: var(--fill-color);\n",
              "      border-left-color: var(--fill-color);\n",
              "    }\n",
              "    20% {\n",
              "      border-color: transparent;\n",
              "      border-left-color: var(--fill-color);\n",
              "      border-top-color: var(--fill-color);\n",
              "    }\n",
              "    30% {\n",
              "      border-color: transparent;\n",
              "      border-left-color: var(--fill-color);\n",
              "      border-top-color: var(--fill-color);\n",
              "      border-right-color: var(--fill-color);\n",
              "    }\n",
              "    40% {\n",
              "      border-color: transparent;\n",
              "      border-right-color: var(--fill-color);\n",
              "      border-top-color: var(--fill-color);\n",
              "    }\n",
              "    60% {\n",
              "      border-color: transparent;\n",
              "      border-right-color: var(--fill-color);\n",
              "    }\n",
              "    80% {\n",
              "      border-color: transparent;\n",
              "      border-right-color: var(--fill-color);\n",
              "      border-bottom-color: var(--fill-color);\n",
              "    }\n",
              "    90% {\n",
              "      border-color: transparent;\n",
              "      border-bottom-color: var(--fill-color);\n",
              "    }\n",
              "  }\n",
              "</style>\n",
              "\n",
              "  <script>\n",
              "    async function quickchart(key) {\n",
              "      const quickchartButtonEl =\n",
              "        document.querySelector('#' + key + ' button');\n",
              "      quickchartButtonEl.disabled = true;  // To prevent multiple clicks.\n",
              "      quickchartButtonEl.classList.add('colab-df-spinner');\n",
              "      try {\n",
              "        const charts = await google.colab.kernel.invokeFunction(\n",
              "            'suggestCharts', [key], {});\n",
              "      } catch (error) {\n",
              "        console.error('Error during call to suggestCharts:', error);\n",
              "      }\n",
              "      quickchartButtonEl.classList.remove('colab-df-spinner');\n",
              "      quickchartButtonEl.classList.add('colab-df-quickchart-complete');\n",
              "    }\n",
              "    (() => {\n",
              "      let quickchartButtonEl =\n",
              "        document.querySelector('#df-7d361659-1481-44e5-addd-8d0d7775eee0 button');\n",
              "      quickchartButtonEl.style.display =\n",
              "        google.colab.kernel.accessAllowed ? 'block' : 'none';\n",
              "    })();\n",
              "  </script>\n",
              "</div>\n",
              "    </div>\n",
              "  </div>\n"
            ]
          },
          "metadata": {},
          "execution_count": 35
        }
      ]
    },
    {
      "cell_type": "markdown",
      "source": [
        "Ещё одна новость: по самым \"красивым\" исследованиям препаратов из группы 27 данных по продажам ещё нет - вероятно, препараты находятся на стадии клинических испытаний. Аналогично можно сказать по группам 25 и 26. Статистика по группе 8 до неприличия мала, итого с точки зрения влияния на продажи можем оценить только две группы - 1 (исследованы 2 препарата из 6) и 8 (исследован один препарат из 4)."
      ],
      "metadata": {
        "id": "Aq803RrThbF5"
      }
    },
    {
      "cell_type": "markdown",
      "source": [
        "## Динамика продаж"
      ],
      "metadata": {
        "id": "-z0PLKzOiHG3"
      }
    },
    {
      "cell_type": "markdown",
      "source": [
        "Посмотрим на то, меняется ли количество клиентов с течением времени. Отметим пока, что постоянные клиенты могут не делать закупки ежемесячно - в любом случае, на периодичность тоже постараемся обратить внимание."
      ],
      "metadata": {
        "id": "soECypIPp_aK"
      }
    },
    {
      "cell_type": "code",
      "source": [
        "sales['Year'] = sales['Date'].dt.year\n",
        "sales['Month'] = sales['Date'].dt.month"
      ],
      "metadata": {
        "id": "piw8Br8qqkXs"
      },
      "execution_count": 45,
      "outputs": []
    },
    {
      "cell_type": "code",
      "source": [
        "num_customers = sales.pivot_table(index=['Year', 'Month'],\n",
        "                                  values='Customer', aggfunc='nunique').reset_index()"
      ],
      "metadata": {
        "id": "E5jYYxLCjcnv"
      },
      "execution_count": 67,
      "outputs": []
    },
    {
      "cell_type": "code",
      "source": [
        "num_customers[num_customers['Year']==2019]"
      ],
      "metadata": {
        "colab": {
          "base_uri": "https://localhost:8080/",
          "height": 425
        },
        "id": "YAGFM9lukJzp",
        "outputId": "0fb74575-39af-4163-e708-e26259cd72e0"
      },
      "execution_count": 73,
      "outputs": [
        {
          "output_type": "execute_result",
          "data": {
            "text/plain": [
              "    Year  Month  Customer\n",
              "0   2019      1        21\n",
              "1   2019      2        16\n",
              "2   2019      3        21\n",
              "3   2019      4        20\n",
              "4   2019      5        25\n",
              "5   2019      6        19\n",
              "6   2019      7        24\n",
              "7   2019      8        20\n",
              "8   2019      9        18\n",
              "9   2019     10        23\n",
              "10  2019     11        22\n",
              "11  2019     12        22"
            ],
            "text/html": [
              "\n",
              "  <div id=\"df-df6f3a87-ccd2-48bf-b3ed-e460f41235f8\" class=\"colab-df-container\">\n",
              "    <div>\n",
              "<style scoped>\n",
              "    .dataframe tbody tr th:only-of-type {\n",
              "        vertical-align: middle;\n",
              "    }\n",
              "\n",
              "    .dataframe tbody tr th {\n",
              "        vertical-align: top;\n",
              "    }\n",
              "\n",
              "    .dataframe thead th {\n",
              "        text-align: right;\n",
              "    }\n",
              "</style>\n",
              "<table border=\"1\" class=\"dataframe\">\n",
              "  <thead>\n",
              "    <tr style=\"text-align: right;\">\n",
              "      <th></th>\n",
              "      <th>Year</th>\n",
              "      <th>Month</th>\n",
              "      <th>Customer</th>\n",
              "    </tr>\n",
              "  </thead>\n",
              "  <tbody>\n",
              "    <tr>\n",
              "      <th>0</th>\n",
              "      <td>2019</td>\n",
              "      <td>1</td>\n",
              "      <td>21</td>\n",
              "    </tr>\n",
              "    <tr>\n",
              "      <th>1</th>\n",
              "      <td>2019</td>\n",
              "      <td>2</td>\n",
              "      <td>16</td>\n",
              "    </tr>\n",
              "    <tr>\n",
              "      <th>2</th>\n",
              "      <td>2019</td>\n",
              "      <td>3</td>\n",
              "      <td>21</td>\n",
              "    </tr>\n",
              "    <tr>\n",
              "      <th>3</th>\n",
              "      <td>2019</td>\n",
              "      <td>4</td>\n",
              "      <td>20</td>\n",
              "    </tr>\n",
              "    <tr>\n",
              "      <th>4</th>\n",
              "      <td>2019</td>\n",
              "      <td>5</td>\n",
              "      <td>25</td>\n",
              "    </tr>\n",
              "    <tr>\n",
              "      <th>5</th>\n",
              "      <td>2019</td>\n",
              "      <td>6</td>\n",
              "      <td>19</td>\n",
              "    </tr>\n",
              "    <tr>\n",
              "      <th>6</th>\n",
              "      <td>2019</td>\n",
              "      <td>7</td>\n",
              "      <td>24</td>\n",
              "    </tr>\n",
              "    <tr>\n",
              "      <th>7</th>\n",
              "      <td>2019</td>\n",
              "      <td>8</td>\n",
              "      <td>20</td>\n",
              "    </tr>\n",
              "    <tr>\n",
              "      <th>8</th>\n",
              "      <td>2019</td>\n",
              "      <td>9</td>\n",
              "      <td>18</td>\n",
              "    </tr>\n",
              "    <tr>\n",
              "      <th>9</th>\n",
              "      <td>2019</td>\n",
              "      <td>10</td>\n",
              "      <td>23</td>\n",
              "    </tr>\n",
              "    <tr>\n",
              "      <th>10</th>\n",
              "      <td>2019</td>\n",
              "      <td>11</td>\n",
              "      <td>22</td>\n",
              "    </tr>\n",
              "    <tr>\n",
              "      <th>11</th>\n",
              "      <td>2019</td>\n",
              "      <td>12</td>\n",
              "      <td>22</td>\n",
              "    </tr>\n",
              "  </tbody>\n",
              "</table>\n",
              "</div>\n",
              "    <div class=\"colab-df-buttons\">\n",
              "\n",
              "  <div class=\"colab-df-container\">\n",
              "    <button class=\"colab-df-convert\" onclick=\"convertToInteractive('df-df6f3a87-ccd2-48bf-b3ed-e460f41235f8')\"\n",
              "            title=\"Convert this dataframe to an interactive table.\"\n",
              "            style=\"display:none;\">\n",
              "\n",
              "  <svg xmlns=\"http://www.w3.org/2000/svg\" height=\"24px\" viewBox=\"0 -960 960 960\">\n",
              "    <path d=\"M120-120v-720h720v720H120Zm60-500h600v-160H180v160Zm220 220h160v-160H400v160Zm0 220h160v-160H400v160ZM180-400h160v-160H180v160Zm440 0h160v-160H620v160ZM180-180h160v-160H180v160Zm440 0h160v-160H620v160Z\"/>\n",
              "  </svg>\n",
              "    </button>\n",
              "\n",
              "  <style>\n",
              "    .colab-df-container {\n",
              "      display:flex;\n",
              "      gap: 12px;\n",
              "    }\n",
              "\n",
              "    .colab-df-convert {\n",
              "      background-color: #E8F0FE;\n",
              "      border: none;\n",
              "      border-radius: 50%;\n",
              "      cursor: pointer;\n",
              "      display: none;\n",
              "      fill: #1967D2;\n",
              "      height: 32px;\n",
              "      padding: 0 0 0 0;\n",
              "      width: 32px;\n",
              "    }\n",
              "\n",
              "    .colab-df-convert:hover {\n",
              "      background-color: #E2EBFA;\n",
              "      box-shadow: 0px 1px 2px rgba(60, 64, 67, 0.3), 0px 1px 3px 1px rgba(60, 64, 67, 0.15);\n",
              "      fill: #174EA6;\n",
              "    }\n",
              "\n",
              "    .colab-df-buttons div {\n",
              "      margin-bottom: 4px;\n",
              "    }\n",
              "\n",
              "    [theme=dark] .colab-df-convert {\n",
              "      background-color: #3B4455;\n",
              "      fill: #D2E3FC;\n",
              "    }\n",
              "\n",
              "    [theme=dark] .colab-df-convert:hover {\n",
              "      background-color: #434B5C;\n",
              "      box-shadow: 0px 1px 3px 1px rgba(0, 0, 0, 0.15);\n",
              "      filter: drop-shadow(0px 1px 2px rgba(0, 0, 0, 0.3));\n",
              "      fill: #FFFFFF;\n",
              "    }\n",
              "  </style>\n",
              "\n",
              "    <script>\n",
              "      const buttonEl =\n",
              "        document.querySelector('#df-df6f3a87-ccd2-48bf-b3ed-e460f41235f8 button.colab-df-convert');\n",
              "      buttonEl.style.display =\n",
              "        google.colab.kernel.accessAllowed ? 'block' : 'none';\n",
              "\n",
              "      async function convertToInteractive(key) {\n",
              "        const element = document.querySelector('#df-df6f3a87-ccd2-48bf-b3ed-e460f41235f8');\n",
              "        const dataTable =\n",
              "          await google.colab.kernel.invokeFunction('convertToInteractive',\n",
              "                                                    [key], {});\n",
              "        if (!dataTable) return;\n",
              "\n",
              "        const docLinkHtml = 'Like what you see? Visit the ' +\n",
              "          '<a target=\"_blank\" href=https://colab.research.google.com/notebooks/data_table.ipynb>data table notebook</a>'\n",
              "          + ' to learn more about interactive tables.';\n",
              "        element.innerHTML = '';\n",
              "        dataTable['output_type'] = 'display_data';\n",
              "        await google.colab.output.renderOutput(dataTable, element);\n",
              "        const docLink = document.createElement('div');\n",
              "        docLink.innerHTML = docLinkHtml;\n",
              "        element.appendChild(docLink);\n",
              "      }\n",
              "    </script>\n",
              "  </div>\n",
              "\n",
              "\n",
              "<div id=\"df-f8220125-6653-43e4-ad2d-17d34733dfe8\">\n",
              "  <button class=\"colab-df-quickchart\" onclick=\"quickchart('df-f8220125-6653-43e4-ad2d-17d34733dfe8')\"\n",
              "            title=\"Suggest charts.\"\n",
              "            style=\"display:none;\">\n",
              "\n",
              "<svg xmlns=\"http://www.w3.org/2000/svg\" height=\"24px\"viewBox=\"0 0 24 24\"\n",
              "     width=\"24px\">\n",
              "    <g>\n",
              "        <path d=\"M19 3H5c-1.1 0-2 .9-2 2v14c0 1.1.9 2 2 2h14c1.1 0 2-.9 2-2V5c0-1.1-.9-2-2-2zM9 17H7v-7h2v7zm4 0h-2V7h2v10zm4 0h-2v-4h2v4z\"/>\n",
              "    </g>\n",
              "</svg>\n",
              "  </button>\n",
              "\n",
              "<style>\n",
              "  .colab-df-quickchart {\n",
              "      --bg-color: #E8F0FE;\n",
              "      --fill-color: #1967D2;\n",
              "      --hover-bg-color: #E2EBFA;\n",
              "      --hover-fill-color: #174EA6;\n",
              "      --disabled-fill-color: #AAA;\n",
              "      --disabled-bg-color: #DDD;\n",
              "  }\n",
              "\n",
              "  [theme=dark] .colab-df-quickchart {\n",
              "      --bg-color: #3B4455;\n",
              "      --fill-color: #D2E3FC;\n",
              "      --hover-bg-color: #434B5C;\n",
              "      --hover-fill-color: #FFFFFF;\n",
              "      --disabled-bg-color: #3B4455;\n",
              "      --disabled-fill-color: #666;\n",
              "  }\n",
              "\n",
              "  .colab-df-quickchart {\n",
              "    background-color: var(--bg-color);\n",
              "    border: none;\n",
              "    border-radius: 50%;\n",
              "    cursor: pointer;\n",
              "    display: none;\n",
              "    fill: var(--fill-color);\n",
              "    height: 32px;\n",
              "    padding: 0;\n",
              "    width: 32px;\n",
              "  }\n",
              "\n",
              "  .colab-df-quickchart:hover {\n",
              "    background-color: var(--hover-bg-color);\n",
              "    box-shadow: 0 1px 2px rgba(60, 64, 67, 0.3), 0 1px 3px 1px rgba(60, 64, 67, 0.15);\n",
              "    fill: var(--button-hover-fill-color);\n",
              "  }\n",
              "\n",
              "  .colab-df-quickchart-complete:disabled,\n",
              "  .colab-df-quickchart-complete:disabled:hover {\n",
              "    background-color: var(--disabled-bg-color);\n",
              "    fill: var(--disabled-fill-color);\n",
              "    box-shadow: none;\n",
              "  }\n",
              "\n",
              "  .colab-df-spinner {\n",
              "    border: 2px solid var(--fill-color);\n",
              "    border-color: transparent;\n",
              "    border-bottom-color: var(--fill-color);\n",
              "    animation:\n",
              "      spin 1s steps(1) infinite;\n",
              "  }\n",
              "\n",
              "  @keyframes spin {\n",
              "    0% {\n",
              "      border-color: transparent;\n",
              "      border-bottom-color: var(--fill-color);\n",
              "      border-left-color: var(--fill-color);\n",
              "    }\n",
              "    20% {\n",
              "      border-color: transparent;\n",
              "      border-left-color: var(--fill-color);\n",
              "      border-top-color: var(--fill-color);\n",
              "    }\n",
              "    30% {\n",
              "      border-color: transparent;\n",
              "      border-left-color: var(--fill-color);\n",
              "      border-top-color: var(--fill-color);\n",
              "      border-right-color: var(--fill-color);\n",
              "    }\n",
              "    40% {\n",
              "      border-color: transparent;\n",
              "      border-right-color: var(--fill-color);\n",
              "      border-top-color: var(--fill-color);\n",
              "    }\n",
              "    60% {\n",
              "      border-color: transparent;\n",
              "      border-right-color: var(--fill-color);\n",
              "    }\n",
              "    80% {\n",
              "      border-color: transparent;\n",
              "      border-right-color: var(--fill-color);\n",
              "      border-bottom-color: var(--fill-color);\n",
              "    }\n",
              "    90% {\n",
              "      border-color: transparent;\n",
              "      border-bottom-color: var(--fill-color);\n",
              "    }\n",
              "  }\n",
              "</style>\n",
              "\n",
              "  <script>\n",
              "    async function quickchart(key) {\n",
              "      const quickchartButtonEl =\n",
              "        document.querySelector('#' + key + ' button');\n",
              "      quickchartButtonEl.disabled = true;  // To prevent multiple clicks.\n",
              "      quickchartButtonEl.classList.add('colab-df-spinner');\n",
              "      try {\n",
              "        const charts = await google.colab.kernel.invokeFunction(\n",
              "            'suggestCharts', [key], {});\n",
              "      } catch (error) {\n",
              "        console.error('Error during call to suggestCharts:', error);\n",
              "      }\n",
              "      quickchartButtonEl.classList.remove('colab-df-spinner');\n",
              "      quickchartButtonEl.classList.add('colab-df-quickchart-complete');\n",
              "    }\n",
              "    (() => {\n",
              "      let quickchartButtonEl =\n",
              "        document.querySelector('#df-f8220125-6653-43e4-ad2d-17d34733dfe8 button');\n",
              "      quickchartButtonEl.style.display =\n",
              "        google.colab.kernel.accessAllowed ? 'block' : 'none';\n",
              "    })();\n",
              "  </script>\n",
              "</div>\n",
              "    </div>\n",
              "  </div>\n"
            ]
          },
          "metadata": {},
          "execution_count": 73
        }
      ]
    },
    {
      "cell_type": "markdown",
      "source": [
        "Для удобства интерпритации оформим это в графическое представление"
      ],
      "metadata": {
        "id": "iJg1zotZlbdt"
      }
    },
    {
      "cell_type": "code",
      "source": [
        "num_customers['Year'].unique()"
      ],
      "metadata": {
        "colab": {
          "base_uri": "https://localhost:8080/"
        },
        "id": "RyjX9O-7m45o",
        "outputId": "d575163a-8e66-44b8-d807-235b012793bd"
      },
      "execution_count": 74,
      "outputs": [
        {
          "output_type": "execute_result",
          "data": {
            "text/plain": [
              "array([2019, 2020])"
            ]
          },
          "metadata": {},
          "execution_count": 74
        }
      ]
    },
    {
      "cell_type": "code",
      "source": [
        "plt.figure(figsize=(12, 7))\n",
        "col_palette = ['y', 'g']\n",
        "for year in num_customers['Year'].unique():\n",
        "  plt.plot(num_customers[num_customers['Year']==year]['Month'],\n",
        "          num_customers[num_customers['Year']==year]['Customer'],\n",
        "          'o-r', alpha=0.7, label=str(year), lw=4, mec='b', mew=2, ms=6,)\n",
        "plt.legend()\n",
        "plt.grid(True)"
      ],
      "metadata": {
        "colab": {
          "base_uri": "https://localhost:8080/",
          "height": 599
        },
        "id": "S02XXzrgmnas",
        "outputId": "d6bcfe95-f330-426b-dfa4-1587f2fa06ba"
      },
      "execution_count": 79,
      "outputs": [
        {
          "output_type": "display_data",
          "data": {
            "text/plain": [
              "<Figure size 1200x700 with 1 Axes>"
            ],
            "image/png": "[encoded data removed]"
          },
          "metadata": {}
        }
      ]
    },
    {
      "cell_type": "code",
      "source": [
        "sales.head()"
      ],
      "metadata": {
        "colab": {
          "base_uri": "https://localhost:8080/",
          "height": 206
        },
        "id": "xQ9akZlFi86h",
        "outputId": "4f4d420a-04ce-464a-8711-53b2f058fe7b"
      },
      "execution_count": 46,
      "outputs": [
        {
          "output_type": "execute_result",
          "data": {
            "text/plain": [
              "  Product Family Product Customer Business Unit Currency       Date   Sales  \\\n",
              "0           FAM1    Prd1    Cust1          Head    M.CHF 2019-05-02  473885   \n",
              "1           FAM1    Prd1    Cust1          Head    M.CHF 2019-02-28  -23694   \n",
              "2           FAM1    Prd1    Cust1          Head    M.CHF 2019-03-29   23694   \n",
              "3           FAM1    Prd1    Cust1          Head    M.CHF 2019-03-31  -23694   \n",
              "4           FAM1    Prd1    Cust1          Head    M.CHF 2019-04-15  -23694   \n",
              "\n",
              "   Year  Month  \n",
              "0  2019      5  \n",
              "1  2019      2  \n",
              "2  2019      3  \n",
              "3  2019      3  \n",
              "4  2019      4  "
            ],
            "text/html": [
              "\n",
              "  <div id=\"df-cc6ed2e2-f756-47bf-b0cf-c409ebcd6726\" class=\"colab-df-container\">\n",
              "    <div>\n",
              "<style scoped>\n",
              "    .dataframe tbody tr th:only-of-type {\n",
              "        vertical-align: middle;\n",
              "    }\n",
              "\n",
              "    .dataframe tbody tr th {\n",
              "        vertical-align: top;\n",
              "    }\n",
              "\n",
              "    .dataframe thead th {\n",
              "        text-align: right;\n",
              "    }\n",
              "</style>\n",
              "<table border=\"1\" class=\"dataframe\">\n",
              "  <thead>\n",
              "    <tr style=\"text-align: right;\">\n",
              "      <th></th>\n",
              "      <th>Product Family</th>\n",
              "      <th>Product</th>\n",
              "      <th>Customer</th>\n",
              "      <th>Business Unit</th>\n",
              "      <th>Currency</th>\n",
              "      <th>Date</th>\n",
              "      <th>Sales</th>\n",
              "      <th>Year</th>\n",
              "      <th>Month</th>\n",
              "    </tr>\n",
              "  </thead>\n",
              "  <tbody>\n",
              "    <tr>\n",
              "      <th>0</th>\n",
              "      <td>FAM1</td>\n",
              "      <td>Prd1</td>\n",
              "      <td>Cust1</td>\n",
              "      <td>Head</td>\n",
              "      <td>M.CHF</td>\n",
              "      <td>2019-05-02</td>\n",
              "      <td>473885</td>\n",
              "      <td>2019</td>\n",
              "      <td>5</td>\n",
              "    </tr>\n",
              "    <tr>\n",
              "      <th>1</th>\n",
              "      <td>FAM1</td>\n",
              "      <td>Prd1</td>\n",
              "      <td>Cust1</td>\n",
              "      <td>Head</td>\n",
              "      <td>M.CHF</td>\n",
              "      <td>2019-02-28</td>\n",
              "      <td>-23694</td>\n",
              "      <td>2019</td>\n",
              "      <td>2</td>\n",
              "    </tr>\n",
              "    <tr>\n",
              "      <th>2</th>\n",
              "      <td>FAM1</td>\n",
              "      <td>Prd1</td>\n",
              "      <td>Cust1</td>\n",
              "      <td>Head</td>\n",
              "      <td>M.CHF</td>\n",
              "      <td>2019-03-29</td>\n",
              "      <td>23694</td>\n",
              "      <td>2019</td>\n",
              "      <td>3</td>\n",
              "    </tr>\n",
              "    <tr>\n",
              "      <th>3</th>\n",
              "      <td>FAM1</td>\n",
              "      <td>Prd1</td>\n",
              "      <td>Cust1</td>\n",
              "      <td>Head</td>\n",
              "      <td>M.CHF</td>\n",
              "      <td>2019-03-31</td>\n",
              "      <td>-23694</td>\n",
              "      <td>2019</td>\n",
              "      <td>3</td>\n",
              "    </tr>\n",
              "    <tr>\n",
              "      <th>4</th>\n",
              "      <td>FAM1</td>\n",
              "      <td>Prd1</td>\n",
              "      <td>Cust1</td>\n",
              "      <td>Head</td>\n",
              "      <td>M.CHF</td>\n",
              "      <td>2019-04-15</td>\n",
              "      <td>-23694</td>\n",
              "      <td>2019</td>\n",
              "      <td>4</td>\n",
              "    </tr>\n",
              "  </tbody>\n",
              "</table>\n",
              "</div>\n",
              "    <div class=\"colab-df-buttons\">\n",
              "\n",
              "  <div class=\"colab-df-container\">\n",
              "    <button class=\"colab-df-convert\" onclick=\"convertToInteractive('df-cc6ed2e2-f756-47bf-b0cf-c409ebcd6726')\"\n",
              "            title=\"Convert this dataframe to an interactive table.\"\n",
              "            style=\"display:none;\">\n",
              "\n",
              "  <svg xmlns=\"http://www.w3.org/2000/svg\" height=\"24px\" viewBox=\"0 -960 960 960\">\n",
              "    <path d=\"M120-120v-720h720v720H120Zm60-500h600v-160H180v160Zm220 220h160v-160H400v160Zm0 220h160v-160H400v160ZM180-400h160v-160H180v160Zm440 0h160v-160H620v160ZM180-180h160v-160H180v160Zm440 0h160v-160H620v160Z\"/>\n",
              "  </svg>\n",
              "    </button>\n",
              "\n",
              "  <style>\n",
              "    .colab-df-container {\n",
              "      display:flex;\n",
              "      gap: 12px;\n",
              "    }\n",
              "\n",
              "    .colab-df-convert {\n",
              "      background-color: #E8F0FE;\n",
              "      border: none;\n",
              "      border-radius: 50%;\n",
              "      cursor: pointer;\n",
              "      display: none;\n",
              "      fill: #1967D2;\n",
              "      height: 32px;\n",
              "      padding: 0 0 0 0;\n",
              "      width: 32px;\n",
              "    }\n",
              "\n",
              "    .colab-df-convert:hover {\n",
              "      background-color: #E2EBFA;\n",
              "      box-shadow: 0px 1px 2px rgba(60, 64, 67, 0.3), 0px 1px 3px 1px rgba(60, 64, 67, 0.15);\n",
              "      fill: #174EA6;\n",
              "    }\n",
              "\n",
              "    .colab-df-buttons div {\n",
              "      margin-bottom: 4px;\n",
              "    }\n",
              "\n",
              "    [theme=dark] .colab-df-convert {\n",
              "      background-color: #3B4455;\n",
              "      fill: #D2E3FC;\n",
              "    }\n",
              "\n",
              "    [theme=dark] .colab-df-convert:hover {\n",
              "      background-color: #434B5C;\n",
              "      box-shadow: 0px 1px 3px 1px rgba(0, 0, 0, 0.15);\n",
              "      filter: drop-shadow(0px 1px 2px rgba(0, 0, 0, 0.3));\n",
              "      fill: #FFFFFF;\n",
              "    }\n",
              "  </style>\n",
              "\n",
              "    <script>\n",
              "      const buttonEl =\n",
              "        document.querySelector('#df-cc6ed2e2-f756-47bf-b0cf-c409ebcd6726 button.colab-df-convert');\n",
              "      buttonEl.style.display =\n",
              "        google.colab.kernel.accessAllowed ? 'block' : 'none';\n",
              "\n",
              "      async function convertToInteractive(key) {\n",
              "        const element = document.querySelector('#df-cc6ed2e2-f756-47bf-b0cf-c409ebcd6726');\n",
              "        const dataTable =\n",
              "          await google.colab.kernel.invokeFunction('convertToInteractive',\n",
              "                                                    [key], {});\n",
              "        if (!dataTable) return;\n",
              "\n",
              "        const docLinkHtml = 'Like what you see? Visit the ' +\n",
              "          '<a target=\"_blank\" href=https://colab.research.google.com/notebooks/data_table.ipynb>data table notebook</a>'\n",
              "          + ' to learn more about interactive tables.';\n",
              "        element.innerHTML = '';\n",
              "        dataTable['output_type'] = 'display_data';\n",
              "        await google.colab.output.renderOutput(dataTable, element);\n",
              "        const docLink = document.createElement('div');\n",
              "        docLink.innerHTML = docLinkHtml;\n",
              "        element.appendChild(docLink);\n",
              "      }\n",
              "    </script>\n",
              "  </div>\n",
              "\n",
              "\n",
              "<div id=\"df-43d12d6a-43f4-4967-a82a-70ea3b688721\">\n",
              "  <button class=\"colab-df-quickchart\" onclick=\"quickchart('df-43d12d6a-43f4-4967-a82a-70ea3b688721')\"\n",
              "            title=\"Suggest charts.\"\n",
              "            style=\"display:none;\">\n",
              "\n",
              "<svg xmlns=\"http://www.w3.org/2000/svg\" height=\"24px\"viewBox=\"0 0 24 24\"\n",
              "     width=\"24px\">\n",
              "    <g>\n",
              "        <path d=\"M19 3H5c-1.1 0-2 .9-2 2v14c0 1.1.9 2 2 2h14c1.1 0 2-.9 2-2V5c0-1.1-.9-2-2-2zM9 17H7v-7h2v7zm4 0h-2V7h2v10zm4 0h-2v-4h2v4z\"/>\n",
              "    </g>\n",
              "</svg>\n",
              "  </button>\n",
              "\n",
              "<style>\n",
              "  .colab-df-quickchart {\n",
              "      --bg-color: #E8F0FE;\n",
              "      --fill-color: #1967D2;\n",
              "      --hover-bg-color: #E2EBFA;\n",
              "      --hover-fill-color: #174EA6;\n",
              "      --disabled-fill-color: #AAA;\n",
              "      --disabled-bg-color: #DDD;\n",
              "  }\n",
              "\n",
              "  [theme=dark] .colab-df-quickchart {\n",
              "      --bg-color: #3B4455;\n",
              "      --fill-color: #D2E3FC;\n",
              "      --hover-bg-color: #434B5C;\n",
              "      --hover-fill-color: #FFFFFF;\n",
              "      --disabled-bg-color: #3B4455;\n",
              "      --disabled-fill-color: #666;\n",
              "  }\n",
              "\n",
              "  .colab-df-quickchart {\n",
              "    background-color: var(--bg-color);\n",
              "    border: none;\n",
              "    border-radius: 50%;\n",
              "    cursor: pointer;\n",
              "    display: none;\n",
              "    fill: var(--fill-color);\n",
              "    height: 32px;\n",
              "    padding: 0;\n",
              "    width: 32px;\n",
              "  }\n",
              "\n",
              "  .colab-df-quickchart:hover {\n",
              "    background-color: var(--hover-bg-color);\n",
              "    box-shadow: 0 1px 2px rgba(60, 64, 67, 0.3), 0 1px 3px 1px rgba(60, 64, 67, 0.15);\n",
              "    fill: var(--button-hover-fill-color);\n",
              "  }\n",
              "\n",
              "  .colab-df-quickchart-complete:disabled,\n",
              "  .colab-df-quickchart-complete:disabled:hover {\n",
              "    background-color: var(--disabled-bg-color);\n",
              "    fill: var(--disabled-fill-color);\n",
              "    box-shadow: none;\n",
              "  }\n",
              "\n",
              "  .colab-df-spinner {\n",
              "    border: 2px solid var(--fill-color);\n",
              "    border-color: transparent;\n",
              "    border-bottom-color: var(--fill-color);\n",
              "    animation:\n",
              "      spin 1s steps(1) infinite;\n",
              "  }\n",
              "\n",
              "  @keyframes spin {\n",
              "    0% {\n",
              "      border-color: transparent;\n",
              "      border-bottom-color: var(--fill-color);\n",
              "      border-left-color: var(--fill-color);\n",
              "    }\n",
              "    20% {\n",
              "      border-color: transparent;\n",
              "      border-left-color: var(--fill-color);\n",
              "      border-top-color: var(--fill-color);\n",
              "    }\n",
              "    30% {\n",
              "      border-color: transparent;\n",
              "      border-left-color: var(--fill-color);\n",
              "      border-top-color: var(--fill-color);\n",
              "      border-right-color: var(--fill-color);\n",
              "    }\n",
              "    40% {\n",
              "      border-color: transparent;\n",
              "      border-right-color: var(--fill-color);\n",
              "      border-top-color: var(--fill-color);\n",
              "    }\n",
              "    60% {\n",
              "      border-color: transparent;\n",
              "      border-right-color: var(--fill-color);\n",
              "    }\n",
              "    80% {\n",
              "      border-color: transparent;\n",
              "      border-right-color: var(--fill-color);\n",
              "      border-bottom-color: var(--fill-color);\n",
              "    }\n",
              "    90% {\n",
              "      border-color: transparent;\n",
              "      border-bottom-color: var(--fill-color);\n",
              "    }\n",
              "  }\n",
              "</style>\n",
              "\n",
              "  <script>\n",
              "    async function quickchart(key) {\n",
              "      const quickchartButtonEl =\n",
              "        document.querySelector('#' + key + ' button');\n",
              "      quickchartButtonEl.disabled = true;  // To prevent multiple clicks.\n",
              "      quickchartButtonEl.classList.add('colab-df-spinner');\n",
              "      try {\n",
              "        const charts = await google.colab.kernel.invokeFunction(\n",
              "            'suggestCharts', [key], {});\n",
              "      } catch (error) {\n",
              "        console.error('Error during call to suggestCharts:', error);\n",
              "      }\n",
              "      quickchartButtonEl.classList.remove('colab-df-spinner');\n",
              "      quickchartButtonEl.classList.add('colab-df-quickchart-complete');\n",
              "    }\n",
              "    (() => {\n",
              "      let quickchartButtonEl =\n",
              "        document.querySelector('#df-43d12d6a-43f4-4967-a82a-70ea3b688721 button');\n",
              "      quickchartButtonEl.style.display =\n",
              "        google.colab.kernel.accessAllowed ? 'block' : 'none';\n",
              "    })();\n",
              "  </script>\n",
              "</div>\n",
              "    </div>\n",
              "  </div>\n"
            ]
          },
          "metadata": {},
          "execution_count": 46
        }
      ]
    },
    {
      "cell_type": "code",
      "source": [
        "data_pivot = data_final.pivot_table(index=['category_name', 'subcategory_name'], columns='source', values='visits', aggfunc='sum')"
      ],
      "metadata": {
        "id": "b5weKo6gjMLG"
      },
      "execution_count": null,
      "outputs": []
    },
    {
      "cell_type": "code",
      "source": [
        "sales.pivot_table(index=['Product Family'], values='Product', aggfunc='nunique').sort_index()"
      ],
      "metadata": {
        "id": "qDocCNCMqc3D",
        "colab": {
          "base_uri": "https://localhost:8080/",
          "height": 833
        },
        "outputId": "28d78c40-2bfc-4ac0-ac63-857915df2275"
      },
      "execution_count": 37,
      "outputs": [
        {
          "output_type": "execute_result",
          "data": {
            "text/plain": [
              "                Product\n",
              "Product Family         \n",
              "FAM1                  6\n",
              "FAM10                 4\n",
              "FAM11                 4\n",
              "FAM12                 3\n",
              "FAM13                 3\n",
              "FAM14                 1\n",
              "FAM15                 1\n",
              "FAM16                 2\n",
              "FAM17                 1\n",
              "FAM18                 2\n",
              "FAM19                 1\n",
              "FAM2                  3\n",
              "FAM20                 1\n",
              "FAM21                 4\n",
              "FAM22                 1\n",
              "FAM23                 2\n",
              "FAM24                 1\n",
              "FAM3                  3\n",
              "FAM4                  2\n",
              "FAM5                  2\n",
              "FAM6                  1\n",
              "FAM7                  3\n",
              "FAM8                  4\n",
              "FAM9                  1"
            ],
            "text/html": [
              "\n",
              "  <div id=\"df-15ab44fd-354b-4bba-acec-ef7944cab172\" class=\"colab-df-container\">\n",
              "    <div>\n",
              "<style scoped>\n",
              "    .dataframe tbody tr th:only-of-type {\n",
              "        vertical-align: middle;\n",
              "    }\n",
              "\n",
              "    .dataframe tbody tr th {\n",
              "        vertical-align: top;\n",
              "    }\n",
              "\n",
              "    .dataframe thead th {\n",
              "        text-align: right;\n",
              "    }\n",
              "</style>\n",
              "<table border=\"1\" class=\"dataframe\">\n",
              "  <thead>\n",
              "    <tr style=\"text-align: right;\">\n",
              "      <th></th>\n",
              "      <th>Product</th>\n",
              "    </tr>\n",
              "    <tr>\n",
              "      <th>Product Family</th>\n",
              "      <th></th>\n",
              "    </tr>\n",
              "  </thead>\n",
              "  <tbody>\n",
              "    <tr>\n",
              "      <th>FAM1</th>\n",
              "      <td>6</td>\n",
              "    </tr>\n",
              "    <tr>\n",
              "      <th>FAM10</th>\n",
              "      <td>4</td>\n",
              "    </tr>\n",
              "    <tr>\n",
              "      <th>FAM11</th>\n",
              "      <td>4</td>\n",
              "    </tr>\n",
              "    <tr>\n",
              "      <th>FAM12</th>\n",
              "      <td>3</td>\n",
              "    </tr>\n",
              "    <tr>\n",
              "      <th>FAM13</th>\n",
              "      <td>3</td>\n",
              "    </tr>\n",
              "    <tr>\n",
              "      <th>FAM14</th>\n",
              "      <td>1</td>\n",
              "    </tr>\n",
              "    <tr>\n",
              "      <th>FAM15</th>\n",
              "      <td>1</td>\n",
              "    </tr>\n",
              "    <tr>\n",
              "      <th>FAM16</th>\n",
              "      <td>2</td>\n",
              "    </tr>\n",
              "    <tr>\n",
              "      <th>FAM17</th>\n",
              "      <td>1</td>\n",
              "    </tr>\n",
              "    <tr>\n",
              "      <th>FAM18</th>\n",
              "      <td>2</td>\n",
              "    </tr>\n",
              "    <tr>\n",
              "      <th>FAM19</th>\n",
              "      <td>1</td>\n",
              "    </tr>\n",
              "    <tr>\n",
              "      <th>FAM2</th>\n",
              "      <td>3</td>\n",
              "    </tr>\n",
              "    <tr>\n",
              "      <th>FAM20</th>\n",
              "      <td>1</td>\n",
              "    </tr>\n",
              "    <tr>\n",
              "      <th>FAM21</th>\n",
              "      <td>4</td>\n",
              "    </tr>\n",
              "    <tr>\n",
              "      <th>FAM22</th>\n",
              "      <td>1</td>\n",
              "    </tr>\n",
              "    <tr>\n",
              "      <th>FAM23</th>\n",
              "      <td>2</td>\n",
              "    </tr>\n",
              "    <tr>\n",
              "      <th>FAM24</th>\n",
              "      <td>1</td>\n",
              "    </tr>\n",
              "    <tr>\n",
              "      <th>FAM3</th>\n",
              "      <td>3</td>\n",
              "    </tr>\n",
              "    <tr>\n",
              "      <th>FAM4</th>\n",
              "      <td>2</td>\n",
              "    </tr>\n",
              "    <tr>\n",
              "      <th>FAM5</th>\n",
              "      <td>2</td>\n",
              "    </tr>\n",
              "    <tr>\n",
              "      <th>FAM6</th>\n",
              "      <td>1</td>\n",
              "    </tr>\n",
              "    <tr>\n",
              "      <th>FAM7</th>\n",
              "      <td>3</td>\n",
              "    </tr>\n",
              "    <tr>\n",
              "      <th>FAM8</th>\n",
              "      <td>4</td>\n",
              "    </tr>\n",
              "    <tr>\n",
              "      <th>FAM9</th>\n",
              "      <td>1</td>\n",
              "    </tr>\n",
              "  </tbody>\n",
              "</table>\n",
              "</div>\n",
              "    <div class=\"colab-df-buttons\">\n",
              "\n",
              "  <div class=\"colab-df-container\">\n",
              "    <button class=\"colab-df-convert\" onclick=\"convertToInteractive('df-15ab44fd-354b-4bba-acec-ef7944cab172')\"\n",
              "            title=\"Convert this dataframe to an interactive table.\"\n",
              "            style=\"display:none;\">\n",
              "\n",
              "  <svg xmlns=\"http://www.w3.org/2000/svg\" height=\"24px\" viewBox=\"0 -960 960 960\">\n",
              "    <path d=\"M120-120v-720h720v720H120Zm60-500h600v-160H180v160Zm220 220h160v-160H400v160Zm0 220h160v-160H400v160ZM180-400h160v-160H180v160Zm440 0h160v-160H620v160ZM180-180h160v-160H180v160Zm440 0h160v-160H620v160Z\"/>\n",
              "  </svg>\n",
              "    </button>\n",
              "\n",
              "  <style>\n",
              "    .colab-df-container {\n",
              "      display:flex;\n",
              "      gap: 12px;\n",
              "    }\n",
              "\n",
              "    .colab-df-convert {\n",
              "      background-color: #E8F0FE;\n",
              "      border: none;\n",
              "      border-radius: 50%;\n",
              "      cursor: pointer;\n",
              "      display: none;\n",
              "      fill: #1967D2;\n",
              "      height: 32px;\n",
              "      padding: 0 0 0 0;\n",
              "      width: 32px;\n",
              "    }\n",
              "\n",
              "    .colab-df-convert:hover {\n",
              "      background-color: #E2EBFA;\n",
              "      box-shadow: 0px 1px 2px rgba(60, 64, 67, 0.3), 0px 1px 3px 1px rgba(60, 64, 67, 0.15);\n",
              "      fill: #174EA6;\n",
              "    }\n",
              "\n",
              "    .colab-df-buttons div {\n",
              "      margin-bottom: 4px;\n",
              "    }\n",
              "\n",
              "    [theme=dark] .colab-df-convert {\n",
              "      background-color: #3B4455;\n",
              "      fill: #D2E3FC;\n",
              "    }\n",
              "\n",
              "    [theme=dark] .colab-df-convert:hover {\n",
              "      background-color: #434B5C;\n",
              "      box-shadow: 0px 1px 3px 1px rgba(0, 0, 0, 0.15);\n",
              "      filter: drop-shadow(0px 1px 2px rgba(0, 0, 0, 0.3));\n",
              "      fill: #FFFFFF;\n",
              "    }\n",
              "  </style>\n",
              "\n",
              "    <script>\n",
              "      const buttonEl =\n",
              "        document.querySelector('#df-15ab44fd-354b-4bba-acec-ef7944cab172 button.colab-df-convert');\n",
              "      buttonEl.style.display =\n",
              "        google.colab.kernel.accessAllowed ? 'block' : 'none';\n",
              "\n",
              "      async function convertToInteractive(key) {\n",
              "        const element = document.querySelector('#df-15ab44fd-354b-4bba-acec-ef7944cab172');\n",
              "        const dataTable =\n",
              "          await google.colab.kernel.invokeFunction('convertToInteractive',\n",
              "                                                    [key], {});\n",
              "        if (!dataTable) return;\n",
              "\n",
              "        const docLinkHtml = 'Like what you see? Visit the ' +\n",
              "          '<a target=\"_blank\" href=https://colab.research.google.com/notebooks/data_table.ipynb>data table notebook</a>'\n",
              "          + ' to learn more about interactive tables.';\n",
              "        element.innerHTML = '';\n",
              "        dataTable['output_type'] = 'display_data';\n",
              "        await google.colab.output.renderOutput(dataTable, element);\n",
              "        const docLink = document.createElement('div');\n",
              "        docLink.innerHTML = docLinkHtml;\n",
              "        element.appendChild(docLink);\n",
              "      }\n",
              "    </script>\n",
              "  </div>\n",
              "\n",
              "\n",
              "<div id=\"df-5aaad122-2559-42ad-9e29-5b6825104059\">\n",
              "  <button class=\"colab-df-quickchart\" onclick=\"quickchart('df-5aaad122-2559-42ad-9e29-5b6825104059')\"\n",
              "            title=\"Suggest charts.\"\n",
              "            style=\"display:none;\">\n",
              "\n",
              "<svg xmlns=\"http://www.w3.org/2000/svg\" height=\"24px\"viewBox=\"0 0 24 24\"\n",
              "     width=\"24px\">\n",
              "    <g>\n",
              "        <path d=\"M19 3H5c-1.1 0-2 .9-2 2v14c0 1.1.9 2 2 2h14c1.1 0 2-.9 2-2V5c0-1.1-.9-2-2-2zM9 17H7v-7h2v7zm4 0h-2V7h2v10zm4 0h-2v-4h2v4z\"/>\n",
              "    </g>\n",
              "</svg>\n",
              "  </button>\n",
              "\n",
              "<style>\n",
              "  .colab-df-quickchart {\n",
              "      --bg-color: #E8F0FE;\n",
              "      --fill-color: #1967D2;\n",
              "      --hover-bg-color: #E2EBFA;\n",
              "      --hover-fill-color: #174EA6;\n",
              "      --disabled-fill-color: #AAA;\n",
              "      --disabled-bg-color: #DDD;\n",
              "  }\n",
              "\n",
              "  [theme=dark] .colab-df-quickchart {\n",
              "      --bg-color: #3B4455;\n",
              "      --fill-color: #D2E3FC;\n",
              "      --hover-bg-color: #434B5C;\n",
              "      --hover-fill-color: #FFFFFF;\n",
              "      --disabled-bg-color: #3B4455;\n",
              "      --disabled-fill-color: #666;\n",
              "  }\n",
              "\n",
              "  .colab-df-quickchart {\n",
              "    background-color: var(--bg-color);\n",
              "    border: none;\n",
              "    border-radius: 50%;\n",
              "    cursor: pointer;\n",
              "    display: none;\n",
              "    fill: var(--fill-color);\n",
              "    height: 32px;\n",
              "    padding: 0;\n",
              "    width: 32px;\n",
              "  }\n",
              "\n",
              "  .colab-df-quickchart:hover {\n",
              "    background-color: var(--hover-bg-color);\n",
              "    box-shadow: 0 1px 2px rgba(60, 64, 67, 0.3), 0 1px 3px 1px rgba(60, 64, 67, 0.15);\n",
              "    fill: var(--button-hover-fill-color);\n",
              "  }\n",
              "\n",
              "  .colab-df-quickchart-complete:disabled,\n",
              "  .colab-df-quickchart-complete:disabled:hover {\n",
              "    background-color: var(--disabled-bg-color);\n",
              "    fill: var(--disabled-fill-color);\n",
              "    box-shadow: none;\n",
              "  }\n",
              "\n",
              "  .colab-df-spinner {\n",
              "    border: 2px solid var(--fill-color);\n",
              "    border-color: transparent;\n",
              "    border-bottom-color: var(--fill-color);\n",
              "    animation:\n",
              "      spin 1s steps(1) infinite;\n",
              "  }\n",
              "\n",
              "  @keyframes spin {\n",
              "    0% {\n",
              "      border-color: transparent;\n",
              "      border-bottom-color: var(--fill-color);\n",
              "      border-left-color: var(--fill-color);\n",
              "    }\n",
              "    20% {\n",
              "      border-color: transparent;\n",
              "      border-left-color: var(--fill-color);\n",
              "      border-top-color: var(--fill-color);\n",
              "    }\n",
              "    30% {\n",
              "      border-color: transparent;\n",
              "      border-left-color: var(--fill-color);\n",
              "      border-top-color: var(--fill-color);\n",
              "      border-right-color: var(--fill-color);\n",
              "    }\n",
              "    40% {\n",
              "      border-color: transparent;\n",
              "      border-right-color: var(--fill-color);\n",
              "      border-top-color: var(--fill-color);\n",
              "    }\n",
              "    60% {\n",
              "      border-color: transparent;\n",
              "      border-right-color: var(--fill-color);\n",
              "    }\n",
              "    80% {\n",
              "      border-color: transparent;\n",
              "      border-right-color: var(--fill-color);\n",
              "      border-bottom-color: var(--fill-color);\n",
              "    }\n",
              "    90% {\n",
              "      border-color: transparent;\n",
              "      border-bottom-color: var(--fill-color);\n",
              "    }\n",
              "  }\n",
              "</style>\n",
              "\n",
              "  <script>\n",
              "    async function quickchart(key) {\n",
              "      const quickchartButtonEl =\n",
              "        document.querySelector('#' + key + ' button');\n",
              "      quickchartButtonEl.disabled = true;  // To prevent multiple clicks.\n",
              "      quickchartButtonEl.classList.add('colab-df-spinner');\n",
              "      try {\n",
              "        const charts = await google.colab.kernel.invokeFunction(\n",
              "            'suggestCharts', [key], {});\n",
              "      } catch (error) {\n",
              "        console.error('Error during call to suggestCharts:', error);\n",
              "      }\n",
              "      quickchartButtonEl.classList.remove('colab-df-spinner');\n",
              "      quickchartButtonEl.classList.add('colab-df-quickchart-complete');\n",
              "    }\n",
              "    (() => {\n",
              "      let quickchartButtonEl =\n",
              "        document.querySelector('#df-5aaad122-2559-42ad-9e29-5b6825104059 button');\n",
              "      quickchartButtonEl.style.display =\n",
              "        google.colab.kernel.accessAllowed ? 'block' : 'none';\n",
              "    })();\n",
              "  </script>\n",
              "</div>\n",
              "    </div>\n",
              "  </div>\n"
            ]
          },
          "metadata": {},
          "execution_count": 37
        }
      ]
    },
    {
      "cell_type": "markdown",
      "source": [
        "Начнём с изучения объёма продаж по датам. Помним, что учитываем только положительные транзакции. В качестве дополнительного контроля посмотрим на различие динамики в разрезе значения валюты."
      ],
      "metadata": {
        "id": "RIfAB1PKiG_o"
      }
    },
    {
      "cell_type": "code",
      "source": [
        "plt.figure(figsize=(12, 7))\n",
        "plt.plot(sales_rub['Date'], sales_rub['Sales'], 'o-r', alpha=0.7, label=\"rub\", lw=5, mec='b', mew=2, ms=10, c='blue')\n",
        "#plt.plot(sales_chf['Date'], sales_chf['Sales'], type='hist', alpha=0.7, label=\"chf\", lw=5, color='r')\n",
        "plt.legend()\n",
        "plt.grid(True)"
      ],
      "metadata": {
        "colab": {
          "base_uri": "https://localhost:8080/",
          "height": 670
        },
        "id": "UDcLpVYfmRSY",
        "outputId": "53cac445-49de-487a-90ac-08e1d58955cf"
      },
      "execution_count": 71,
      "outputs": [
        {
          "output_type": "stream",
          "name": "stderr",
          "text": [
            "<ipython-input-71-6d99436924ec>:2: UserWarning: color is redundantly defined by the 'color' keyword argument and the fmt string \"o-r\" (-> color='r'). The keyword argument will take precedence.\n",
            "  plt.plot(sales_rub['Date'], sales_rub['Sales'], 'o-r', alpha=0.7, label=\"rub\", lw=5, mec='b', mew=2, ms=10, c='blue')\n"
          ]
        },
        {
          "output_type": "display_data",
          "data": {
            "text/plain": [
              "<Figure size 1200x700 with 1 Axes>"
            ],
            "image/png": "[encoded data removed]"
          },
          "metadata": {}
        }
      ]
    },
    {
      "cell_type": "markdown",
      "source": [
        "как исследования повлияли на продажи?\n",
        "\n",
        "\n",
        "\n",
        "среднемесячная выручка с клиента?\n",
        "\n",
        "количество клиентов?\n",
        "\n",
        "интерпр как timeseries?"
      ],
      "metadata": {
        "id": "BpMv5aK2RxaT"
      }
    }
  ]
}