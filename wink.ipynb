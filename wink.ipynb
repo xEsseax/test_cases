{
  "nbformat": 4,
  "nbformat_minor": 0,
  "metadata": {
    "colab": {
      "provenance": [],
      "authorship_tag": "ABX9TyNVJZHm6tQgi/beC+mPf2TX",
      "include_colab_link": true
    },
    "kernelspec": {
      "name": "python3",
      "display_name": "Python 3"
    },
    "language_info": {
      "name": "python"
    }
  },
  "cells": [
    {
      "cell_type": "markdown",
      "metadata": {
        "id": "view-in-github",
        "colab_type": "text"
      },
      "source": [
        "<a href=\"https://colab.research.google.com/github/xEsseax/test_cases/blob/main/wink.ipynb\" target=\"_parent\"><img src=\"https://colab.research.google.com/assets/colab-badge.svg\" alt=\"Open In Colab\"/></a>"
      ]
    },
    {
      "cell_type": "markdown",
      "source": [
        "! ДОПИСАТЬ ВВЕДЕНИЕ"
      ],
      "metadata": {
        "id": "TPApu2sXjTuh"
      }
    },
    {
      "cell_type": "markdown",
      "source": [
        "# Введение"
      ],
      "metadata": {
        "id": "aXctky30dSzp"
      }
    },
    {
      "cell_type": "markdown",
      "source": [
        "Анализ выполнен в рамках тестового задания в команду Wink.\n",
        "\n",
        "В нашем распоряжении данные продаж некой производственной фармацевтической компании, а также данные о количестве диагностированных пациентов. Данные неидеальны.\n",
        "\n",
        "Задача: обработать данные и выбрать наиболее важные выводы для демонстрации бизнесу. Ограничений по метрикам по условиям ТЗ нет.\n",
        "\n",
        "Предварительный план:\n",
        "1. Чтение и предварительный обзор данных. Изучение датасета на предмет наличия пропусков\n",
        "2."
      ],
      "metadata": {
        "id": "PlGCNZPPdZuv"
      }
    },
    {
      "cell_type": "markdown",
      "source": [
        "# Технический раздел"
      ],
      "metadata": {
        "id": "cBC-EFlIdKjA"
      }
    },
    {
      "cell_type": "code",
      "execution_count": 23,
      "metadata": {
        "id": "4tS9cyC3dDEu"
      },
      "outputs": [],
      "source": [
        "import pandas as pd\n",
        "import matplotlib.pyplot as plt"
      ]
    },
    {
      "cell_type": "code",
      "source": [
        "# функция для отрисовки распределения значений в одном столбце\n",
        "def column_draw(data, column):\n",
        "  data[column].hist()\n",
        "  plt.title(data[column].name)\n",
        "  plt.xlabel('meaning')\n",
        "  plt.ylabel('quantity')\n",
        "  plt.show()"
      ],
      "metadata": {
        "id": "_cr9D3_Muhkk"
      },
      "execution_count": 24,
      "outputs": []
    },
    {
      "cell_type": "code",
      "source": [
        "# функция для вывода описательной информации столбца\n",
        "def column_describe(data, column):\n",
        "  print(f'Количество уникальных значений = {len(data[column].unique())}')\n",
        "  print()\n",
        "  print('Количество значений в стоблце:')\n",
        "  print(data[column].value_counts())"
      ],
      "metadata": {
        "id": "xsWdG5ao6CGO"
      },
      "execution_count": 25,
      "outputs": []
    },
    {
      "cell_type": "markdown",
      "source": [
        "# Чтение и предварительный обзор данных"
      ],
      "metadata": {
        "id": "cq_ctSbWjbGO"
      }
    },
    {
      "cell_type": "code",
      "source": [
        "sales = pd.read_excel('Russia Data Analyst Data Set_original (1).xlsx', sheet_name='Sales')"
      ],
      "metadata": {
        "id": "2kxTQwUydRSL"
      },
      "execution_count": 26,
      "outputs": []
    },
    {
      "cell_type": "code",
      "source": [
        "# предварительный обзор структуры датасета\n",
        "sales.head()"
      ],
      "metadata": {
        "colab": {
          "base_uri": "https://localhost:8080/",
          "height": 206
        },
        "id": "Pv-4izO4jub6",
        "outputId": "31fede0e-f0de-4f2b-8491-1aa942bb4b21"
      },
      "execution_count": 27,
      "outputs": [
        {
          "output_type": "execute_result",
          "data": {
            "text/plain": [
              "  Product Family Product Customer Business Unit Currency                 Date  \\\n",
              "0           FAM1    Prd1    Cust1           NaN    M.CHF  2019-05-02 00:00:00   \n",
              "1           FAM1    Prd1    Cust1           NaN    M.CHF  28/02/2019 00:00:00   \n",
              "2           FAM1    Prd1    Cust1           NaN    M.CHF  29/03/2019 00:00:00   \n",
              "3           FAM1    Prd1    Cust1           NaN    M.CHF  31/03/2019 00:00:00   \n",
              "4           FAM1    Prd1    Cust1           NaN    M.CHF  15/04/2019 00:00:00   \n",
              "\n",
              "    Sales  \n",
              "0  473885  \n",
              "1  -23694  \n",
              "2   23694  \n",
              "3  -23694  \n",
              "4  -23694  "
            ],
            "text/html": [
              "\n",
              "  <div id=\"df-dbd7d119-967e-4199-a0be-d7ac5f5340d9\" class=\"colab-df-container\">\n",
              "    <div>\n",
              "<style scoped>\n",
              "    .dataframe tbody tr th:only-of-type {\n",
              "        vertical-align: middle;\n",
              "    }\n",
              "\n",
              "    .dataframe tbody tr th {\n",
              "        vertical-align: top;\n",
              "    }\n",
              "\n",
              "    .dataframe thead th {\n",
              "        text-align: right;\n",
              "    }\n",
              "</style>\n",
              "<table border=\"1\" class=\"dataframe\">\n",
              "  <thead>\n",
              "    <tr style=\"text-align: right;\">\n",
              "      <th></th>\n",
              "      <th>Product Family</th>\n",
              "      <th>Product</th>\n",
              "      <th>Customer</th>\n",
              "      <th>Business Unit</th>\n",
              "      <th>Currency</th>\n",
              "      <th>Date</th>\n",
              "      <th>Sales</th>\n",
              "    </tr>\n",
              "  </thead>\n",
              "  <tbody>\n",
              "    <tr>\n",
              "      <th>0</th>\n",
              "      <td>FAM1</td>\n",
              "      <td>Prd1</td>\n",
              "      <td>Cust1</td>\n",
              "      <td>NaN</td>\n",
              "      <td>M.CHF</td>\n",
              "      <td>2019-05-02 00:00:00</td>\n",
              "      <td>473885</td>\n",
              "    </tr>\n",
              "    <tr>\n",
              "      <th>1</th>\n",
              "      <td>FAM1</td>\n",
              "      <td>Prd1</td>\n",
              "      <td>Cust1</td>\n",
              "      <td>NaN</td>\n",
              "      <td>M.CHF</td>\n",
              "      <td>28/02/2019 00:00:00</td>\n",
              "      <td>-23694</td>\n",
              "    </tr>\n",
              "    <tr>\n",
              "      <th>2</th>\n",
              "      <td>FAM1</td>\n",
              "      <td>Prd1</td>\n",
              "      <td>Cust1</td>\n",
              "      <td>NaN</td>\n",
              "      <td>M.CHF</td>\n",
              "      <td>29/03/2019 00:00:00</td>\n",
              "      <td>23694</td>\n",
              "    </tr>\n",
              "    <tr>\n",
              "      <th>3</th>\n",
              "      <td>FAM1</td>\n",
              "      <td>Prd1</td>\n",
              "      <td>Cust1</td>\n",
              "      <td>NaN</td>\n",
              "      <td>M.CHF</td>\n",
              "      <td>31/03/2019 00:00:00</td>\n",
              "      <td>-23694</td>\n",
              "    </tr>\n",
              "    <tr>\n",
              "      <th>4</th>\n",
              "      <td>FAM1</td>\n",
              "      <td>Prd1</td>\n",
              "      <td>Cust1</td>\n",
              "      <td>NaN</td>\n",
              "      <td>M.CHF</td>\n",
              "      <td>15/04/2019 00:00:00</td>\n",
              "      <td>-23694</td>\n",
              "    </tr>\n",
              "  </tbody>\n",
              "</table>\n",
              "</div>\n",
              "    <div class=\"colab-df-buttons\">\n",
              "\n",
              "  <div class=\"colab-df-container\">\n",
              "    <button class=\"colab-df-convert\" onclick=\"convertToInteractive('df-dbd7d119-967e-4199-a0be-d7ac5f5340d9')\"\n",
              "            title=\"Convert this dataframe to an interactive table.\"\n",
              "            style=\"display:none;\">\n",
              "\n",
              "  <svg xmlns=\"http://www.w3.org/2000/svg\" height=\"24px\" viewBox=\"0 -960 960 960\">\n",
              "    <path d=\"M120-120v-720h720v720H120Zm60-500h600v-160H180v160Zm220 220h160v-160H400v160Zm0 220h160v-160H400v160ZM180-400h160v-160H180v160Zm440 0h160v-160H620v160ZM180-180h160v-160H180v160Zm440 0h160v-160H620v160Z\"/>\n",
              "  </svg>\n",
              "    </button>\n",
              "\n",
              "  <style>\n",
              "    .colab-df-container {\n",
              "      display:flex;\n",
              "      gap: 12px;\n",
              "    }\n",
              "\n",
              "    .colab-df-convert {\n",
              "      background-color: #E8F0FE;\n",
              "      border: none;\n",
              "      border-radius: 50%;\n",
              "      cursor: pointer;\n",
              "      display: none;\n",
              "      fill: #1967D2;\n",
              "      height: 32px;\n",
              "      padding: 0 0 0 0;\n",
              "      width: 32px;\n",
              "    }\n",
              "\n",
              "    .colab-df-convert:hover {\n",
              "      background-color: #E2EBFA;\n",
              "      box-shadow: 0px 1px 2px rgba(60, 64, 67, 0.3), 0px 1px 3px 1px rgba(60, 64, 67, 0.15);\n",
              "      fill: #174EA6;\n",
              "    }\n",
              "\n",
              "    .colab-df-buttons div {\n",
              "      margin-bottom: 4px;\n",
              "    }\n",
              "\n",
              "    [theme=dark] .colab-df-convert {\n",
              "      background-color: #3B4455;\n",
              "      fill: #D2E3FC;\n",
              "    }\n",
              "\n",
              "    [theme=dark] .colab-df-convert:hover {\n",
              "      background-color: #434B5C;\n",
              "      box-shadow: 0px 1px 3px 1px rgba(0, 0, 0, 0.15);\n",
              "      filter: drop-shadow(0px 1px 2px rgba(0, 0, 0, 0.3));\n",
              "      fill: #FFFFFF;\n",
              "    }\n",
              "  </style>\n",
              "\n",
              "    <script>\n",
              "      const buttonEl =\n",
              "        document.querySelector('#df-dbd7d119-967e-4199-a0be-d7ac5f5340d9 button.colab-df-convert');\n",
              "      buttonEl.style.display =\n",
              "        google.colab.kernel.accessAllowed ? 'block' : 'none';\n",
              "\n",
              "      async function convertToInteractive(key) {\n",
              "        const element = document.querySelector('#df-dbd7d119-967e-4199-a0be-d7ac5f5340d9');\n",
              "        const dataTable =\n",
              "          await google.colab.kernel.invokeFunction('convertToInteractive',\n",
              "                                                    [key], {});\n",
              "        if (!dataTable) return;\n",
              "\n",
              "        const docLinkHtml = 'Like what you see? Visit the ' +\n",
              "          '<a target=\"_blank\" href=https://colab.research.google.com/notebooks/data_table.ipynb>data table notebook</a>'\n",
              "          + ' to learn more about interactive tables.';\n",
              "        element.innerHTML = '';\n",
              "        dataTable['output_type'] = 'display_data';\n",
              "        await google.colab.output.renderOutput(dataTable, element);\n",
              "        const docLink = document.createElement('div');\n",
              "        docLink.innerHTML = docLinkHtml;\n",
              "        element.appendChild(docLink);\n",
              "      }\n",
              "    </script>\n",
              "  </div>\n",
              "\n",
              "\n",
              "<div id=\"df-232f989b-a39f-4785-93bc-81d0623e562c\">\n",
              "  <button class=\"colab-df-quickchart\" onclick=\"quickchart('df-232f989b-a39f-4785-93bc-81d0623e562c')\"\n",
              "            title=\"Suggest charts.\"\n",
              "            style=\"display:none;\">\n",
              "\n",
              "<svg xmlns=\"http://www.w3.org/2000/svg\" height=\"24px\"viewBox=\"0 0 24 24\"\n",
              "     width=\"24px\">\n",
              "    <g>\n",
              "        <path d=\"M19 3H5c-1.1 0-2 .9-2 2v14c0 1.1.9 2 2 2h14c1.1 0 2-.9 2-2V5c0-1.1-.9-2-2-2zM9 17H7v-7h2v7zm4 0h-2V7h2v10zm4 0h-2v-4h2v4z\"/>\n",
              "    </g>\n",
              "</svg>\n",
              "  </button>\n",
              "\n",
              "<style>\n",
              "  .colab-df-quickchart {\n",
              "      --bg-color: #E8F0FE;\n",
              "      --fill-color: #1967D2;\n",
              "      --hover-bg-color: #E2EBFA;\n",
              "      --hover-fill-color: #174EA6;\n",
              "      --disabled-fill-color: #AAA;\n",
              "      --disabled-bg-color: #DDD;\n",
              "  }\n",
              "\n",
              "  [theme=dark] .colab-df-quickchart {\n",
              "      --bg-color: #3B4455;\n",
              "      --fill-color: #D2E3FC;\n",
              "      --hover-bg-color: #434B5C;\n",
              "      --hover-fill-color: #FFFFFF;\n",
              "      --disabled-bg-color: #3B4455;\n",
              "      --disabled-fill-color: #666;\n",
              "  }\n",
              "\n",
              "  .colab-df-quickchart {\n",
              "    background-color: var(--bg-color);\n",
              "    border: none;\n",
              "    border-radius: 50%;\n",
              "    cursor: pointer;\n",
              "    display: none;\n",
              "    fill: var(--fill-color);\n",
              "    height: 32px;\n",
              "    padding: 0;\n",
              "    width: 32px;\n",
              "  }\n",
              "\n",
              "  .colab-df-quickchart:hover {\n",
              "    background-color: var(--hover-bg-color);\n",
              "    box-shadow: 0 1px 2px rgba(60, 64, 67, 0.3), 0 1px 3px 1px rgba(60, 64, 67, 0.15);\n",
              "    fill: var(--button-hover-fill-color);\n",
              "  }\n",
              "\n",
              "  .colab-df-quickchart-complete:disabled,\n",
              "  .colab-df-quickchart-complete:disabled:hover {\n",
              "    background-color: var(--disabled-bg-color);\n",
              "    fill: var(--disabled-fill-color);\n",
              "    box-shadow: none;\n",
              "  }\n",
              "\n",
              "  .colab-df-spinner {\n",
              "    border: 2px solid var(--fill-color);\n",
              "    border-color: transparent;\n",
              "    border-bottom-color: var(--fill-color);\n",
              "    animation:\n",
              "      spin 1s steps(1) infinite;\n",
              "  }\n",
              "\n",
              "  @keyframes spin {\n",
              "    0% {\n",
              "      border-color: transparent;\n",
              "      border-bottom-color: var(--fill-color);\n",
              "      border-left-color: var(--fill-color);\n",
              "    }\n",
              "    20% {\n",
              "      border-color: transparent;\n",
              "      border-left-color: var(--fill-color);\n",
              "      border-top-color: var(--fill-color);\n",
              "    }\n",
              "    30% {\n",
              "      border-color: transparent;\n",
              "      border-left-color: var(--fill-color);\n",
              "      border-top-color: var(--fill-color);\n",
              "      border-right-color: var(--fill-color);\n",
              "    }\n",
              "    40% {\n",
              "      border-color: transparent;\n",
              "      border-right-color: var(--fill-color);\n",
              "      border-top-color: var(--fill-color);\n",
              "    }\n",
              "    60% {\n",
              "      border-color: transparent;\n",
              "      border-right-color: var(--fill-color);\n",
              "    }\n",
              "    80% {\n",
              "      border-color: transparent;\n",
              "      border-right-color: var(--fill-color);\n",
              "      border-bottom-color: var(--fill-color);\n",
              "    }\n",
              "    90% {\n",
              "      border-color: transparent;\n",
              "      border-bottom-color: var(--fill-color);\n",
              "    }\n",
              "  }\n",
              "</style>\n",
              "\n",
              "  <script>\n",
              "    async function quickchart(key) {\n",
              "      const quickchartButtonEl =\n",
              "        document.querySelector('#' + key + ' button');\n",
              "      quickchartButtonEl.disabled = true;  // To prevent multiple clicks.\n",
              "      quickchartButtonEl.classList.add('colab-df-spinner');\n",
              "      try {\n",
              "        const charts = await google.colab.kernel.invokeFunction(\n",
              "            'suggestCharts', [key], {});\n",
              "      } catch (error) {\n",
              "        console.error('Error during call to suggestCharts:', error);\n",
              "      }\n",
              "      quickchartButtonEl.classList.remove('colab-df-spinner');\n",
              "      quickchartButtonEl.classList.add('colab-df-quickchart-complete');\n",
              "    }\n",
              "    (() => {\n",
              "      let quickchartButtonEl =\n",
              "        document.querySelector('#df-232f989b-a39f-4785-93bc-81d0623e562c button');\n",
              "      quickchartButtonEl.style.display =\n",
              "        google.colab.kernel.accessAllowed ? 'block' : 'none';\n",
              "    })();\n",
              "  </script>\n",
              "</div>\n",
              "    </div>\n",
              "  </div>\n"
            ]
          },
          "metadata": {},
          "execution_count": 27
        }
      ]
    },
    {
      "cell_type": "code",
      "source": [
        "# количество и тип данных\n",
        "sales.info()"
      ],
      "metadata": {
        "colab": {
          "base_uri": "https://localhost:8080/"
        },
        "id": "SVwR8Mv_juVd",
        "outputId": "c54547c2-9ad4-47ec-c5b7-d79cbc4a9192"
      },
      "execution_count": 28,
      "outputs": [
        {
          "output_type": "stream",
          "name": "stdout",
          "text": [
            "<class 'pandas.core.frame.DataFrame'>\n",
            "RangeIndex: 5576 entries, 0 to 5575\n",
            "Data columns (total 7 columns):\n",
            " #   Column          Non-Null Count  Dtype \n",
            "---  ------          --------------  ----- \n",
            " 0   Product Family  5576 non-null   object\n",
            " 1   Product         5576 non-null   object\n",
            " 2   Customer        5576 non-null   object\n",
            " 3   Business Unit   3072 non-null   object\n",
            " 4   Currency        5576 non-null   object\n",
            " 5   Date            5576 non-null   object\n",
            " 6   Sales           5576 non-null   int64 \n",
            "dtypes: int64(1), object(6)\n",
            "memory usage: 305.1+ KB\n"
          ]
        }
      ]
    },
    {
      "cell_type": "markdown",
      "source": [
        "Итого, у нас пять с половиной тысяч строк, 7 столбцов, 1 - с числовым типом данных, остальные - строковые. В столбце Business Unit почти 40 процентов явных пропусков.\n",
        "\n",
        "Дальше посмотрим отдельно на каждый столбец"
      ],
      "metadata": {
        "id": "UOH_HDn0oZOs"
      }
    },
    {
      "cell_type": "markdown",
      "source": [
        "## Product Family"
      ],
      "metadata": {
        "id": "t3vsNy1Kr0sd"
      }
    },
    {
      "cell_type": "code",
      "source": [
        "plt.figure(figsize=(12, 4), layout=\"constrained\")\n",
        "column_draw(sales, 'Product Family')"
      ],
      "metadata": {
        "colab": {
          "base_uri": "https://localhost:8080/",
          "height": 425
        },
        "id": "E8hl3u2vuWAY",
        "outputId": "2ab5cd2e-9288-4229-d4c7-140880ad0060"
      },
      "execution_count": 29,
      "outputs": [
        {
          "output_type": "display_data",
          "data": {
            "text/plain": [
              "<Figure size 1200x400 with 1 Axes>"
            ],
            "image/png": "[encoded data removed]"
          },
          "metadata": {}
        }
      ]
    },
    {
      "cell_type": "markdown",
      "source": [
        "Попусков нет, признак категориальный. У нас 24 категории продуктов. Из гистограммы видно, что самые популярные в данных группы - 11 и 12 (суммарно чуть больше 40 процентов всех данных), наименее популярные - 4, 5, 20 и 21."
      ],
      "metadata": {
        "id": "pzilgvPvyGnX"
      }
    },
    {
      "cell_type": "markdown",
      "source": [
        "# Product"
      ],
      "metadata": {
        "id": "c3rNSJn704aP"
      }
    },
    {
      "cell_type": "markdown",
      "source": [
        "Предполагается, что это вид продукта, категориальный признак. Гистограмму строить не будем - скорее всего здесь много вариантов значений. Проверяем:"
      ],
      "metadata": {
        "id": "Zw_EF_L7087h"
      }
    },
    {
      "cell_type": "code",
      "source": [
        "column_describe(sales, 'Product')"
      ],
      "metadata": {
        "colab": {
          "base_uri": "https://localhost:8080/"
        },
        "id": "3yndQJvS6WT0",
        "outputId": "bfbb1e13-0ac2-4ef7-b1e0-3ce6af0ca7f9"
      },
      "execution_count": 31,
      "outputs": [
        {
          "output_type": "stream",
          "name": "stdout",
          "text": [
            "Количество уникальных значений = 56\n",
            "\n",
            "Количество значений в стоблце:\n",
            "Prd17    382\n",
            "Prd32    298\n",
            "Prd33    292\n",
            "Prd27    264\n",
            "Prd45    248\n",
            "Prd30    236\n",
            "Prd53    230\n",
            "Prd44    218\n",
            "Prd4     192\n",
            "Prd46    184\n",
            "Prd31    184\n",
            "Prd37    182\n",
            "Prd42    180\n",
            "Prd43    174\n",
            "Prd48    170\n",
            "Prd47    166\n",
            "Prd9     166\n",
            "Prd19    102\n",
            "Prd28     80\n",
            "Prd11     80\n",
            "Prd22     78\n",
            "Prd10     78\n",
            "Prd24     76\n",
            "Prd26     76\n",
            "Prd14     76\n",
            "Prd8      74\n",
            "Prd36     74\n",
            "Prd38     72\n",
            "Prd20     66\n",
            "Prd34     64\n",
            "Prd35     62\n",
            "Prd16     60\n",
            "Prd1      58\n",
            "Prd2      58\n",
            "Prd13     56\n",
            "Prd40     54\n",
            "Prd15     52\n",
            "Prd54     52\n",
            "Prd55     50\n",
            "Prd21     48\n",
            "Prd18     46\n",
            "Prd12     44\n",
            "Prd39     36\n",
            "Prd56     32\n",
            "Prd41     24\n",
            "Prd25     18\n",
            "Prd7      18\n",
            "Prd5      10\n",
            "Prd3       8\n",
            "Prd52      6\n",
            "Prd23      4\n",
            "Prd49      4\n",
            "Prd50      4\n",
            "Prd51      4\n",
            "Prd29      4\n",
            "Prd6       2\n",
            "Name: Product, dtype: int64\n"
          ]
        }
      ]
    },
    {
      "cell_type": "markdown",
      "source": [
        "Итого, у нас 56 разных продуктов, явных пропусков нет, неявных - тоже. Есть как продукты, которые значительно представлены в выборке (более ста строк), так и те, которые представлены в единичных объёмах. Вопрос о репрезентативности статистики по таким продуктам будем рассматривать в соответствующем разделе, здесь же ограничимся пока кратким обзором."
      ],
      "metadata": {
        "id": "4wO42J1R4lf-"
      }
    },
    {
      "cell_type": "markdown",
      "source": [
        "## Customer"
      ],
      "metadata": {
        "id": "oLtt_GmU5KVJ"
      }
    },
    {
      "cell_type": "markdown",
      "source": [
        "Категориальный признак с идентификатором покупателя. Предполагаем здесь большое количество разных значений, обзорную гистограмму тоже не будем строить."
      ],
      "metadata": {
        "id": "MZFufqG35NWR"
      }
    },
    {
      "cell_type": "code",
      "source": [
        "column_describe(sales, 'Customer')"
      ],
      "metadata": {
        "colab": {
          "base_uri": "https://localhost:8080/"
        },
        "id": "222tQNQR6rlj",
        "outputId": "9af8ec83-395f-43b0-bda7-54c7925b4747"
      },
      "execution_count": 32,
      "outputs": [
        {
          "output_type": "stream",
          "name": "stdout",
          "text": [
            "Количество уникальных значений = 37\n",
            "\n",
            "Количество значений в стоблце:\n",
            "Cust12    1016\n",
            "Cust29     672\n",
            "Cust27     546\n",
            "Cust3      496\n",
            "Cust30     486\n",
            "Cust23     322\n",
            "Cust5      286\n",
            "Cust7      214\n",
            "Cust17     192\n",
            "Cust9      172\n",
            "Cust6      154\n",
            "Cust1      144\n",
            "Cust28     122\n",
            "Cust24      98\n",
            "Cust10      96\n",
            "Cust4       90\n",
            "Cust11      64\n",
            "Cust25      62\n",
            "Cust26      60\n",
            "Cust2       48\n",
            "Cust34      40\n",
            "Cust35      36\n",
            "Cust31      34\n",
            "Cust37      32\n",
            "Cust22      16\n",
            "Cust15      16\n",
            "Cust21      14\n",
            "Cust19      12\n",
            "Cust8       10\n",
            "Cust20       6\n",
            "Cust18       4\n",
            "Cust16       4\n",
            "Cust13       4\n",
            "Cust14       2\n",
            "Cust32       2\n",
            "Cust33       2\n",
            "Cust36       2\n",
            "Name: Customer, dtype: int64\n"
          ]
        }
      ]
    },
    {
      "cell_type": "markdown",
      "source": [
        "Итого, у нас 37 уникальных покупателей, среди них есть как очень крупный (более тысячи покупок, возможно поставщик), так и постоянные клиенты (несколько сотен покупок), а также покупатели с разовыми покупками. Вероятно, при проведении исследовательского анализа можно будет разбить покупателей по группам, ориентируясь на количество покупок."
      ],
      "metadata": {
        "id": "1y6pIoqcAolb"
      }
    },
    {
      "cell_type": "markdown",
      "source": [
        "## Business Unit"
      ],
      "metadata": {
        "id": "ohpCqTF4BT2Z"
      }
    },
    {
      "cell_type": "markdown",
      "source": [
        "Бизнес-единица - вероятно, дочерние компании. Предполагаем, что это качественный признак. Посмотрим на вариативность значений в этом столбце:"
      ],
      "metadata": {
        "id": "qvoExMPpBYio"
      }
    },
    {
      "cell_type": "code",
      "source": [
        "column_draw(sales, 'Business Unit')"
      ],
      "metadata": {
        "colab": {
          "base_uri": "https://localhost:8080/",
          "height": 472
        },
        "id": "oVQSkqnTOiNA",
        "outputId": "29baa9b2-64ed-4d92-c81b-6604a238d54f"
      },
      "execution_count": 35,
      "outputs": [
        {
          "output_type": "display_data",
          "data": {
            "text/plain": [
              "<Figure size 640x480 with 1 Axes>"
            ],
            "image/png": "[encoded data removed]"
          },
          "metadata": {}
        }
      ]
    },
    {
      "cell_type": "markdown",
      "source": [
        "Около половины датасета - Speciality Business, порядка 13 процентов - Онкология. Столбцец содержит пропуски. Предполагаем, что пропуск в данном случае соответствует ситуации, когда продажи были совершены напрямую компанией. Для удобства дальнейшей работы с данными заполняем пропуски заглушкой - пусть таким ситуациям соответствует значение \"Head\""
      ],
      "metadata": {
        "id": "xscFcU8dPhhy"
      }
    },
    {
      "cell_type": "code",
      "source": [
        "sales['Business Unit'] = sales['Business Unit'].fillna('Head')"
      ],
      "metadata": {
        "id": "F1k4eiOwSSgJ"
      },
      "execution_count": 34,
      "outputs": []
    },
    {
      "cell_type": "markdown",
      "source": [
        "Итого знаем, что чуть больше половины всех продах имеющейся выборки совершены напрямую компанией."
      ],
      "metadata": {
        "id": "0fuhwMzX5HEy"
      }
    },
    {
      "cell_type": "markdown",
      "source": [
        "# Currency"
      ],
      "metadata": {
        "id": "IcojW1BQXTVN"
      }
    },
    {
      "cell_type": "markdown",
      "source": [
        "Предположительно валюта, в которой был произведён расчёт. Посмотрим на значения:"
      ],
      "metadata": {
        "id": "JqcVyAS1XaO2"
      }
    },
    {
      "cell_type": "code",
      "source": [
        "column_draw(sales, 'Currency')"
      ],
      "metadata": {
        "colab": {
          "base_uri": "https://localhost:8080/",
          "height": 472
        },
        "id": "98uz8sCvXsNV",
        "outputId": "577e638e-e318-4093-814f-b963a5f3987a"
      },
      "execution_count": 36,
      "outputs": [
        {
          "output_type": "display_data",
          "data": {
            "text/plain": [
              "<Figure size 640x480 with 1 Axes>"
            ],
            "image/png": "[encoded data removed]"
          },
          "metadata": {}
        }
      ]
    },
    {
      "cell_type": "markdown",
      "source": [
        "Итого, у нас две валюты -"
      ],
      "metadata": {
        "id": "KFEnH5eJX1nQ"
      }
    },
    {
      "cell_type": "markdown",
      "source": [
        "\n",
        " 4   Currency        5576 non-null   object\n",
        " 5   Date            5576 non-null   object\n",
        " 6   Sales           5576 non-null   int64"
      ],
      "metadata": {
        "id": "e8UnFaMf5Gp7"
      }
    }
  ]
}